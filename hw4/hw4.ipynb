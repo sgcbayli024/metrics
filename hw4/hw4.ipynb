{
 "cells": [
  {
   "cell_type": "markdown",
   "metadata": {},
   "source": [
    "## **Applied Econometrics**"
   ]
  },
  {
   "cell_type": "markdown",
   "metadata": {},
   "source": [
    "### **Assignment 4: Income and Savings from the PSID**"
   ]
  },
  {
   "cell_type": "markdown",
   "metadata": {},
   "source": [
    "#### *Conor Bayliss*"
   ]
  },
  {
   "cell_type": "markdown",
   "metadata": {},
   "source": [
    "##### **Data cleaning**"
   ]
  },
  {
   "cell_type": "markdown",
   "metadata": {},
   "source": [
    "In this assignment, we'll start working with data from the PSID. \n",
    "\n",
    "To begin with, let's load the data and pull out the variables we are interested in using. These are:\n",
    "* person identifiers, `person`\n",
    "* year, `year`\n",
    "* total income, `y`\n",
    "* savings, `tot_assets1`, and `asset`\n",
    "* age, `age`\n",
    "Let's load in the data following Jo's code."
   ]
  },
  {
   "cell_type": "code",
   "execution_count": 2,
   "metadata": {},
   "outputs": [
    {
     "data": {
      "text/html": [
       "<div><div style = \"float: left;\"><span>19317×6 DataFrame</span></div><div style = \"float: right;\"><span style = \"font-style: italic;\">19292 rows omitted</span></div><div style = \"clear: both;\"></div></div><div class = \"data-frame\" style = \"overflow-x: scroll;\"><table class = \"data-frame\" style = \"margin-bottom: 6px;\"><thead><tr class = \"header\"><th class = \"rowNumber\" style = \"font-weight: bold; text-align: right;\">Row</th><th style = \"text-align: left;\">person</th><th style = \"text-align: left;\">y</th><th style = \"text-align: left;\">tot_assets1</th><th style = \"text-align: left;\">asset</th><th style = \"text-align: left;\">age</th><th style = \"text-align: left;\">year</th></tr><tr class = \"subheader headerLastRow\"><th class = \"rowNumber\" style = \"font-weight: bold; text-align: right;\"></th><th title = \"Int64\" style = \"text-align: left;\">Int64</th><th title = \"Int64\" style = \"text-align: left;\">Int64</th><th title = \"Int64\" style = \"text-align: left;\">Int64</th><th title = \"Float64\" style = \"text-align: left;\">Float64</th><th title = \"Int64\" style = \"text-align: left;\">Int64</th><th title = \"Int64\" style = \"text-align: left;\">Int64</th></tr></thead><tbody><tr><td class = \"rowNumber\" style = \"font-weight: bold; text-align: right;\">1</td><td style = \"text-align: right;\">12061</td><td style = \"text-align: right;\">173100</td><td style = \"text-align: right;\">605000</td><td style = \"text-align: right;\">15500.0</td><td style = \"text-align: right;\">65</td><td style = \"text-align: right;\">98</td></tr><tr><td class = \"rowNumber\" style = \"font-weight: bold; text-align: right;\">2</td><td style = \"text-align: right;\">17118</td><td style = \"text-align: right;\">54000</td><td style = \"text-align: right;\">60000</td><td style = \"text-align: right;\">0.0</td><td style = \"text-align: right;\">49</td><td style = \"text-align: right;\">98</td></tr><tr><td class = \"rowNumber\" style = \"font-weight: bold; text-align: right;\">3</td><td style = \"text-align: right;\">12630</td><td style = \"text-align: right;\">61283</td><td style = \"text-align: right;\">224000</td><td style = \"text-align: right;\">39283.0</td><td style = \"text-align: right;\">59</td><td style = \"text-align: right;\">98</td></tr><tr><td class = \"rowNumber\" style = \"font-weight: bold; text-align: right;\">4</td><td style = \"text-align: right;\">12647</td><td style = \"text-align: right;\">42300</td><td style = \"text-align: right;\">28240</td><td style = \"text-align: right;\">0.0</td><td style = \"text-align: right;\">38</td><td style = \"text-align: right;\">98</td></tr><tr><td class = \"rowNumber\" style = \"font-weight: bold; text-align: right;\">5</td><td style = \"text-align: right;\">5239</td><td style = \"text-align: right;\">82275</td><td style = \"text-align: right;\">7500</td><td style = \"text-align: right;\">0.0</td><td style = \"text-align: right;\">56</td><td style = \"text-align: right;\">98</td></tr><tr><td class = \"rowNumber\" style = \"font-weight: bold; text-align: right;\">6</td><td style = \"text-align: right;\">2671</td><td style = \"text-align: right;\">69501</td><td style = \"text-align: right;\">48000</td><td style = \"text-align: right;\">3600.0</td><td style = \"text-align: right;\">35</td><td style = \"text-align: right;\">98</td></tr><tr><td class = \"rowNumber\" style = \"font-weight: bold; text-align: right;\">7</td><td style = \"text-align: right;\">13027</td><td style = \"text-align: right;\">68000</td><td style = \"text-align: right;\">148000</td><td style = \"text-align: right;\">20000.0</td><td style = \"text-align: right;\">49</td><td style = \"text-align: right;\">98</td></tr><tr><td class = \"rowNumber\" style = \"font-weight: bold; text-align: right;\">8</td><td style = \"text-align: right;\">6791</td><td style = \"text-align: right;\">93758</td><td style = \"text-align: right;\">80000</td><td style = \"text-align: right;\">160.0</td><td style = \"text-align: right;\">41</td><td style = \"text-align: right;\">98</td></tr><tr><td class = \"rowNumber\" style = \"font-weight: bold; text-align: right;\">9</td><td style = \"text-align: right;\">6475</td><td style = \"text-align: right;\">26581</td><td style = \"text-align: right;\">23300</td><td style = \"text-align: right;\">0.0</td><td style = \"text-align: right;\">35</td><td style = \"text-align: right;\">98</td></tr><tr><td class = \"rowNumber\" style = \"font-weight: bold; text-align: right;\">10</td><td style = \"text-align: right;\">18332</td><td style = \"text-align: right;\">33785</td><td style = \"text-align: right;\">0</td><td style = \"text-align: right;\">0.0</td><td style = \"text-align: right;\">42</td><td style = \"text-align: right;\">98</td></tr><tr><td class = \"rowNumber\" style = \"font-weight: bold; text-align: right;\">11</td><td style = \"text-align: right;\">3856</td><td style = \"text-align: right;\">55300</td><td style = \"text-align: right;\">311000</td><td style = \"text-align: right;\">5300.0</td><td style = \"text-align: right;\">33</td><td style = \"text-align: right;\">98</td></tr><tr><td class = \"rowNumber\" style = \"font-weight: bold; text-align: right;\">12</td><td style = \"text-align: right;\">19326</td><td style = \"text-align: right;\">40200</td><td style = \"text-align: right;\">105250</td><td style = \"text-align: right;\">0.0</td><td style = \"text-align: right;\">40</td><td style = \"text-align: right;\">98</td></tr><tr><td class = \"rowNumber\" style = \"font-weight: bold; text-align: right;\">13</td><td style = \"text-align: right;\">21818</td><td style = \"text-align: right;\">42500</td><td style = \"text-align: right;\">13000</td><td style = \"text-align: right;\">0.0</td><td style = \"text-align: right;\">36</td><td style = \"text-align: right;\">98</td></tr><tr><td style = \"text-align: right;\">&vellip;</td><td style = \"text-align: right;\">&vellip;</td><td style = \"text-align: right;\">&vellip;</td><td style = \"text-align: right;\">&vellip;</td><td style = \"text-align: right;\">&vellip;</td><td style = \"text-align: right;\">&vellip;</td><td style = \"text-align: right;\">&vellip;</td></tr><tr><td class = \"rowNumber\" style = \"font-weight: bold; text-align: right;\">19306</td><td style = \"text-align: right;\">6617</td><td style = \"text-align: right;\">115887</td><td style = \"text-align: right;\">241000</td><td style = \"text-align: right;\">21346.0</td><td style = \"text-align: right;\">62</td><td style = \"text-align: right;\">108</td></tr><tr><td class = \"rowNumber\" style = \"font-weight: bold; text-align: right;\">19307</td><td style = \"text-align: right;\">626</td><td style = \"text-align: right;\">128600</td><td style = \"text-align: right;\">98000</td><td style = \"text-align: right;\">0.0</td><td style = \"text-align: right;\">46</td><td style = \"text-align: right;\">108</td></tr><tr><td class = \"rowNumber\" style = \"font-weight: bold; text-align: right;\">19308</td><td style = \"text-align: right;\">4795</td><td style = \"text-align: right;\">105000</td><td style = \"text-align: right;\">-68000</td><td style = \"text-align: right;\">0.0</td><td style = \"text-align: right;\">34</td><td style = \"text-align: right;\">108</td></tr><tr><td class = \"rowNumber\" style = \"font-weight: bold; text-align: right;\">19309</td><td style = \"text-align: right;\">3223</td><td style = \"text-align: right;\">120000</td><td style = \"text-align: right;\">132000</td><td style = \"text-align: right;\">0.0</td><td style = \"text-align: right;\">47</td><td style = \"text-align: right;\">108</td></tr><tr><td class = \"rowNumber\" style = \"font-weight: bold; text-align: right;\">19310</td><td style = \"text-align: right;\">8098</td><td style = \"text-align: right;\">26527</td><td style = \"text-align: right;\">4700</td><td style = \"text-align: right;\">0.0</td><td style = \"text-align: right;\">37</td><td style = \"text-align: right;\">108</td></tr><tr><td class = \"rowNumber\" style = \"font-weight: bold; text-align: right;\">19311</td><td style = \"text-align: right;\">8954</td><td style = \"text-align: right;\">144026</td><td style = \"text-align: right;\">220000</td><td style = \"text-align: right;\">25.0</td><td style = \"text-align: right;\">46</td><td style = \"text-align: right;\">108</td></tr><tr><td class = \"rowNumber\" style = \"font-weight: bold; text-align: right;\">19312</td><td style = \"text-align: right;\">12990</td><td style = \"text-align: right;\">122665</td><td style = \"text-align: right;\">220000</td><td style = \"text-align: right;\">0.0</td><td style = \"text-align: right;\">53</td><td style = \"text-align: right;\">108</td></tr><tr><td class = \"rowNumber\" style = \"font-weight: bold; text-align: right;\">19313</td><td style = \"text-align: right;\">8782</td><td style = \"text-align: right;\">55000</td><td style = \"text-align: right;\">69000</td><td style = \"text-align: right;\">0.0</td><td style = \"text-align: right;\">31</td><td style = \"text-align: right;\">108</td></tr><tr><td class = \"rowNumber\" style = \"font-weight: bold; text-align: right;\">19314</td><td style = \"text-align: right;\">13059</td><td style = \"text-align: right;\">42728</td><td style = \"text-align: right;\">-10000</td><td style = \"text-align: right;\">0.0</td><td style = \"text-align: right;\">26</td><td style = \"text-align: right;\">108</td></tr><tr><td class = \"rowNumber\" style = \"font-weight: bold; text-align: right;\">19315</td><td style = \"text-align: right;\">13535</td><td style = \"text-align: right;\">57000</td><td style = \"text-align: right;\">0</td><td style = \"text-align: right;\">0.0</td><td style = \"text-align: right;\">26</td><td style = \"text-align: right;\">108</td></tr><tr><td class = \"rowNumber\" style = \"font-weight: bold; text-align: right;\">19316</td><td style = \"text-align: right;\">3806</td><td style = \"text-align: right;\">87000</td><td style = \"text-align: right;\">74200</td><td style = \"text-align: right;\">0.0</td><td style = \"text-align: right;\">26</td><td style = \"text-align: right;\">108</td></tr><tr><td class = \"rowNumber\" style = \"font-weight: bold; text-align: right;\">19317</td><td style = \"text-align: right;\">11085</td><td style = \"text-align: right;\">74000</td><td style = \"text-align: right;\">-50000</td><td style = \"text-align: right;\">0.0</td><td style = \"text-align: right;\">31</td><td style = \"text-align: right;\">108</td></tr></tbody></table></div>"
      ],
      "text/latex": [
       "\\begin{tabular}{r|cccccc}\n",
       "\t& person & y & tot\\_assets1 & asset & age & year\\\\\n",
       "\t\\hline\n",
       "\t& Int64 & Int64 & Int64 & Float64 & Int64 & Int64\\\\\n",
       "\t\\hline\n",
       "\t1 & 12061 & 173100 & 605000 & 15500.0 & 65 & 98 \\\\\n",
       "\t2 & 17118 & 54000 & 60000 & 0.0 & 49 & 98 \\\\\n",
       "\t3 & 12630 & 61283 & 224000 & 39283.0 & 59 & 98 \\\\\n",
       "\t4 & 12647 & 42300 & 28240 & 0.0 & 38 & 98 \\\\\n",
       "\t5 & 5239 & 82275 & 7500 & 0.0 & 56 & 98 \\\\\n",
       "\t6 & 2671 & 69501 & 48000 & 3600.0 & 35 & 98 \\\\\n",
       "\t7 & 13027 & 68000 & 148000 & 20000.0 & 49 & 98 \\\\\n",
       "\t8 & 6791 & 93758 & 80000 & 160.0 & 41 & 98 \\\\\n",
       "\t9 & 6475 & 26581 & 23300 & 0.0 & 35 & 98 \\\\\n",
       "\t10 & 18332 & 33785 & 0 & 0.0 & 42 & 98 \\\\\n",
       "\t11 & 3856 & 55300 & 311000 & 5300.0 & 33 & 98 \\\\\n",
       "\t12 & 19326 & 40200 & 105250 & 0.0 & 40 & 98 \\\\\n",
       "\t13 & 21818 & 42500 & 13000 & 0.0 & 36 & 98 \\\\\n",
       "\t14 & 7300 & 121508 & 178000 & 10008.0 & 59 & 98 \\\\\n",
       "\t15 & 20796 & 105000 & 23500 & 0.0 & 44 & 98 \\\\\n",
       "\t16 & 12413 & 31100 & -9600 & 0.0 & 30 & 98 \\\\\n",
       "\t17 & 8455 & 54000 & 51000 & 0.0 & 49 & 98 \\\\\n",
       "\t18 & 2560 & 32000 & 18600 & 0.0 & 31 & 98 \\\\\n",
       "\t19 & 5836 & 154780 & 1463000 & 21500.0 & 50 & 98 \\\\\n",
       "\t20 & 11534 & 51389 & 65100 & 0.0 & 43 & 98 \\\\\n",
       "\t21 & 9633 & 119753 & 427000 & 77035.0 & 50 & 98 \\\\\n",
       "\t22 & 6240 & 35500 & 104500 & 15000.0 & 45 & 98 \\\\\n",
       "\t23 & 1462 & 103000 & 420000 & 16000.0 & 53 & 98 \\\\\n",
       "\t24 & 8013 & 90237 & 232000 & 0.0 & 50 & 98 \\\\\n",
       "\t$\\dots$ & $\\dots$ & $\\dots$ & $\\dots$ & $\\dots$ & $\\dots$ & $\\dots$ \\\\\n",
       "\\end{tabular}\n"
      ],
      "text/plain": [
       "\u001b[1m19317×6 DataFrame\u001b[0m\n",
       "\u001b[1m   Row \u001b[0m│\u001b[1m person \u001b[0m\u001b[1m y      \u001b[0m\u001b[1m tot_assets1 \u001b[0m\u001b[1m asset   \u001b[0m\u001b[1m age   \u001b[0m\u001b[1m year  \u001b[0m\n",
       "       │\u001b[90m Int64  \u001b[0m\u001b[90m Int64  \u001b[0m\u001b[90m Int64       \u001b[0m\u001b[90m Float64 \u001b[0m\u001b[90m Int64 \u001b[0m\u001b[90m Int64 \u001b[0m\n",
       "───────┼────────────────────────────────────────────────────\n",
       "     1 │  12061  173100       605000  15500.0     65     98\n",
       "     2 │  17118   54000        60000      0.0     49     98\n",
       "     3 │  12630   61283       224000  39283.0     59     98\n",
       "     4 │  12647   42300        28240      0.0     38     98\n",
       "     5 │   5239   82275         7500      0.0     56     98\n",
       "     6 │   2671   69501        48000   3600.0     35     98\n",
       "     7 │  13027   68000       148000  20000.0     49     98\n",
       "     8 │   6791   93758        80000    160.0     41     98\n",
       "   ⋮   │   ⋮       ⋮          ⋮          ⋮       ⋮      ⋮\n",
       " 19311 │   8954  144026       220000     25.0     46    108\n",
       " 19312 │  12990  122665       220000      0.0     53    108\n",
       " 19313 │   8782   55000        69000      0.0     31    108\n",
       " 19314 │  13059   42728       -10000      0.0     26    108\n",
       " 19315 │  13535   57000            0      0.0     26    108\n",
       " 19316 │   3806   87000        74200      0.0     26    108\n",
       " 19317 │  11085   74000       -50000      0.0     31    108\n",
       "\u001b[36m                                          19302 rows omitted\u001b[0m"
      ]
     },
     "metadata": {},
     "output_type": "display_data"
    }
   ],
   "source": [
    "using CSV, DataFrames, DataFramesMeta, Statistics\n",
    "data = @chain begin\n",
    "    CSV.read(\"C:\\\\Users\\\\bayle\\\\Documents\\\\Github\\\\metrics\\\\hw4\\\\abb_aea_data.csv\", DataFrame, missingstring=\"NA\")\n",
    "    @select :person :y :tot_assets1 :asset :age :year\n",
    "end"
   ]
  },
  {
   "cell_type": "markdown",
   "metadata": {},
   "source": [
    "We are going to estimate the parameters of the income process in the simple savings model by matching the implied variances and covariances from the model to those calculated from the data. \n",
    "Recall that the income process is:\n",
    "$$\n",
    "\\log(y_{it}) = \\mu_t + \\varepsilon_{it}\n",
    "$$\n",
    "where $\\varepsilon_{it}$ is an AR1 process with autocorrelation $\\rho$ and variance $\\frac{\\sigma^2_{\\eta}}{(1-\\rho^2)}$. Thus, there are only two parameters dictating the income process: $(\\rho, \\sigma^2_{\\eta})$.\n",
    "\n",
    "Let us now further clean the data. To map to the model, assume that agents begin (t=1) when aged 25 and live for 40 years (so the \"terminal\" period is at age 64). Thus, we should filter the data to look at only these ages."
   ]
  },
  {
   "cell_type": "code",
   "execution_count": 3,
   "metadata": {},
   "outputs": [
    {
     "data": {
      "text/html": [
       "<div><div style = \"float: left;\"><span>19139×6 DataFrame</span></div><div style = \"float: right;\"><span style = \"font-style: italic;\">19114 rows omitted</span></div><div style = \"clear: both;\"></div></div><div class = \"data-frame\" style = \"overflow-x: scroll;\"><table class = \"data-frame\" style = \"margin-bottom: 6px;\"><thead><tr class = \"header\"><th class = \"rowNumber\" style = \"font-weight: bold; text-align: right;\">Row</th><th style = \"text-align: left;\">person</th><th style = \"text-align: left;\">y</th><th style = \"text-align: left;\">tot_assets1</th><th style = \"text-align: left;\">asset</th><th style = \"text-align: left;\">age</th><th style = \"text-align: left;\">year</th></tr><tr class = \"subheader headerLastRow\"><th class = \"rowNumber\" style = \"font-weight: bold; text-align: right;\"></th><th title = \"Int64\" style = \"text-align: left;\">Int64</th><th title = \"Int64\" style = \"text-align: left;\">Int64</th><th title = \"Int64\" style = \"text-align: left;\">Int64</th><th title = \"Float64\" style = \"text-align: left;\">Float64</th><th title = \"Int64\" style = \"text-align: left;\">Int64</th><th title = \"Int64\" style = \"text-align: left;\">Int64</th></tr></thead><tbody><tr><td class = \"rowNumber\" style = \"font-weight: bold; text-align: right;\">1</td><td style = \"text-align: right;\">17118</td><td style = \"text-align: right;\">54000</td><td style = \"text-align: right;\">60000</td><td style = \"text-align: right;\">0.0</td><td style = \"text-align: right;\">49</td><td style = \"text-align: right;\">98</td></tr><tr><td class = \"rowNumber\" style = \"font-weight: bold; text-align: right;\">2</td><td style = \"text-align: right;\">12630</td><td style = \"text-align: right;\">61283</td><td style = \"text-align: right;\">224000</td><td style = \"text-align: right;\">39283.0</td><td style = \"text-align: right;\">59</td><td style = \"text-align: right;\">98</td></tr><tr><td class = \"rowNumber\" style = \"font-weight: bold; text-align: right;\">3</td><td style = \"text-align: right;\">12647</td><td style = \"text-align: right;\">42300</td><td style = \"text-align: right;\">28240</td><td style = \"text-align: right;\">0.0</td><td style = \"text-align: right;\">38</td><td style = \"text-align: right;\">98</td></tr><tr><td class = \"rowNumber\" style = \"font-weight: bold; text-align: right;\">4</td><td style = \"text-align: right;\">5239</td><td style = \"text-align: right;\">82275</td><td style = \"text-align: right;\">7500</td><td style = \"text-align: right;\">0.0</td><td style = \"text-align: right;\">56</td><td style = \"text-align: right;\">98</td></tr><tr><td class = \"rowNumber\" style = \"font-weight: bold; text-align: right;\">5</td><td style = \"text-align: right;\">2671</td><td style = \"text-align: right;\">69501</td><td style = \"text-align: right;\">48000</td><td style = \"text-align: right;\">3600.0</td><td style = \"text-align: right;\">35</td><td style = \"text-align: right;\">98</td></tr><tr><td class = \"rowNumber\" style = \"font-weight: bold; text-align: right;\">6</td><td style = \"text-align: right;\">13027</td><td style = \"text-align: right;\">68000</td><td style = \"text-align: right;\">148000</td><td style = \"text-align: right;\">20000.0</td><td style = \"text-align: right;\">49</td><td style = \"text-align: right;\">98</td></tr><tr><td class = \"rowNumber\" style = \"font-weight: bold; text-align: right;\">7</td><td style = \"text-align: right;\">6791</td><td style = \"text-align: right;\">93758</td><td style = \"text-align: right;\">80000</td><td style = \"text-align: right;\">160.0</td><td style = \"text-align: right;\">41</td><td style = \"text-align: right;\">98</td></tr><tr><td class = \"rowNumber\" style = \"font-weight: bold; text-align: right;\">8</td><td style = \"text-align: right;\">6475</td><td style = \"text-align: right;\">26581</td><td style = \"text-align: right;\">23300</td><td style = \"text-align: right;\">0.0</td><td style = \"text-align: right;\">35</td><td style = \"text-align: right;\">98</td></tr><tr><td class = \"rowNumber\" style = \"font-weight: bold; text-align: right;\">9</td><td style = \"text-align: right;\">18332</td><td style = \"text-align: right;\">33785</td><td style = \"text-align: right;\">0</td><td style = \"text-align: right;\">0.0</td><td style = \"text-align: right;\">42</td><td style = \"text-align: right;\">98</td></tr><tr><td class = \"rowNumber\" style = \"font-weight: bold; text-align: right;\">10</td><td style = \"text-align: right;\">3856</td><td style = \"text-align: right;\">55300</td><td style = \"text-align: right;\">311000</td><td style = \"text-align: right;\">5300.0</td><td style = \"text-align: right;\">33</td><td style = \"text-align: right;\">98</td></tr><tr><td class = \"rowNumber\" style = \"font-weight: bold; text-align: right;\">11</td><td style = \"text-align: right;\">19326</td><td style = \"text-align: right;\">40200</td><td style = \"text-align: right;\">105250</td><td style = \"text-align: right;\">0.0</td><td style = \"text-align: right;\">40</td><td style = \"text-align: right;\">98</td></tr><tr><td class = \"rowNumber\" style = \"font-weight: bold; text-align: right;\">12</td><td style = \"text-align: right;\">21818</td><td style = \"text-align: right;\">42500</td><td style = \"text-align: right;\">13000</td><td style = \"text-align: right;\">0.0</td><td style = \"text-align: right;\">36</td><td style = \"text-align: right;\">98</td></tr><tr><td class = \"rowNumber\" style = \"font-weight: bold; text-align: right;\">13</td><td style = \"text-align: right;\">7300</td><td style = \"text-align: right;\">121508</td><td style = \"text-align: right;\">178000</td><td style = \"text-align: right;\">10008.0</td><td style = \"text-align: right;\">59</td><td style = \"text-align: right;\">98</td></tr><tr><td style = \"text-align: right;\">&vellip;</td><td style = \"text-align: right;\">&vellip;</td><td style = \"text-align: right;\">&vellip;</td><td style = \"text-align: right;\">&vellip;</td><td style = \"text-align: right;\">&vellip;</td><td style = \"text-align: right;\">&vellip;</td><td style = \"text-align: right;\">&vellip;</td></tr><tr><td class = \"rowNumber\" style = \"font-weight: bold; text-align: right;\">19128</td><td style = \"text-align: right;\">6617</td><td style = \"text-align: right;\">115887</td><td style = \"text-align: right;\">241000</td><td style = \"text-align: right;\">21346.0</td><td style = \"text-align: right;\">62</td><td style = \"text-align: right;\">108</td></tr><tr><td class = \"rowNumber\" style = \"font-weight: bold; text-align: right;\">19129</td><td style = \"text-align: right;\">626</td><td style = \"text-align: right;\">128600</td><td style = \"text-align: right;\">98000</td><td style = \"text-align: right;\">0.0</td><td style = \"text-align: right;\">46</td><td style = \"text-align: right;\">108</td></tr><tr><td class = \"rowNumber\" style = \"font-weight: bold; text-align: right;\">19130</td><td style = \"text-align: right;\">4795</td><td style = \"text-align: right;\">105000</td><td style = \"text-align: right;\">-68000</td><td style = \"text-align: right;\">0.0</td><td style = \"text-align: right;\">34</td><td style = \"text-align: right;\">108</td></tr><tr><td class = \"rowNumber\" style = \"font-weight: bold; text-align: right;\">19131</td><td style = \"text-align: right;\">3223</td><td style = \"text-align: right;\">120000</td><td style = \"text-align: right;\">132000</td><td style = \"text-align: right;\">0.0</td><td style = \"text-align: right;\">47</td><td style = \"text-align: right;\">108</td></tr><tr><td class = \"rowNumber\" style = \"font-weight: bold; text-align: right;\">19132</td><td style = \"text-align: right;\">8098</td><td style = \"text-align: right;\">26527</td><td style = \"text-align: right;\">4700</td><td style = \"text-align: right;\">0.0</td><td style = \"text-align: right;\">37</td><td style = \"text-align: right;\">108</td></tr><tr><td class = \"rowNumber\" style = \"font-weight: bold; text-align: right;\">19133</td><td style = \"text-align: right;\">8954</td><td style = \"text-align: right;\">144026</td><td style = \"text-align: right;\">220000</td><td style = \"text-align: right;\">25.0</td><td style = \"text-align: right;\">46</td><td style = \"text-align: right;\">108</td></tr><tr><td class = \"rowNumber\" style = \"font-weight: bold; text-align: right;\">19134</td><td style = \"text-align: right;\">12990</td><td style = \"text-align: right;\">122665</td><td style = \"text-align: right;\">220000</td><td style = \"text-align: right;\">0.0</td><td style = \"text-align: right;\">53</td><td style = \"text-align: right;\">108</td></tr><tr><td class = \"rowNumber\" style = \"font-weight: bold; text-align: right;\">19135</td><td style = \"text-align: right;\">8782</td><td style = \"text-align: right;\">55000</td><td style = \"text-align: right;\">69000</td><td style = \"text-align: right;\">0.0</td><td style = \"text-align: right;\">31</td><td style = \"text-align: right;\">108</td></tr><tr><td class = \"rowNumber\" style = \"font-weight: bold; text-align: right;\">19136</td><td style = \"text-align: right;\">13059</td><td style = \"text-align: right;\">42728</td><td style = \"text-align: right;\">-10000</td><td style = \"text-align: right;\">0.0</td><td style = \"text-align: right;\">26</td><td style = \"text-align: right;\">108</td></tr><tr><td class = \"rowNumber\" style = \"font-weight: bold; text-align: right;\">19137</td><td style = \"text-align: right;\">13535</td><td style = \"text-align: right;\">57000</td><td style = \"text-align: right;\">0</td><td style = \"text-align: right;\">0.0</td><td style = \"text-align: right;\">26</td><td style = \"text-align: right;\">108</td></tr><tr><td class = \"rowNumber\" style = \"font-weight: bold; text-align: right;\">19138</td><td style = \"text-align: right;\">3806</td><td style = \"text-align: right;\">87000</td><td style = \"text-align: right;\">74200</td><td style = \"text-align: right;\">0.0</td><td style = \"text-align: right;\">26</td><td style = \"text-align: right;\">108</td></tr><tr><td class = \"rowNumber\" style = \"font-weight: bold; text-align: right;\">19139</td><td style = \"text-align: right;\">11085</td><td style = \"text-align: right;\">74000</td><td style = \"text-align: right;\">-50000</td><td style = \"text-align: right;\">0.0</td><td style = \"text-align: right;\">31</td><td style = \"text-align: right;\">108</td></tr></tbody></table></div>"
      ],
      "text/latex": [
       "\\begin{tabular}{r|cccccc}\n",
       "\t& person & y & tot\\_assets1 & asset & age & year\\\\\n",
       "\t\\hline\n",
       "\t& Int64 & Int64 & Int64 & Float64 & Int64 & Int64\\\\\n",
       "\t\\hline\n",
       "\t1 & 17118 & 54000 & 60000 & 0.0 & 49 & 98 \\\\\n",
       "\t2 & 12630 & 61283 & 224000 & 39283.0 & 59 & 98 \\\\\n",
       "\t3 & 12647 & 42300 & 28240 & 0.0 & 38 & 98 \\\\\n",
       "\t4 & 5239 & 82275 & 7500 & 0.0 & 56 & 98 \\\\\n",
       "\t5 & 2671 & 69501 & 48000 & 3600.0 & 35 & 98 \\\\\n",
       "\t6 & 13027 & 68000 & 148000 & 20000.0 & 49 & 98 \\\\\n",
       "\t7 & 6791 & 93758 & 80000 & 160.0 & 41 & 98 \\\\\n",
       "\t8 & 6475 & 26581 & 23300 & 0.0 & 35 & 98 \\\\\n",
       "\t9 & 18332 & 33785 & 0 & 0.0 & 42 & 98 \\\\\n",
       "\t10 & 3856 & 55300 & 311000 & 5300.0 & 33 & 98 \\\\\n",
       "\t11 & 19326 & 40200 & 105250 & 0.0 & 40 & 98 \\\\\n",
       "\t12 & 21818 & 42500 & 13000 & 0.0 & 36 & 98 \\\\\n",
       "\t13 & 7300 & 121508 & 178000 & 10008.0 & 59 & 98 \\\\\n",
       "\t14 & 20796 & 105000 & 23500 & 0.0 & 44 & 98 \\\\\n",
       "\t15 & 12413 & 31100 & -9600 & 0.0 & 30 & 98 \\\\\n",
       "\t16 & 8455 & 54000 & 51000 & 0.0 & 49 & 98 \\\\\n",
       "\t17 & 2560 & 32000 & 18600 & 0.0 & 31 & 98 \\\\\n",
       "\t18 & 5836 & 154780 & 1463000 & 21500.0 & 50 & 98 \\\\\n",
       "\t19 & 11534 & 51389 & 65100 & 0.0 & 43 & 98 \\\\\n",
       "\t20 & 9633 & 119753 & 427000 & 77035.0 & 50 & 98 \\\\\n",
       "\t21 & 6240 & 35500 & 104500 & 15000.0 & 45 & 98 \\\\\n",
       "\t22 & 1462 & 103000 & 420000 & 16000.0 & 53 & 98 \\\\\n",
       "\t23 & 8013 & 90237 & 232000 & 0.0 & 50 & 98 \\\\\n",
       "\t24 & 11339 & 42708 & 4700 & 0.0 & 29 & 98 \\\\\n",
       "\t$\\dots$ & $\\dots$ & $\\dots$ & $\\dots$ & $\\dots$ & $\\dots$ & $\\dots$ \\\\\n",
       "\\end{tabular}\n"
      ],
      "text/plain": [
       "\u001b[1m19139×6 DataFrame\u001b[0m\n",
       "\u001b[1m   Row \u001b[0m│\u001b[1m person \u001b[0m\u001b[1m y      \u001b[0m\u001b[1m tot_assets1 \u001b[0m\u001b[1m asset   \u001b[0m\u001b[1m age   \u001b[0m\u001b[1m year  \u001b[0m\n",
       "       │\u001b[90m Int64  \u001b[0m\u001b[90m Int64  \u001b[0m\u001b[90m Int64       \u001b[0m\u001b[90m Float64 \u001b[0m\u001b[90m Int64 \u001b[0m\u001b[90m Int64 \u001b[0m\n",
       "───────┼────────────────────────────────────────────────────\n",
       "     1 │  17118   54000        60000      0.0     49     98\n",
       "     2 │  12630   61283       224000  39283.0     59     98\n",
       "     3 │  12647   42300        28240      0.0     38     98\n",
       "     4 │   5239   82275         7500      0.0     56     98\n",
       "     5 │   2671   69501        48000   3600.0     35     98\n",
       "     6 │  13027   68000       148000  20000.0     49     98\n",
       "     7 │   6791   93758        80000    160.0     41     98\n",
       "     8 │   6475   26581        23300      0.0     35     98\n",
       "   ⋮   │   ⋮       ⋮          ⋮          ⋮       ⋮      ⋮\n",
       " 19133 │   8954  144026       220000     25.0     46    108\n",
       " 19134 │  12990  122665       220000      0.0     53    108\n",
       " 19135 │   8782   55000        69000      0.0     31    108\n",
       " 19136 │  13059   42728       -10000      0.0     26    108\n",
       " 19137 │  13535   57000            0      0.0     26    108\n",
       " 19138 │   3806   87000        74200      0.0     26    108\n",
       " 19139 │  11085   74000       -50000      0.0     31    108\n",
       "\u001b[36m                                          19124 rows omitted\u001b[0m"
      ]
     },
     "metadata": {},
     "output_type": "display_data"
    }
   ],
   "source": [
    "@subset!(data, :age.>=25, :age.<=64)"
   ]
  },
  {
   "cell_type": "markdown",
   "metadata": {},
   "source": [
    "##### **Solving the Dynamic Programme**"
   ]
  },
  {
   "cell_type": "markdown",
   "metadata": {},
   "source": [
    "Before we start the homework questions, let us run the provided code which solves the agents dynamic programme given a set of parameters. A brief review of the environment is also in order."
   ]
  },
  {
   "cell_type": "markdown",
   "metadata": {},
   "source": [
    "##### *Environment*"
   ]
  },
  {
   "cell_type": "markdown",
   "metadata": {},
   "source": [
    "Time is discrete and indexed by $t$. Individuals live for a finite number of periods, $T$. They derive utility from consumption according to a CRRA utility function:\n",
    "$$\n",
    "u(c) = \\frac{c^{1-\\sigma}}{1-\\sigma}\n",
    "$$\n",
    "and from \"bequests\", which are modelled here as cash on hand net of consumption in the final period:\n",
    "$$\n",
    "\\nu(a) = \\psi\\frac{a^{1-\\sigma}}{1-\\sigma}.\n",
    "$$\n",
    "Consumption can be transferred \n",
    "between periods via a portfolio of one-period bonds (\"savings\", $a$) that can be purchased at the price $\\frac{1}{1+r}$, and there is no borrowing. Individuals receive income $y$ every period that is governed by a deterministic component $\\mu_t$ and a stochastic component $\\varepsilon_{it}$:\n",
    "$$\n",
    "\\log(y_t) = \\mu_t + \\varepsilon_{it}\n",
    "$$\n",
    "where $\\varepsilon_{it}$ is a stationary AR1 process:\n",
    "$$\n",
    "\\varepsilon_{it} = \\rho\\varepsilon_{it}+\\eta_{it}\n",
    "$$\n",
    "where $\\eta_{it} \\sim \\mathcal{N}(0,\\sigma^2_{\\eta})$. The unconditional variance of $\\varepsilon_{it}$ is therefore $\\frac{\\sigma^2_{\\eta}}{1-\\rho^2}$."
   ]
  },
  {
   "cell_type": "markdown",
   "metadata": {},
   "source": [
    "Define \n",
    "$$\n",
    "V_T(a,\\varepsilon) = \\max_c \\{u(c)+ \\nu(y-c) \\}\n",
    "$$\n",
    "and define the remaining value functions recursively\n",
    "$$\n",
    "V_t(a,\\varepsilon) = \\max_{c,a'} \\{u(c) + \\beta \\mathbb{E}_{y'|y}V_{t+1}(a',\\varepsilon')\\}\n",
    "$$\n",
    "$$\n",
    "s.t. \\quad c+\\frac{1}{1+r}a' \\leq a+y\n",
    "$$\n",
    "$$\n",
    "a'\\geq 0\n",
    "$$"
   ]
  },
  {
   "cell_type": "markdown",
   "metadata": {},
   "source": [
    "We're going to write code to solve the model using this recursive formulation."
   ]
  },
  {
   "cell_type": "markdown",
   "metadata": {},
   "source": [
    "Let's begin with setting up a default set of parameters."
   ]
  },
  {
   "cell_type": "code",
   "execution_count": 16,
   "metadata": {},
   "outputs": [
    {
     "data": {
      "text/plain": [
       "(T = 45, β = 0.95, σ = 2.0, ρ = 0.9, ση = 0.1, μ = [2.0, 2.0, 2.0, 2.0, 2.0, 2.0, 2.0, 2.0, 2.0, 2.0  …  2.0, 2.0, 2.0, 2.0, 2.0, 2.0, 2.0, 2.0, 2.0, 2.0], ψ = 5.0, r = 0.05)"
      ]
     },
     "metadata": {},
     "output_type": "display_data"
    }
   ],
   "source": [
    "pars = (; T = 45, # length of a lifetime\n",
    "            β = 0.95, # discount factor\n",
    "            σ = 2.0, # risk aversion\n",
    "            ρ = 0.9, # persistence of income\n",
    "            ση = 0.1, # standard deviation of income shocks\n",
    "            μ = fill(2., 45), # mean of log income (array of size 45 filled with 2.0)\n",
    "            ψ = 5., # scaling factor in utility from bequest\n",
    "            r = 0.05 # interest rate\n",
    ")"
   ]
  },
  {
   "cell_type": "markdown",
   "metadata": {},
   "source": [
    "Next, let us use Tauchen's method to approximate the income process as a discrete Markov process."
   ]
  },
  {
   "cell_type": "code",
   "execution_count": 45,
   "metadata": {},
   "outputs": [
    {
     "data": {
      "text/plain": [
       "tauchen (generic function with 1 method)"
      ]
     },
     "metadata": {},
     "output_type": "display_data"
    }
   ],
   "source": [
    "using Distributions, Random, LinearAlgebra\n",
    "Φ(x) = cdf(Normal(), x)\n",
    "\n",
    "function tauchen(ρ,ση,Kϵ)\n",
    "    sd = ση/sqrt(1-ρ^2)\n",
    "    grid = range(-3sd,stop=3sd,length=Kϵ)\n",
    "    Π = zeros(Kϵ,Kϵ)\n",
    "    Δ = grid[2]-grid[1]\n",
    "    for j = 1:Kϵ\n",
    "        Π[1,j] = Φ((grid[1]+Δ/2-ρ*grid[j])/ση)\n",
    "        Π[end,j] = 1-Φ((grid[end]-Δ/2-ρ*grid[j])/ση)\n",
    "        for k = 2:(Kϵ-1)\n",
    "            Π[k,j] = Φ((grid[k]+Δ/2-ρ*grid[j])/ση) - Φ((grid[k]-Δ/2-ρ*grid[j])/ση)\n",
    "        end\n",
    "    end\n",
    "    return Π, grid\n",
    "end "
   ]
  },
  {
   "cell_type": "markdown",
   "metadata": {},
   "source": [
    "The above code discretised the stochastic component of the income process. We also need to discretise the asset grid and define a max operator."
   ]
  },
  {
   "cell_type": "code",
   "execution_count": 46,
   "metadata": {},
   "outputs": [
    {
     "data": {
      "text/plain": [
       "solve_max (generic function with 1 method)"
      ]
     },
     "metadata": {},
     "output_type": "display_data"
    }
   ],
   "source": [
    "Ka = 100\n",
    "Kϵ = 5\n",
    "agrid = LinRange(0, pars.μ[1]*pars.T, Ka)   # asset grid LinRange(start, stop, length)\n",
    "Π, ϵgrid = tauchen(pars.ρ, pars.ση, Kϵ) # transition matrix and grid for epsilon\n",
    "pars = (; pars..., Ka = Ka, agrid = agrid, Π = Π, ϵgrid = ϵgrid, Kϵ = Kϵ) # merge the two dictionaries\n",
    "\n",
    "u(c,σ) = c^(1-σ)/(1-σ)\n",
    "\n",
    "function solve_max(V,t,iϵ,ia,pars)\n",
    "    (;agrid,ϵgrid,Π,σ,Ka,r,β) = pars\n",
    "    cash = exp(pars.μ[t] + ϵgrid[iϵ]) + agrid[ia] # cash on hand in period t with state (iϵ,ia) (which is an input of the function)\n",
    "    amax = 0\n",
    "    vmax = -Inf\n",
    "    a = 1\n",
    "    loop = true\n",
    "    while loop && a<Ka\n",
    "        c = cash - agrid[a]/(1+r) # consumption in period t with state (iϵ,ia) and action a\n",
    "        if c>0\n",
    "            v = u(c,σ) # utility from consumption\n",
    "            for iϵp in axes(V,1) # loop over possible values of iϵ in period t+1\n",
    "                v += β*Π[iϵp,iϵ]*V[iϵp,a,t+1] # add continuation value to utility for each possible value of iϵ in period t+1\n",
    "            end\n",
    "            if v>vmax # if the utility is higher than the maximum utility found so far\n",
    "                vmax = v # update the maximum utility\n",
    "                amax = a # update the asset choice that corresponds to the maximum utility\n",
    "            end\n",
    "        else\n",
    "            loop = false\n",
    "        end\n",
    "        a += 1\n",
    "    end\n",
    "    return amax, vmax\n",
    "end"
   ]
  },
  {
   "cell_type": "markdown",
   "metadata": {},
   "source": [
    "Next, a function that uses this max operator to get the value function for all states in a period, $t$, and records the optimal saving policy."
   ]
  },
  {
   "cell_type": "code",
   "execution_count": 50,
   "metadata": {},
   "outputs": [
    {
     "data": {
      "text/plain": [
       "terminal_values! (generic function with 1 method)"
      ]
     },
     "metadata": {},
     "output_type": "display_data"
    }
   ],
   "source": [
    "function iterate!(V,A,t,pars)\n",
    "    for ia in axes(V,2), iϵ in axes(V,1)\n",
    "        A[iϵ,ia,t], V[iϵ,ia,t] = solve_max(V,t,iϵ,ia,pars) # solve the maximization problem for each state (iϵ,ia) in period t\n",
    "    end\n",
    "end\n",
    "\n",
    "function terminal_values!(V,pars)\n",
    "    (;σ,ψ,agrid,T) = pars\n",
    "    for ia in axes(V,2), iϵ in axes(V,1)\n",
    "        # V[iϵ,ia] = ψ * u(agrid[ia],σ)\n",
    "        V[iϵ,ia,T+1] = ψ * u(agrid[ia],σ) # alternative to the above (but make sure to change the backward_induction! function accordingly)\n",
    "    end\n",
    "end"
   ]
  },
  {
   "cell_type": "code",
   "execution_count": 51,
   "metadata": {},
   "outputs": [
    {
     "data": {
      "text/plain": [
       "backward_induction! (generic function with 1 method)"
      ]
     },
     "metadata": {},
     "output_type": "display_data"
    }
   ],
   "source": [
    "function backward_induction!(V,A,pars)\n",
    "    (;ψ,σ,T,agrid) = pars\n",
    "    # @views terminal_values!(V[:,:,T+1],pars)\n",
    "    @views terminal_values!(V,pars) # alternative to the above (but make sure to change the terminal_values! function accordingly)\n",
    "    for t in reverse(1:T)\n",
    "        iterate!(V,A,t,pars)\n",
    "    end\n",
    "end"
   ]
  },
  {
   "cell_type": "markdown",
   "metadata": {},
   "source": [
    "Let's check the model solution and time it also."
   ]
  },
  {
   "cell_type": "code",
   "execution_count": 53,
   "metadata": {},
   "outputs": [
    {
     "name": "stdout",
     "output_type": "stream",
     "text": [
      "  0.021388 seconds\n"
     ]
    }
   ],
   "source": [
    "V = zeros(pars.Kϵ,pars.Ka,pars.T+1)\n",
    "A = zeros(Int64,pars.Kϵ,pars.Ka,pars.T)\n",
    "backward_induction!(V,A,pars)\n",
    "@time backward_induction!(V,A,pars)"
   ]
  },
  {
   "cell_type": "markdown",
   "metadata": {},
   "source": [
    "Finally, let's plot the policy functions. The plot below shows savings policy at the median wage shock over time at different levels of assets."
   ]
  },
  {
   "cell_type": "code",
   "execution_count": 59,
   "metadata": {},
   "outputs": [
    {
     "data": {
      "image/png": "[encoded data removed]",
      "image/svg+xml": [
       "<?xml version=\"1.0\" encoding=\"utf-8\"?>\n",
       "<svg xmlns=\"http://www.w3.org/2000/svg\" xmlns:xlink=\"http://www.w3.org/1999/xlink\" width=\"600\" height=\"400\" viewBox=\"0 0 2400 1600\">\n",
       "<defs>\n",
       "  <clipPath id=\"clip360\">\n",
       "    <rect x=\"0\" y=\"0\" width=\"2400\" height=\"1600\"/>\n",
       "  </clipPath>\n",
       "</defs>\n",
       "<path clip-path=\"url(#clip360)\" d=\"M0 1600 L2400 1600 L2400 0 L0 0  Z\" fill=\"#ffffff\" fill-rule=\"evenodd\" fill-opacity=\"1\"/>\n",
       "<defs>\n",
       "  <clipPath id=\"clip361\">\n",
       "    <rect x=\"480\" y=\"0\" width=\"1681\" height=\"1600\"/>\n",
       "  </clipPath>\n",
       "</defs>\n",
       "<path clip-path=\"url(#clip360)\" d=\"M141.853 1486.45 L2352.76 1486.45 L2352.76 47.2441 L141.853 47.2441  Z\" fill=\"#ffffff\" fill-rule=\"evenodd\" fill-opacity=\"1\"/>\n",
       "<defs>\n",
       "  <clipPath id=\"clip362\">\n",
       "    <rect x=\"141\" y=\"47\" width=\"2212\" height=\"1440\"/>\n",
       "  </clipPath>\n",
       "</defs>\n",
       "<polyline clip-path=\"url(#clip362)\" style=\"stroke:#000000; stroke-linecap:round; stroke-linejoin:round; stroke-width:2; stroke-opacity:0.1; fill:none\" points=\"157.022,1486.45 157.022,47.2441 \"/>\n",
       "<polyline clip-path=\"url(#clip362)\" style=\"stroke:#000000; stroke-linecap:round; stroke-linejoin:round; stroke-width:2; stroke-opacity:0.1; fill:none\" points=\"631.058,1486.45 631.058,47.2441 \"/>\n",
       "<polyline clip-path=\"url(#clip362)\" style=\"stroke:#000000; stroke-linecap:round; stroke-linejoin:round; stroke-width:2; stroke-opacity:0.1; fill:none\" points=\"1105.09,1486.45 1105.09,47.2441 \"/>\n",
       "<polyline clip-path=\"url(#clip362)\" style=\"stroke:#000000; stroke-linecap:round; stroke-linejoin:round; stroke-width:2; stroke-opacity:0.1; fill:none\" points=\"1579.13,1486.45 1579.13,47.2441 \"/>\n",
       "<polyline clip-path=\"url(#clip362)\" style=\"stroke:#000000; stroke-linecap:round; stroke-linejoin:round; stroke-width:2; stroke-opacity:0.1; fill:none\" points=\"2053.17,1486.45 2053.17,47.2441 \"/>\n",
       "<polyline clip-path=\"url(#clip360)\" style=\"stroke:#000000; stroke-linecap:round; stroke-linejoin:round; stroke-width:4; stroke-opacity:1; fill:none\" points=\"141.853,1486.45 2352.76,1486.45 \"/>\n",
       "<polyline clip-path=\"url(#clip360)\" style=\"stroke:#000000; stroke-linecap:round; stroke-linejoin:round; stroke-width:4; stroke-opacity:1; fill:none\" points=\"157.022,1486.45 157.022,1467.55 \"/>\n",
       "<polyline clip-path=\"url(#clip360)\" style=\"stroke:#000000; stroke-linecap:round; stroke-linejoin:round; stroke-width:4; stroke-opacity:1; fill:none\" points=\"631.058,1486.45 631.058,1467.55 \"/>\n",
       "<polyline clip-path=\"url(#clip360)\" style=\"stroke:#000000; stroke-linecap:round; stroke-linejoin:round; stroke-width:4; stroke-opacity:1; fill:none\" points=\"1105.09,1486.45 1105.09,1467.55 \"/>\n",
       "<polyline clip-path=\"url(#clip360)\" style=\"stroke:#000000; stroke-linecap:round; stroke-linejoin:round; stroke-width:4; stroke-opacity:1; fill:none\" points=\"1579.13,1486.45 1579.13,1467.55 \"/>\n",
       "<polyline clip-path=\"url(#clip360)\" style=\"stroke:#000000; stroke-linecap:round; stroke-linejoin:round; stroke-width:4; stroke-opacity:1; fill:none\" points=\"2053.17,1486.45 2053.17,1467.55 \"/>\n",
       "<path clip-path=\"url(#clip360)\" d=\"M157.022 1517.37 Q153.411 1517.37 151.582 1520.93 Q149.777 1524.47 149.777 1531.6 Q149.777 1538.71 151.582 1542.27 Q153.411 1545.82 157.022 1545.82 Q160.656 1545.82 162.462 1542.27 Q164.291 1538.71 164.291 1531.6 Q164.291 1524.47 162.462 1520.93 Q160.656 1517.37 157.022 1517.37 M157.022 1513.66 Q162.832 1513.66 165.888 1518.27 Q168.966 1522.85 168.966 1531.6 Q168.966 1540.33 165.888 1544.94 Q162.832 1549.52 157.022 1549.52 Q151.212 1549.52 148.133 1544.94 Q145.078 1540.33 145.078 1531.6 Q145.078 1522.85 148.133 1518.27 Q151.212 1513.66 157.022 1513.66 Z\" fill=\"#000000\" fill-rule=\"nonzero\" fill-opacity=\"1\" /><path clip-path=\"url(#clip360)\" d=\"M605.746 1544.91 L613.384 1544.91 L613.384 1518.55 L605.074 1520.21 L605.074 1515.95 L613.338 1514.29 L618.014 1514.29 L618.014 1544.91 L625.653 1544.91 L625.653 1548.85 L605.746 1548.85 L605.746 1544.91 Z\" fill=\"#000000\" fill-rule=\"nonzero\" fill-opacity=\"1\" /><path clip-path=\"url(#clip360)\" d=\"M645.097 1517.37 Q641.486 1517.37 639.657 1520.93 Q637.852 1524.47 637.852 1531.6 Q637.852 1538.71 639.657 1542.27 Q641.486 1545.82 645.097 1545.82 Q648.731 1545.82 650.537 1542.27 Q652.366 1538.71 652.366 1531.6 Q652.366 1524.47 650.537 1520.93 Q648.731 1517.37 645.097 1517.37 M645.097 1513.66 Q650.907 1513.66 653.963 1518.27 Q657.042 1522.85 657.042 1531.6 Q657.042 1540.33 653.963 1544.94 Q650.907 1549.52 645.097 1549.52 Q639.287 1549.52 636.208 1544.94 Q633.153 1540.33 633.153 1531.6 Q633.153 1522.85 636.208 1518.27 Q639.287 1513.66 645.097 1513.66 Z\" fill=\"#000000\" fill-rule=\"nonzero\" fill-opacity=\"1\" /><path clip-path=\"url(#clip360)\" d=\"M1083.87 1544.91 L1100.19 1544.91 L1100.19 1548.85 L1078.24 1548.85 L1078.24 1544.91 Q1080.9 1542.16 1085.49 1537.53 Q1090.09 1532.88 1091.27 1531.53 Q1093.52 1529.01 1094.4 1527.27 Q1095.3 1525.51 1095.3 1523.82 Q1095.3 1521.07 1093.36 1519.33 Q1091.44 1517.6 1088.33 1517.6 Q1086.14 1517.6 1083.68 1518.36 Q1081.25 1519.13 1078.47 1520.68 L1078.47 1515.95 Q1081.3 1514.82 1083.75 1514.24 Q1086.2 1513.66 1088.24 1513.66 Q1093.61 1513.66 1096.81 1516.35 Q1100 1519.03 1100 1523.52 Q1100 1525.65 1099.19 1527.57 Q1098.4 1529.47 1096.3 1532.07 Q1095.72 1532.74 1092.62 1535.95 Q1089.52 1539.15 1083.87 1544.91 Z\" fill=\"#000000\" fill-rule=\"nonzero\" fill-opacity=\"1\" /><path clip-path=\"url(#clip360)\" d=\"M1120 1517.37 Q1116.39 1517.37 1114.56 1520.93 Q1112.76 1524.47 1112.76 1531.6 Q1112.76 1538.71 1114.56 1542.27 Q1116.39 1545.82 1120 1545.82 Q1123.64 1545.82 1125.44 1542.27 Q1127.27 1538.71 1127.27 1531.6 Q1127.27 1524.47 1125.44 1520.93 Q1123.64 1517.37 1120 1517.37 M1120 1513.66 Q1125.81 1513.66 1128.87 1518.27 Q1131.95 1522.85 1131.95 1531.6 Q1131.95 1540.33 1128.87 1544.94 Q1125.81 1549.52 1120 1549.52 Q1114.19 1549.52 1111.11 1544.94 Q1108.06 1540.33 1108.06 1531.6 Q1108.06 1522.85 1111.11 1518.27 Q1114.19 1513.66 1120 1513.66 Z\" fill=\"#000000\" fill-rule=\"nonzero\" fill-opacity=\"1\" /><path clip-path=\"url(#clip360)\" d=\"M1567.97 1530.21 Q1571.33 1530.93 1573.2 1533.2 Q1575.1 1535.47 1575.1 1538.8 Q1575.1 1543.92 1571.58 1546.72 Q1568.06 1549.52 1561.58 1549.52 Q1559.41 1549.52 1557.09 1549.08 Q1554.8 1548.66 1552.35 1547.81 L1552.35 1543.29 Q1554.29 1544.43 1556.61 1545.01 Q1558.92 1545.58 1561.44 1545.58 Q1565.84 1545.58 1568.13 1543.85 Q1570.45 1542.11 1570.45 1538.8 Q1570.45 1535.75 1568.3 1534.03 Q1566.17 1532.3 1562.35 1532.3 L1558.32 1532.3 L1558.32 1528.45 L1562.53 1528.45 Q1565.98 1528.45 1567.81 1527.09 Q1569.64 1525.7 1569.64 1523.11 Q1569.64 1520.45 1567.74 1519.03 Q1565.87 1517.6 1562.35 1517.6 Q1560.43 1517.6 1558.23 1518.01 Q1556.03 1518.43 1553.39 1519.31 L1553.39 1515.14 Q1556.05 1514.4 1558.37 1514.03 Q1560.7 1513.66 1562.76 1513.66 Q1568.09 1513.66 1571.19 1516.09 Q1574.29 1518.5 1574.29 1522.62 Q1574.29 1525.49 1572.65 1527.48 Q1571 1529.45 1567.97 1530.21 Z\" fill=\"#000000\" fill-rule=\"nonzero\" fill-opacity=\"1\" /><path clip-path=\"url(#clip360)\" d=\"M1593.97 1517.37 Q1590.36 1517.37 1588.53 1520.93 Q1586.72 1524.47 1586.72 1531.6 Q1586.72 1538.71 1588.53 1542.27 Q1590.36 1545.82 1593.97 1545.82 Q1597.6 1545.82 1599.41 1542.27 Q1601.24 1538.71 1601.24 1531.6 Q1601.24 1524.47 1599.41 1520.93 Q1597.6 1517.37 1593.97 1517.37 M1593.97 1513.66 Q1599.78 1513.66 1602.83 1518.27 Q1605.91 1522.85 1605.91 1531.6 Q1605.91 1540.33 1602.83 1544.94 Q1599.78 1549.52 1593.97 1549.52 Q1588.16 1549.52 1585.08 1544.94 Q1582.02 1540.33 1582.02 1531.6 Q1582.02 1522.85 1585.08 1518.27 Q1588.16 1513.66 1593.97 1513.66 Z\" fill=\"#000000\" fill-rule=\"nonzero\" fill-opacity=\"1\" /><path clip-path=\"url(#clip360)\" d=\"M2041.34 1518.36 L2029.53 1536.81 L2041.34 1536.81 L2041.34 1518.36 M2040.11 1514.29 L2045.99 1514.29 L2045.99 1536.81 L2050.92 1536.81 L2050.92 1540.7 L2045.99 1540.7 L2045.99 1548.85 L2041.34 1548.85 L2041.34 1540.7 L2025.73 1540.7 L2025.73 1536.19 L2040.11 1514.29 Z\" fill=\"#000000\" fill-rule=\"nonzero\" fill-opacity=\"1\" /><path clip-path=\"url(#clip360)\" d=\"M2068.65 1517.37 Q2065.04 1517.37 2063.21 1520.93 Q2061.41 1524.47 2061.41 1531.6 Q2061.41 1538.71 2063.21 1542.27 Q2065.04 1545.82 2068.65 1545.82 Q2072.29 1545.82 2074.09 1542.27 Q2075.92 1538.71 2075.92 1531.6 Q2075.92 1524.47 2074.09 1520.93 Q2072.29 1517.37 2068.65 1517.37 M2068.65 1513.66 Q2074.46 1513.66 2077.52 1518.27 Q2080.6 1522.85 2080.6 1531.6 Q2080.6 1540.33 2077.52 1544.94 Q2074.46 1549.52 2068.65 1549.52 Q2062.84 1549.52 2059.76 1544.94 Q2056.71 1540.33 2056.71 1531.6 Q2056.71 1522.85 2059.76 1518.27 Q2062.84 1513.66 2068.65 1513.66 Z\" fill=\"#000000\" fill-rule=\"nonzero\" fill-opacity=\"1\" /><polyline clip-path=\"url(#clip362)\" style=\"stroke:#000000; stroke-linecap:round; stroke-linejoin:round; stroke-width:2; stroke-opacity:0.1; fill:none\" points=\"141.853,1445.72 2352.76,1445.72 \"/>\n",
       "<polyline clip-path=\"url(#clip362)\" style=\"stroke:#000000; stroke-linecap:round; stroke-linejoin:round; stroke-width:2; stroke-opacity:0.1; fill:none\" points=\"141.853,1113.82 2352.76,1113.82 \"/>\n",
       "<polyline clip-path=\"url(#clip362)\" style=\"stroke:#000000; stroke-linecap:round; stroke-linejoin:round; stroke-width:2; stroke-opacity:0.1; fill:none\" points=\"141.853,781.932 2352.76,781.932 \"/>\n",
       "<polyline clip-path=\"url(#clip362)\" style=\"stroke:#000000; stroke-linecap:round; stroke-linejoin:round; stroke-width:2; stroke-opacity:0.1; fill:none\" points=\"141.853,450.04 2352.76,450.04 \"/>\n",
       "<polyline clip-path=\"url(#clip362)\" style=\"stroke:#000000; stroke-linecap:round; stroke-linejoin:round; stroke-width:2; stroke-opacity:0.1; fill:none\" points=\"141.853,118.148 2352.76,118.148 \"/>\n",
       "<polyline clip-path=\"url(#clip360)\" style=\"stroke:#000000; stroke-linecap:round; stroke-linejoin:round; stroke-width:4; stroke-opacity:1; fill:none\" points=\"141.853,1486.45 141.853,47.2441 \"/>\n",
       "<polyline clip-path=\"url(#clip360)\" style=\"stroke:#000000; stroke-linecap:round; stroke-linejoin:round; stroke-width:4; stroke-opacity:1; fill:none\" points=\"141.853,1445.72 160.751,1445.72 \"/>\n",
       "<polyline clip-path=\"url(#clip360)\" style=\"stroke:#000000; stroke-linecap:round; stroke-linejoin:round; stroke-width:4; stroke-opacity:1; fill:none\" points=\"141.853,1113.82 160.751,1113.82 \"/>\n",
       "<polyline clip-path=\"url(#clip360)\" style=\"stroke:#000000; stroke-linecap:round; stroke-linejoin:round; stroke-width:4; stroke-opacity:1; fill:none\" points=\"141.853,781.932 160.751,781.932 \"/>\n",
       "<polyline clip-path=\"url(#clip360)\" style=\"stroke:#000000; stroke-linecap:round; stroke-linejoin:round; stroke-width:4; stroke-opacity:1; fill:none\" points=\"141.853,450.04 160.751,450.04 \"/>\n",
       "<polyline clip-path=\"url(#clip360)\" style=\"stroke:#000000; stroke-linecap:round; stroke-linejoin:round; stroke-width:4; stroke-opacity:1; fill:none\" points=\"141.853,118.148 160.751,118.148 \"/>\n",
       "<path clip-path=\"url(#clip360)\" d=\"M93.9086 1431.51 Q90.2975 1431.51 88.4688 1435.08 Q86.6632 1438.62 86.6632 1445.75 Q86.6632 1452.86 88.4688 1456.42 Q90.2975 1459.96 93.9086 1459.96 Q97.5428 1459.96 99.3483 1456.42 Q101.177 1452.86 101.177 1445.75 Q101.177 1438.62 99.3483 1435.08 Q97.5428 1431.51 93.9086 1431.51 M93.9086 1427.81 Q99.7187 1427.81 102.774 1432.42 Q105.853 1437 105.853 1445.75 Q105.853 1454.48 102.774 1459.08 Q99.7187 1463.67 93.9086 1463.67 Q88.0984 1463.67 85.0197 1459.08 Q81.9642 1454.48 81.9642 1445.75 Q81.9642 1437 85.0197 1432.42 Q88.0984 1427.81 93.9086 1427.81 Z\" fill=\"#000000\" fill-rule=\"nonzero\" fill-opacity=\"1\" /><path clip-path=\"url(#clip360)\" d=\"M57.7745 1127.17 L74.0939 1127.17 L74.0939 1131.1 L52.1495 1131.1 L52.1495 1127.17 Q54.8115 1124.41 59.3949 1119.78 Q64.0013 1115.13 65.1819 1113.79 Q67.4272 1111.27 68.3068 1109.53 Q69.2096 1107.77 69.2096 1106.08 Q69.2096 1103.33 67.2652 1101.59 Q65.3439 1099.85 62.2421 1099.85 Q60.043 1099.85 57.5893 1100.62 Q55.1588 1101.38 52.381 1102.93 L52.381 1098.21 Q55.2051 1097.08 57.6588 1096.5 Q60.1124 1095.92 62.1495 1095.92 Q67.5198 1095.92 70.7142 1098.6 Q73.9087 1101.29 73.9087 1105.78 Q73.9087 1107.91 73.0985 1109.83 Q72.3115 1111.73 70.205 1114.32 Q69.6263 1114.99 66.5245 1118.21 Q63.4226 1121.4 57.7745 1127.17 Z\" fill=\"#000000\" fill-rule=\"nonzero\" fill-opacity=\"1\" /><path clip-path=\"url(#clip360)\" d=\"M93.9086 1099.62 Q90.2975 1099.62 88.4688 1103.19 Q86.6632 1106.73 86.6632 1113.86 Q86.6632 1120.97 88.4688 1124.53 Q90.2975 1128.07 93.9086 1128.07 Q97.5428 1128.07 99.3483 1124.53 Q101.177 1120.97 101.177 1113.86 Q101.177 1106.73 99.3483 1103.19 Q97.5428 1099.62 93.9086 1099.62 M93.9086 1095.92 Q99.7187 1095.92 102.774 1100.53 Q105.853 1105.11 105.853 1113.86 Q105.853 1122.59 102.774 1127.19 Q99.7187 1131.78 93.9086 1131.78 Q88.0984 1131.78 85.0197 1127.19 Q81.9642 1122.59 81.9642 1113.86 Q81.9642 1105.11 85.0197 1100.53 Q88.0984 1095.92 93.9086 1095.92 Z\" fill=\"#000000\" fill-rule=\"nonzero\" fill-opacity=\"1\" /><path clip-path=\"url(#clip360)\" d=\"M66.5939 768.726 L54.7884 787.175 L66.5939 787.175 L66.5939 768.726 M65.367 764.652 L71.2466 764.652 L71.2466 787.175 L76.1772 787.175 L76.1772 791.064 L71.2466 791.064 L71.2466 799.212 L66.5939 799.212 L66.5939 791.064 L50.9921 791.064 L50.9921 786.55 L65.367 764.652 Z\" fill=\"#000000\" fill-rule=\"nonzero\" fill-opacity=\"1\" /><path clip-path=\"url(#clip360)\" d=\"M93.9086 767.731 Q90.2975 767.731 88.4688 771.295 Q86.6632 774.837 86.6632 781.967 Q86.6632 789.073 88.4688 792.638 Q90.2975 796.18 93.9086 796.18 Q97.5428 796.18 99.3483 792.638 Q101.177 789.073 101.177 781.967 Q101.177 774.837 99.3483 771.295 Q97.5428 767.731 93.9086 767.731 M93.9086 764.027 Q99.7187 764.027 102.774 768.633 Q105.853 773.217 105.853 781.967 Q105.853 790.694 102.774 795.3 Q99.7187 799.883 93.9086 799.883 Q88.0984 799.883 85.0197 795.3 Q81.9642 790.694 81.9642 781.967 Q81.9642 773.217 85.0197 768.633 Q88.0984 764.027 93.9086 764.027 Z\" fill=\"#000000\" fill-rule=\"nonzero\" fill-opacity=\"1\" /><path clip-path=\"url(#clip360)\" d=\"M64.3254 448.177 Q61.1773 448.177 59.3254 450.329 Q57.4967 452.482 57.4967 456.232 Q57.4967 459.959 59.3254 462.135 Q61.1773 464.288 64.3254 464.288 Q67.4735 464.288 69.3022 462.135 Q71.1541 459.959 71.1541 456.232 Q71.1541 452.482 69.3022 450.329 Q67.4735 448.177 64.3254 448.177 M73.6077 433.524 L73.6077 437.783 Q71.8485 436.95 70.0429 436.51 Q68.2606 436.07 66.5013 436.07 Q61.8717 436.07 59.418 439.195 Q56.9875 442.32 56.6402 448.64 Q58.006 446.626 60.0662 445.561 Q62.1263 444.473 64.6032 444.473 Q69.8115 444.473 72.8207 447.644 Q75.8531 450.792 75.8531 456.232 Q75.8531 461.556 72.705 464.774 Q69.5568 467.991 64.3254 467.991 Q58.33 467.991 55.1588 463.408 Q51.9875 458.802 51.9875 450.075 Q51.9875 441.88 55.8764 437.019 Q59.7652 432.135 66.3161 432.135 Q68.0754 432.135 69.8578 432.482 Q71.6633 432.83 73.6077 433.524 Z\" fill=\"#000000\" fill-rule=\"nonzero\" fill-opacity=\"1\" /><path clip-path=\"url(#clip360)\" d=\"M93.9086 435.839 Q90.2975 435.839 88.4688 439.404 Q86.6632 442.945 86.6632 450.075 Q86.6632 457.181 88.4688 460.746 Q90.2975 464.288 93.9086 464.288 Q97.5428 464.288 99.3483 460.746 Q101.177 457.181 101.177 450.075 Q101.177 442.945 99.3483 439.404 Q97.5428 435.839 93.9086 435.839 M93.9086 432.135 Q99.7187 432.135 102.774 436.742 Q105.853 441.325 105.853 450.075 Q105.853 458.802 102.774 463.408 Q99.7187 467.991 93.9086 467.991 Q88.0984 467.991 85.0197 463.408 Q81.9642 458.802 81.9642 450.075 Q81.9642 441.325 85.0197 436.742 Q88.0984 432.135 93.9086 432.135 Z\" fill=\"#000000\" fill-rule=\"nonzero\" fill-opacity=\"1\" /><path clip-path=\"url(#clip360)\" d=\"M63.7467 119.016 Q60.4134 119.016 58.4921 120.799 Q56.5939 122.581 56.5939 125.706 Q56.5939 128.831 58.4921 130.613 Q60.4134 132.396 63.7467 132.396 Q67.08 132.396 69.0013 130.613 Q70.9226 128.808 70.9226 125.706 Q70.9226 122.581 69.0013 120.799 Q67.1032 119.016 63.7467 119.016 M59.0708 117.026 Q56.0615 116.285 54.3717 114.225 Q52.7051 112.164 52.7051 109.202 Q52.7051 105.058 55.6449 102.651 Q58.6078 100.243 63.7467 100.243 Q68.9087 100.243 71.8485 102.651 Q74.7883 105.058 74.7883 109.202 Q74.7883 112.164 73.0985 114.225 Q71.4318 116.285 68.4457 117.026 Q71.8253 117.813 73.7003 120.104 Q75.5985 122.396 75.5985 125.706 Q75.5985 130.729 72.5198 133.414 Q69.4642 136.1 63.7467 136.1 Q58.0291 136.1 54.9504 133.414 Q51.8949 130.729 51.8949 125.706 Q51.8949 122.396 53.793 120.104 Q55.6912 117.813 59.0708 117.026 M57.3578 109.641 Q57.3578 112.327 59.0245 113.831 Q60.7143 115.336 63.7467 115.336 Q66.7559 115.336 68.4457 113.831 Q70.1587 112.327 70.1587 109.641 Q70.1587 106.956 68.4457 105.452 Q66.7559 103.947 63.7467 103.947 Q60.7143 103.947 59.0245 105.452 Q57.3578 106.956 57.3578 109.641 Z\" fill=\"#000000\" fill-rule=\"nonzero\" fill-opacity=\"1\" /><path clip-path=\"url(#clip360)\" d=\"M93.9086 103.947 Q90.2975 103.947 88.4688 107.512 Q86.6632 111.053 86.6632 118.183 Q86.6632 125.289 88.4688 128.854 Q90.2975 132.396 93.9086 132.396 Q97.5428 132.396 99.3483 128.854 Q101.177 125.289 101.177 118.183 Q101.177 111.053 99.3483 107.512 Q97.5428 103.947 93.9086 103.947 M93.9086 100.243 Q99.7187 100.243 102.774 104.85 Q105.853 109.433 105.853 118.183 Q105.853 126.91 102.774 131.516 Q99.7187 136.1 93.9086 136.1 Q88.0984 136.1 85.0197 131.516 Q81.9642 126.91 81.9642 118.183 Q81.9642 109.433 85.0197 104.85 Q88.0984 100.243 93.9086 100.243 Z\" fill=\"#000000\" fill-rule=\"nonzero\" fill-opacity=\"1\" /><polyline clip-path=\"url(#clip362)\" style=\"stroke:#009af9; stroke-linecap:round; stroke-linejoin:round; stroke-width:4; stroke-opacity:1; fill:none\" points=\"204.426,1445.72 251.829,1445.72 299.233,1445.72 346.636,1445.72 394.04,1445.72 441.444,1445.72 488.847,1445.72 536.251,1445.72 583.654,1445.72 631.058,1445.72 678.461,1445.72 725.865,1445.72 773.269,1445.72 820.672,1445.72 868.076,1445.72 915.479,1445.72 962.883,1445.72 1010.29,1445.72 1057.69,1430.63 1105.09,1430.63 1152.5,1430.63 1199.9,1430.63 1247.3,1430.63 1294.71,1430.63 1342.11,1430.63 1389.52,1430.63 1436.92,1430.63 1484.32,1430.63 1531.73,1430.63 1579.13,1430.63 1626.53,1430.63 1673.94,1430.63 1721.34,1430.63 1768.74,1430.63 1816.15,1430.63 1863.55,1430.63 1910.95,1430.63 1958.36,1415.54 2005.76,1415.54 2053.17,1415.54 2100.57,1415.54 2147.97,1400.46 2195.38,1400.46 2242.78,1385.37 2290.18,1355.2 \"/>\n",
       "<polyline clip-path=\"url(#clip362)\" style=\"stroke:#e26f46; stroke-linecap:round; stroke-linejoin:round; stroke-width:4; stroke-opacity:1; fill:none\" points=\"204.426,1294.86 251.829,1294.86 299.233,1294.86 346.636,1294.86 394.04,1294.86 441.444,1294.86 488.847,1294.86 536.251,1294.86 583.654,1294.86 631.058,1294.86 678.461,1294.86 725.865,1294.86 773.269,1294.86 820.672,1294.86 868.076,1294.86 915.479,1294.86 962.883,1294.86 1010.29,1294.86 1057.69,1294.86 1105.09,1294.86 1152.5,1294.86 1199.9,1294.86 1247.3,1294.86 1294.71,1294.86 1342.11,1294.86 1389.52,1294.86 1436.92,1294.86 1484.32,1294.86 1531.73,1294.86 1579.13,1294.86 1626.53,1294.86 1673.94,1279.77 1721.34,1279.77 1768.74,1279.77 1816.15,1279.77 1863.55,1279.77 1910.95,1279.77 1958.36,1279.77 2005.76,1279.77 2053.17,1279.77 2100.57,1279.77 2147.97,1279.77 2195.38,1264.68 2242.78,1264.68 2290.18,1249.6 \"/>\n",
       "<polyline clip-path=\"url(#clip362)\" style=\"stroke:#3da44d; stroke-linecap:round; stroke-linejoin:round; stroke-width:4; stroke-opacity:1; fill:none\" points=\"204.426,1144 251.829,1144 299.233,1144 346.636,1144 394.04,1144 441.444,1144 488.847,1144 536.251,1144 583.654,1144 631.058,1144 678.461,1144 725.865,1144 773.269,1144 820.672,1144 868.076,1144 915.479,1144 962.883,1144 1010.29,1144 1057.69,1144 1105.09,1144 1152.5,1144 1199.9,1144 1247.3,1144 1294.71,1144 1342.11,1144 1389.52,1144 1436.92,1144 1484.32,1144 1531.73,1144 1579.13,1144 1626.53,1144 1673.94,1144 1721.34,1144 1768.74,1144 1816.15,1144 1863.55,1144 1910.95,1144 1958.36,1144 2005.76,1144 2053.17,1144 2100.57,1144 2147.97,1144 2195.38,1144 2242.78,1144 2290.18,1144 \"/>\n",
       "<polyline clip-path=\"url(#clip362)\" style=\"stroke:#c271d2; stroke-linecap:round; stroke-linejoin:round; stroke-width:4; stroke-opacity:1; fill:none\" points=\"204.426,993.136 251.829,993.136 299.233,993.136 346.636,993.136 394.04,993.136 441.444,993.136 488.847,993.136 536.251,993.136 583.654,993.136 631.058,993.136 678.461,993.136 725.865,993.136 773.269,993.136 820.672,993.136 868.076,993.136 915.479,993.136 962.883,993.136 1010.29,993.136 1057.69,993.136 1105.09,993.136 1152.5,993.136 1199.9,993.136 1247.3,993.136 1294.71,993.136 1342.11,993.136 1389.52,993.136 1436.92,993.136 1484.32,993.136 1531.73,993.136 1579.13,993.136 1626.53,993.136 1673.94,993.136 1721.34,993.136 1768.74,993.136 1816.15,993.136 1863.55,993.136 1910.95,993.136 1958.36,1008.22 2005.76,1008.22 2053.17,1008.22 2100.57,1008.22 2147.97,1008.22 2195.38,1023.31 2242.78,1023.31 2290.18,1038.39 \"/>\n",
       "<polyline clip-path=\"url(#clip362)\" style=\"stroke:#ac8d18; stroke-linecap:round; stroke-linejoin:round; stroke-width:4; stroke-opacity:1; fill:none\" points=\"204.426,842.276 251.829,842.276 299.233,842.276 346.636,842.276 394.04,842.276 441.444,842.276 488.847,842.276 536.251,842.276 583.654,842.276 631.058,842.276 678.461,842.276 725.865,842.276 773.269,842.276 820.672,842.276 868.076,842.276 915.479,842.276 962.883,842.276 1010.29,842.276 1057.69,842.276 1105.09,842.276 1152.5,842.276 1199.9,842.276 1247.3,842.276 1294.71,842.276 1342.11,842.276 1389.52,842.276 1436.92,842.276 1484.32,842.276 1531.73,857.362 1579.13,857.362 1626.53,857.362 1673.94,857.362 1721.34,857.362 1768.74,857.362 1816.15,857.362 1863.55,857.362 1910.95,857.362 1958.36,857.362 2005.76,872.448 2053.17,872.448 2100.57,872.448 2147.97,887.534 2195.38,887.534 2242.78,902.62 2290.18,932.792 \"/>\n",
       "<polyline clip-path=\"url(#clip362)\" style=\"stroke:#00a9ad; stroke-linecap:round; stroke-linejoin:round; stroke-width:4; stroke-opacity:1; fill:none\" points=\"204.426,691.416 251.829,691.416 299.233,691.416 346.636,691.416 394.04,691.416 441.444,691.416 488.847,691.416 536.251,691.416 583.654,691.416 631.058,691.416 678.461,691.416 725.865,691.416 773.269,691.416 820.672,691.416 868.076,691.416 915.479,691.416 962.883,691.416 1010.29,691.416 1057.69,691.416 1105.09,691.416 1152.5,691.416 1199.9,691.416 1247.3,706.502 1294.71,706.502 1342.11,706.502 1389.52,706.502 1436.92,706.502 1484.32,706.502 1531.73,706.502 1579.13,706.502 1626.53,706.502 1673.94,706.502 1721.34,706.502 1768.74,706.502 1816.15,721.588 1863.55,721.588 1910.95,721.588 1958.36,721.588 2005.76,736.674 2053.17,736.674 2100.57,736.674 2147.97,751.76 2195.38,766.846 2242.78,781.932 2290.18,812.104 \"/>\n",
       "<polyline clip-path=\"url(#clip362)\" style=\"stroke:#ed5d92; stroke-linecap:round; stroke-linejoin:round; stroke-width:4; stroke-opacity:1; fill:none\" points=\"204.426,540.556 251.829,540.556 299.233,540.556 346.636,540.556 394.04,540.556 441.444,540.556 488.847,540.556 536.251,540.556 583.654,540.556 631.058,540.556 678.461,540.556 725.865,540.556 773.269,540.556 820.672,540.556 868.076,540.556 915.479,540.556 962.883,555.642 1010.29,555.642 1057.69,555.642 1105.09,555.642 1152.5,555.642 1199.9,555.642 1247.3,555.642 1294.71,555.642 1342.11,555.642 1389.52,555.642 1436.92,555.642 1484.32,555.642 1531.73,555.642 1579.13,555.642 1626.53,555.642 1673.94,570.728 1721.34,570.728 1768.74,570.728 1816.15,570.728 1863.55,570.728 1910.95,585.814 1958.36,585.814 2005.76,585.814 2053.17,600.9 2100.57,615.986 2147.97,631.072 2195.38,646.158 2242.78,661.244 2290.18,706.502 \"/>\n",
       "<polyline clip-path=\"url(#clip362)\" style=\"stroke:#c68125; stroke-linecap:round; stroke-linejoin:round; stroke-width:4; stroke-opacity:1; fill:none\" points=\"204.426,389.696 251.829,389.696 299.233,389.696 346.636,389.696 394.04,389.696 441.444,389.696 488.847,389.696 536.251,389.696 583.654,389.696 631.058,389.696 678.461,389.696 725.865,404.782 773.269,404.782 820.672,404.782 868.076,404.782 915.479,404.782 962.883,404.782 1010.29,404.782 1057.69,404.782 1105.09,404.782 1152.5,404.782 1199.9,404.782 1247.3,404.782 1294.71,404.782 1342.11,404.782 1389.52,404.782 1436.92,404.782 1484.32,404.782 1531.73,419.868 1579.13,419.868 1626.53,419.868 1673.94,419.868 1721.34,419.868 1768.74,419.868 1816.15,434.954 1863.55,434.954 1910.95,434.954 1958.36,450.04 2005.76,450.04 2053.17,465.126 2100.57,480.212 2147.97,495.298 2195.38,510.384 2242.78,555.642 2290.18,600.9 \"/>\n",
       "<polyline clip-path=\"url(#clip362)\" style=\"stroke:#00a98d; stroke-linecap:round; stroke-linejoin:round; stroke-width:4; stroke-opacity:1; fill:none\" points=\"204.426,238.836 251.829,238.836 299.233,238.836 346.636,238.836 394.04,238.836 441.444,238.836 488.847,253.922 536.251,253.922 583.654,253.922 631.058,253.922 678.461,253.922 725.865,253.922 773.269,253.922 820.672,253.922 868.076,253.922 915.479,253.922 962.883,253.922 1010.29,253.922 1057.69,253.922 1105.09,253.922 1152.5,253.922 1199.9,253.922 1247.3,253.922 1294.71,253.922 1342.11,253.922 1389.52,269.008 1436.92,269.008 1484.32,269.008 1531.73,269.008 1579.13,269.008 1626.53,269.008 1673.94,284.094 1721.34,284.094 1768.74,284.094 1816.15,284.094 1863.55,299.18 1910.95,299.18 1958.36,314.266 2005.76,314.266 2053.17,329.352 2100.57,344.438 2147.97,359.524 2195.38,389.696 2242.78,434.954 2290.18,495.298 \"/>\n",
       "<polyline clip-path=\"url(#clip362)\" style=\"stroke:#8e971d; stroke-linecap:round; stroke-linejoin:round; stroke-width:4; stroke-opacity:1; fill:none\" points=\"204.426,87.9763 251.829,103.062 299.233,103.062 346.636,103.062 394.04,103.062 441.444,103.062 488.847,103.062 536.251,103.062 583.654,103.062 631.058,103.062 678.461,103.062 725.865,103.062 773.269,103.062 820.672,103.062 868.076,103.062 915.479,103.062 962.883,103.062 1010.29,103.062 1057.69,103.062 1105.09,103.062 1152.5,103.062 1199.9,103.062 1247.3,103.062 1294.71,118.148 1342.11,118.148 1389.52,118.148 1436.92,118.148 1484.32,118.148 1531.73,118.148 1579.13,118.148 1626.53,133.234 1673.94,133.234 1721.34,133.234 1768.74,148.32 1816.15,148.32 1863.55,148.32 1910.95,163.406 1958.36,163.406 2005.76,178.492 2053.17,193.578 2100.57,208.664 2147.97,238.836 2195.38,269.008 2242.78,314.266 2290.18,389.696 \"/>\n",
       "</svg>\n"
      ],
      "text/html": [
       "<?xml version=\"1.0\" encoding=\"utf-8\"?>\n",
       "<svg xmlns=\"http://www.w3.org/2000/svg\" xmlns:xlink=\"http://www.w3.org/1999/xlink\" width=\"600\" height=\"400\" viewBox=\"0 0 2400 1600\">\n",
       "<defs>\n",
       "  <clipPath id=\"clip410\">\n",
       "    <rect x=\"0\" y=\"0\" width=\"2400\" height=\"1600\"/>\n",
       "  </clipPath>\n",
       "</defs>\n",
       "<path clip-path=\"url(#clip410)\" d=\"M0 1600 L2400 1600 L2400 0 L0 0  Z\" fill=\"#ffffff\" fill-rule=\"evenodd\" fill-opacity=\"1\"/>\n",
       "<defs>\n",
       "  <clipPath id=\"clip411\">\n",
       "    <rect x=\"480\" y=\"0\" width=\"1681\" height=\"1600\"/>\n",
       "  </clipPath>\n",
       "</defs>\n",
       "<path clip-path=\"url(#clip410)\" d=\"M141.853 1486.45 L2352.76 1486.45 L2352.76 47.2441 L141.853 47.2441  Z\" fill=\"#ffffff\" fill-rule=\"evenodd\" fill-opacity=\"1\"/>\n",
       "<defs>\n",
       "  <clipPath id=\"clip412\">\n",
       "    <rect x=\"141\" y=\"47\" width=\"2212\" height=\"1440\"/>\n",
       "  </clipPath>\n",
       "</defs>\n",
       "<polyline clip-path=\"url(#clip412)\" style=\"stroke:#000000; stroke-linecap:round; stroke-linejoin:round; stroke-width:2; stroke-opacity:0.1; fill:none\" points=\"157.022,1486.45 157.022,47.2441 \"/>\n",
       "<polyline clip-path=\"url(#clip412)\" style=\"stroke:#000000; stroke-linecap:round; stroke-linejoin:round; stroke-width:2; stroke-opacity:0.1; fill:none\" points=\"631.058,1486.45 631.058,47.2441 \"/>\n",
       "<polyline clip-path=\"url(#clip412)\" style=\"stroke:#000000; stroke-linecap:round; stroke-linejoin:round; stroke-width:2; stroke-opacity:0.1; fill:none\" points=\"1105.09,1486.45 1105.09,47.2441 \"/>\n",
       "<polyline clip-path=\"url(#clip412)\" style=\"stroke:#000000; stroke-linecap:round; stroke-linejoin:round; stroke-width:2; stroke-opacity:0.1; fill:none\" points=\"1579.13,1486.45 1579.13,47.2441 \"/>\n",
       "<polyline clip-path=\"url(#clip412)\" style=\"stroke:#000000; stroke-linecap:round; stroke-linejoin:round; stroke-width:2; stroke-opacity:0.1; fill:none\" points=\"2053.17,1486.45 2053.17,47.2441 \"/>\n",
       "<polyline clip-path=\"url(#clip410)\" style=\"stroke:#000000; stroke-linecap:round; stroke-linejoin:round; stroke-width:4; stroke-opacity:1; fill:none\" points=\"141.853,1486.45 2352.76,1486.45 \"/>\n",
       "<polyline clip-path=\"url(#clip410)\" style=\"stroke:#000000; stroke-linecap:round; stroke-linejoin:round; stroke-width:4; stroke-opacity:1; fill:none\" points=\"157.022,1486.45 157.022,1467.55 \"/>\n",
       "<polyline clip-path=\"url(#clip410)\" style=\"stroke:#000000; stroke-linecap:round; stroke-linejoin:round; stroke-width:4; stroke-opacity:1; fill:none\" points=\"631.058,1486.45 631.058,1467.55 \"/>\n",
       "<polyline clip-path=\"url(#clip410)\" style=\"stroke:#000000; stroke-linecap:round; stroke-linejoin:round; stroke-width:4; stroke-opacity:1; fill:none\" points=\"1105.09,1486.45 1105.09,1467.55 \"/>\n",
       "<polyline clip-path=\"url(#clip410)\" style=\"stroke:#000000; stroke-linecap:round; stroke-linejoin:round; stroke-width:4; stroke-opacity:1; fill:none\" points=\"1579.13,1486.45 1579.13,1467.55 \"/>\n",
       "<polyline clip-path=\"url(#clip410)\" style=\"stroke:#000000; stroke-linecap:round; stroke-linejoin:round; stroke-width:4; stroke-opacity:1; fill:none\" points=\"2053.17,1486.45 2053.17,1467.55 \"/>\n",
       "<path clip-path=\"url(#clip410)\" d=\"M157.022 1517.37 Q153.411 1517.37 151.582 1520.93 Q149.777 1524.47 149.777 1531.6 Q149.777 1538.71 151.582 1542.27 Q153.411 1545.82 157.022 1545.82 Q160.656 1545.82 162.462 1542.27 Q164.291 1538.71 164.291 1531.6 Q164.291 1524.47 162.462 1520.93 Q160.656 1517.37 157.022 1517.37 M157.022 1513.66 Q162.832 1513.66 165.888 1518.27 Q168.966 1522.85 168.966 1531.6 Q168.966 1540.33 165.888 1544.94 Q162.832 1549.52 157.022 1549.52 Q151.212 1549.52 148.133 1544.94 Q145.078 1540.33 145.078 1531.6 Q145.078 1522.85 148.133 1518.27 Q151.212 1513.66 157.022 1513.66 Z\" fill=\"#000000\" fill-rule=\"nonzero\" fill-opacity=\"1\" /><path clip-path=\"url(#clip410)\" d=\"M605.746 1544.91 L613.384 1544.91 L613.384 1518.55 L605.074 1520.21 L605.074 1515.95 L613.338 1514.29 L618.014 1514.29 L618.014 1544.91 L625.653 1544.91 L625.653 1548.85 L605.746 1548.85 L605.746 1544.91 Z\" fill=\"#000000\" fill-rule=\"nonzero\" fill-opacity=\"1\" /><path clip-path=\"url(#clip410)\" d=\"M645.097 1517.37 Q641.486 1517.37 639.657 1520.93 Q637.852 1524.47 637.852 1531.6 Q637.852 1538.71 639.657 1542.27 Q641.486 1545.82 645.097 1545.82 Q648.731 1545.82 650.537 1542.27 Q652.366 1538.71 652.366 1531.6 Q652.366 1524.47 650.537 1520.93 Q648.731 1517.37 645.097 1517.37 M645.097 1513.66 Q650.907 1513.66 653.963 1518.27 Q657.042 1522.85 657.042 1531.6 Q657.042 1540.33 653.963 1544.94 Q650.907 1549.52 645.097 1549.52 Q639.287 1549.52 636.208 1544.94 Q633.153 1540.33 633.153 1531.6 Q633.153 1522.85 636.208 1518.27 Q639.287 1513.66 645.097 1513.66 Z\" fill=\"#000000\" fill-rule=\"nonzero\" fill-opacity=\"1\" /><path clip-path=\"url(#clip410)\" d=\"M1083.87 1544.91 L1100.19 1544.91 L1100.19 1548.85 L1078.24 1548.85 L1078.24 1544.91 Q1080.9 1542.16 1085.49 1537.53 Q1090.09 1532.88 1091.27 1531.53 Q1093.52 1529.01 1094.4 1527.27 Q1095.3 1525.51 1095.3 1523.82 Q1095.3 1521.07 1093.36 1519.33 Q1091.44 1517.6 1088.33 1517.6 Q1086.14 1517.6 1083.68 1518.36 Q1081.25 1519.13 1078.47 1520.68 L1078.47 1515.95 Q1081.3 1514.82 1083.75 1514.24 Q1086.2 1513.66 1088.24 1513.66 Q1093.61 1513.66 1096.81 1516.35 Q1100 1519.03 1100 1523.52 Q1100 1525.65 1099.19 1527.57 Q1098.4 1529.47 1096.3 1532.07 Q1095.72 1532.74 1092.62 1535.95 Q1089.52 1539.15 1083.87 1544.91 Z\" fill=\"#000000\" fill-rule=\"nonzero\" fill-opacity=\"1\" /><path clip-path=\"url(#clip410)\" d=\"M1120 1517.37 Q1116.39 1517.37 1114.56 1520.93 Q1112.76 1524.47 1112.76 1531.6 Q1112.76 1538.71 1114.56 1542.27 Q1116.39 1545.82 1120 1545.82 Q1123.64 1545.82 1125.44 1542.27 Q1127.27 1538.71 1127.27 1531.6 Q1127.27 1524.47 1125.44 1520.93 Q1123.64 1517.37 1120 1517.37 M1120 1513.66 Q1125.81 1513.66 1128.87 1518.27 Q1131.95 1522.85 1131.95 1531.6 Q1131.95 1540.33 1128.87 1544.94 Q1125.81 1549.52 1120 1549.52 Q1114.19 1549.52 1111.11 1544.94 Q1108.06 1540.33 1108.06 1531.6 Q1108.06 1522.85 1111.11 1518.27 Q1114.19 1513.66 1120 1513.66 Z\" fill=\"#000000\" fill-rule=\"nonzero\" fill-opacity=\"1\" /><path clip-path=\"url(#clip410)\" d=\"M1567.97 1530.21 Q1571.33 1530.93 1573.2 1533.2 Q1575.1 1535.47 1575.1 1538.8 Q1575.1 1543.92 1571.58 1546.72 Q1568.06 1549.52 1561.58 1549.52 Q1559.41 1549.52 1557.09 1549.08 Q1554.8 1548.66 1552.35 1547.81 L1552.35 1543.29 Q1554.29 1544.43 1556.61 1545.01 Q1558.92 1545.58 1561.44 1545.58 Q1565.84 1545.58 1568.13 1543.85 Q1570.45 1542.11 1570.45 1538.8 Q1570.45 1535.75 1568.3 1534.03 Q1566.17 1532.3 1562.35 1532.3 L1558.32 1532.3 L1558.32 1528.45 L1562.53 1528.45 Q1565.98 1528.45 1567.81 1527.09 Q1569.64 1525.7 1569.64 1523.11 Q1569.64 1520.45 1567.74 1519.03 Q1565.87 1517.6 1562.35 1517.6 Q1560.43 1517.6 1558.23 1518.01 Q1556.03 1518.43 1553.39 1519.31 L1553.39 1515.14 Q1556.05 1514.4 1558.37 1514.03 Q1560.7 1513.66 1562.76 1513.66 Q1568.09 1513.66 1571.19 1516.09 Q1574.29 1518.5 1574.29 1522.62 Q1574.29 1525.49 1572.65 1527.48 Q1571 1529.45 1567.97 1530.21 Z\" fill=\"#000000\" fill-rule=\"nonzero\" fill-opacity=\"1\" /><path clip-path=\"url(#clip410)\" d=\"M1593.97 1517.37 Q1590.36 1517.37 1588.53 1520.93 Q1586.72 1524.47 1586.72 1531.6 Q1586.72 1538.71 1588.53 1542.27 Q1590.36 1545.82 1593.97 1545.82 Q1597.6 1545.82 1599.41 1542.27 Q1601.24 1538.71 1601.24 1531.6 Q1601.24 1524.47 1599.41 1520.93 Q1597.6 1517.37 1593.97 1517.37 M1593.97 1513.66 Q1599.78 1513.66 1602.83 1518.27 Q1605.91 1522.85 1605.91 1531.6 Q1605.91 1540.33 1602.83 1544.94 Q1599.78 1549.52 1593.97 1549.52 Q1588.16 1549.52 1585.08 1544.94 Q1582.02 1540.33 1582.02 1531.6 Q1582.02 1522.85 1585.08 1518.27 Q1588.16 1513.66 1593.97 1513.66 Z\" fill=\"#000000\" fill-rule=\"nonzero\" fill-opacity=\"1\" /><path clip-path=\"url(#clip410)\" d=\"M2041.34 1518.36 L2029.53 1536.81 L2041.34 1536.81 L2041.34 1518.36 M2040.11 1514.29 L2045.99 1514.29 L2045.99 1536.81 L2050.92 1536.81 L2050.92 1540.7 L2045.99 1540.7 L2045.99 1548.85 L2041.34 1548.85 L2041.34 1540.7 L2025.73 1540.7 L2025.73 1536.19 L2040.11 1514.29 Z\" fill=\"#000000\" fill-rule=\"nonzero\" fill-opacity=\"1\" /><path clip-path=\"url(#clip410)\" d=\"M2068.65 1517.37 Q2065.04 1517.37 2063.21 1520.93 Q2061.41 1524.47 2061.41 1531.6 Q2061.41 1538.71 2063.21 1542.27 Q2065.04 1545.82 2068.65 1545.82 Q2072.29 1545.82 2074.09 1542.27 Q2075.92 1538.71 2075.92 1531.6 Q2075.92 1524.47 2074.09 1520.93 Q2072.29 1517.37 2068.65 1517.37 M2068.65 1513.66 Q2074.46 1513.66 2077.52 1518.27 Q2080.6 1522.85 2080.6 1531.6 Q2080.6 1540.33 2077.52 1544.94 Q2074.46 1549.52 2068.65 1549.52 Q2062.84 1549.52 2059.76 1544.94 Q2056.71 1540.33 2056.71 1531.6 Q2056.71 1522.85 2059.76 1518.27 Q2062.84 1513.66 2068.65 1513.66 Z\" fill=\"#000000\" fill-rule=\"nonzero\" fill-opacity=\"1\" /><polyline clip-path=\"url(#clip412)\" style=\"stroke:#000000; stroke-linecap:round; stroke-linejoin:round; stroke-width:2; stroke-opacity:0.1; fill:none\" points=\"141.853,1445.72 2352.76,1445.72 \"/>\n",
       "<polyline clip-path=\"url(#clip412)\" style=\"stroke:#000000; stroke-linecap:round; stroke-linejoin:round; stroke-width:2; stroke-opacity:0.1; fill:none\" points=\"141.853,1113.82 2352.76,1113.82 \"/>\n",
       "<polyline clip-path=\"url(#clip412)\" style=\"stroke:#000000; stroke-linecap:round; stroke-linejoin:round; stroke-width:2; stroke-opacity:0.1; fill:none\" points=\"141.853,781.932 2352.76,781.932 \"/>\n",
       "<polyline clip-path=\"url(#clip412)\" style=\"stroke:#000000; stroke-linecap:round; stroke-linejoin:round; stroke-width:2; stroke-opacity:0.1; fill:none\" points=\"141.853,450.04 2352.76,450.04 \"/>\n",
       "<polyline clip-path=\"url(#clip412)\" style=\"stroke:#000000; stroke-linecap:round; stroke-linejoin:round; stroke-width:2; stroke-opacity:0.1; fill:none\" points=\"141.853,118.148 2352.76,118.148 \"/>\n",
       "<polyline clip-path=\"url(#clip410)\" style=\"stroke:#000000; stroke-linecap:round; stroke-linejoin:round; stroke-width:4; stroke-opacity:1; fill:none\" points=\"141.853,1486.45 141.853,47.2441 \"/>\n",
       "<polyline clip-path=\"url(#clip410)\" style=\"stroke:#000000; stroke-linecap:round; stroke-linejoin:round; stroke-width:4; stroke-opacity:1; fill:none\" points=\"141.853,1445.72 160.751,1445.72 \"/>\n",
       "<polyline clip-path=\"url(#clip410)\" style=\"stroke:#000000; stroke-linecap:round; stroke-linejoin:round; stroke-width:4; stroke-opacity:1; fill:none\" points=\"141.853,1113.82 160.751,1113.82 \"/>\n",
       "<polyline clip-path=\"url(#clip410)\" style=\"stroke:#000000; stroke-linecap:round; stroke-linejoin:round; stroke-width:4; stroke-opacity:1; fill:none\" points=\"141.853,781.932 160.751,781.932 \"/>\n",
       "<polyline clip-path=\"url(#clip410)\" style=\"stroke:#000000; stroke-linecap:round; stroke-linejoin:round; stroke-width:4; stroke-opacity:1; fill:none\" points=\"141.853,450.04 160.751,450.04 \"/>\n",
       "<polyline clip-path=\"url(#clip410)\" style=\"stroke:#000000; stroke-linecap:round; stroke-linejoin:round; stroke-width:4; stroke-opacity:1; fill:none\" points=\"141.853,118.148 160.751,118.148 \"/>\n",
       "<path clip-path=\"url(#clip410)\" d=\"M93.9086 1431.51 Q90.2975 1431.51 88.4688 1435.08 Q86.6632 1438.62 86.6632 1445.75 Q86.6632 1452.86 88.4688 1456.42 Q90.2975 1459.96 93.9086 1459.96 Q97.5428 1459.96 99.3483 1456.42 Q101.177 1452.86 101.177 1445.75 Q101.177 1438.62 99.3483 1435.08 Q97.5428 1431.51 93.9086 1431.51 M93.9086 1427.81 Q99.7187 1427.81 102.774 1432.42 Q105.853 1437 105.853 1445.75 Q105.853 1454.48 102.774 1459.08 Q99.7187 1463.67 93.9086 1463.67 Q88.0984 1463.67 85.0197 1459.08 Q81.9642 1454.48 81.9642 1445.75 Q81.9642 1437 85.0197 1432.42 Q88.0984 1427.81 93.9086 1427.81 Z\" fill=\"#000000\" fill-rule=\"nonzero\" fill-opacity=\"1\" /><path clip-path=\"url(#clip410)\" d=\"M57.7745 1127.17 L74.0939 1127.17 L74.0939 1131.1 L52.1495 1131.1 L52.1495 1127.17 Q54.8115 1124.41 59.3949 1119.78 Q64.0013 1115.13 65.1819 1113.79 Q67.4272 1111.27 68.3068 1109.53 Q69.2096 1107.77 69.2096 1106.08 Q69.2096 1103.33 67.2652 1101.59 Q65.3439 1099.85 62.2421 1099.85 Q60.043 1099.85 57.5893 1100.62 Q55.1588 1101.38 52.381 1102.93 L52.381 1098.21 Q55.2051 1097.08 57.6588 1096.5 Q60.1124 1095.92 62.1495 1095.92 Q67.5198 1095.92 70.7142 1098.6 Q73.9087 1101.29 73.9087 1105.78 Q73.9087 1107.91 73.0985 1109.83 Q72.3115 1111.73 70.205 1114.32 Q69.6263 1114.99 66.5245 1118.21 Q63.4226 1121.4 57.7745 1127.17 Z\" fill=\"#000000\" fill-rule=\"nonzero\" fill-opacity=\"1\" /><path clip-path=\"url(#clip410)\" d=\"M93.9086 1099.62 Q90.2975 1099.62 88.4688 1103.19 Q86.6632 1106.73 86.6632 1113.86 Q86.6632 1120.97 88.4688 1124.53 Q90.2975 1128.07 93.9086 1128.07 Q97.5428 1128.07 99.3483 1124.53 Q101.177 1120.97 101.177 1113.86 Q101.177 1106.73 99.3483 1103.19 Q97.5428 1099.62 93.9086 1099.62 M93.9086 1095.92 Q99.7187 1095.92 102.774 1100.53 Q105.853 1105.11 105.853 1113.86 Q105.853 1122.59 102.774 1127.19 Q99.7187 1131.78 93.9086 1131.78 Q88.0984 1131.78 85.0197 1127.19 Q81.9642 1122.59 81.9642 1113.86 Q81.9642 1105.11 85.0197 1100.53 Q88.0984 1095.92 93.9086 1095.92 Z\" fill=\"#000000\" fill-rule=\"nonzero\" fill-opacity=\"1\" /><path clip-path=\"url(#clip410)\" d=\"M66.5939 768.726 L54.7884 787.175 L66.5939 787.175 L66.5939 768.726 M65.367 764.652 L71.2466 764.652 L71.2466 787.175 L76.1772 787.175 L76.1772 791.064 L71.2466 791.064 L71.2466 799.212 L66.5939 799.212 L66.5939 791.064 L50.9921 791.064 L50.9921 786.55 L65.367 764.652 Z\" fill=\"#000000\" fill-rule=\"nonzero\" fill-opacity=\"1\" /><path clip-path=\"url(#clip410)\" d=\"M93.9086 767.731 Q90.2975 767.731 88.4688 771.295 Q86.6632 774.837 86.6632 781.967 Q86.6632 789.073 88.4688 792.638 Q90.2975 796.18 93.9086 796.18 Q97.5428 796.18 99.3483 792.638 Q101.177 789.073 101.177 781.967 Q101.177 774.837 99.3483 771.295 Q97.5428 767.731 93.9086 767.731 M93.9086 764.027 Q99.7187 764.027 102.774 768.633 Q105.853 773.217 105.853 781.967 Q105.853 790.694 102.774 795.3 Q99.7187 799.883 93.9086 799.883 Q88.0984 799.883 85.0197 795.3 Q81.9642 790.694 81.9642 781.967 Q81.9642 773.217 85.0197 768.633 Q88.0984 764.027 93.9086 764.027 Z\" fill=\"#000000\" fill-rule=\"nonzero\" fill-opacity=\"1\" /><path clip-path=\"url(#clip410)\" d=\"M64.3254 448.177 Q61.1773 448.177 59.3254 450.329 Q57.4967 452.482 57.4967 456.232 Q57.4967 459.959 59.3254 462.135 Q61.1773 464.288 64.3254 464.288 Q67.4735 464.288 69.3022 462.135 Q71.1541 459.959 71.1541 456.232 Q71.1541 452.482 69.3022 450.329 Q67.4735 448.177 64.3254 448.177 M73.6077 433.524 L73.6077 437.783 Q71.8485 436.95 70.0429 436.51 Q68.2606 436.07 66.5013 436.07 Q61.8717 436.07 59.418 439.195 Q56.9875 442.32 56.6402 448.64 Q58.006 446.626 60.0662 445.561 Q62.1263 444.473 64.6032 444.473 Q69.8115 444.473 72.8207 447.644 Q75.8531 450.792 75.8531 456.232 Q75.8531 461.556 72.705 464.774 Q69.5568 467.991 64.3254 467.991 Q58.33 467.991 55.1588 463.408 Q51.9875 458.802 51.9875 450.075 Q51.9875 441.88 55.8764 437.019 Q59.7652 432.135 66.3161 432.135 Q68.0754 432.135 69.8578 432.482 Q71.6633 432.83 73.6077 433.524 Z\" fill=\"#000000\" fill-rule=\"nonzero\" fill-opacity=\"1\" /><path clip-path=\"url(#clip410)\" d=\"M93.9086 435.839 Q90.2975 435.839 88.4688 439.404 Q86.6632 442.945 86.6632 450.075 Q86.6632 457.181 88.4688 460.746 Q90.2975 464.288 93.9086 464.288 Q97.5428 464.288 99.3483 460.746 Q101.177 457.181 101.177 450.075 Q101.177 442.945 99.3483 439.404 Q97.5428 435.839 93.9086 435.839 M93.9086 432.135 Q99.7187 432.135 102.774 436.742 Q105.853 441.325 105.853 450.075 Q105.853 458.802 102.774 463.408 Q99.7187 467.991 93.9086 467.991 Q88.0984 467.991 85.0197 463.408 Q81.9642 458.802 81.9642 450.075 Q81.9642 441.325 85.0197 436.742 Q88.0984 432.135 93.9086 432.135 Z\" fill=\"#000000\" fill-rule=\"nonzero\" fill-opacity=\"1\" /><path clip-path=\"url(#clip410)\" d=\"M63.7467 119.016 Q60.4134 119.016 58.4921 120.799 Q56.5939 122.581 56.5939 125.706 Q56.5939 128.831 58.4921 130.613 Q60.4134 132.396 63.7467 132.396 Q67.08 132.396 69.0013 130.613 Q70.9226 128.808 70.9226 125.706 Q70.9226 122.581 69.0013 120.799 Q67.1032 119.016 63.7467 119.016 M59.0708 117.026 Q56.0615 116.285 54.3717 114.225 Q52.7051 112.164 52.7051 109.202 Q52.7051 105.058 55.6449 102.651 Q58.6078 100.243 63.7467 100.243 Q68.9087 100.243 71.8485 102.651 Q74.7883 105.058 74.7883 109.202 Q74.7883 112.164 73.0985 114.225 Q71.4318 116.285 68.4457 117.026 Q71.8253 117.813 73.7003 120.104 Q75.5985 122.396 75.5985 125.706 Q75.5985 130.729 72.5198 133.414 Q69.4642 136.1 63.7467 136.1 Q58.0291 136.1 54.9504 133.414 Q51.8949 130.729 51.8949 125.706 Q51.8949 122.396 53.793 120.104 Q55.6912 117.813 59.0708 117.026 M57.3578 109.641 Q57.3578 112.327 59.0245 113.831 Q60.7143 115.336 63.7467 115.336 Q66.7559 115.336 68.4457 113.831 Q70.1587 112.327 70.1587 109.641 Q70.1587 106.956 68.4457 105.452 Q66.7559 103.947 63.7467 103.947 Q60.7143 103.947 59.0245 105.452 Q57.3578 106.956 57.3578 109.641 Z\" fill=\"#000000\" fill-rule=\"nonzero\" fill-opacity=\"1\" /><path clip-path=\"url(#clip410)\" d=\"M93.9086 103.947 Q90.2975 103.947 88.4688 107.512 Q86.6632 111.053 86.6632 118.183 Q86.6632 125.289 88.4688 128.854 Q90.2975 132.396 93.9086 132.396 Q97.5428 132.396 99.3483 128.854 Q101.177 125.289 101.177 118.183 Q101.177 111.053 99.3483 107.512 Q97.5428 103.947 93.9086 103.947 M93.9086 100.243 Q99.7187 100.243 102.774 104.85 Q105.853 109.433 105.853 118.183 Q105.853 126.91 102.774 131.516 Q99.7187 136.1 93.9086 136.1 Q88.0984 136.1 85.0197 131.516 Q81.9642 126.91 81.9642 118.183 Q81.9642 109.433 85.0197 104.85 Q88.0984 100.243 93.9086 100.243 Z\" fill=\"#000000\" fill-rule=\"nonzero\" fill-opacity=\"1\" /><polyline clip-path=\"url(#clip412)\" style=\"stroke:#009af9; stroke-linecap:round; stroke-linejoin:round; stroke-width:4; stroke-opacity:1; fill:none\" points=\"204.426,1445.72 251.829,1445.72 299.233,1445.72 346.636,1445.72 394.04,1445.72 441.444,1445.72 488.847,1445.72 536.251,1445.72 583.654,1445.72 631.058,1445.72 678.461,1445.72 725.865,1445.72 773.269,1445.72 820.672,1445.72 868.076,1445.72 915.479,1445.72 962.883,1445.72 1010.29,1445.72 1057.69,1430.63 1105.09,1430.63 1152.5,1430.63 1199.9,1430.63 1247.3,1430.63 1294.71,1430.63 1342.11,1430.63 1389.52,1430.63 1436.92,1430.63 1484.32,1430.63 1531.73,1430.63 1579.13,1430.63 1626.53,1430.63 1673.94,1430.63 1721.34,1430.63 1768.74,1430.63 1816.15,1430.63 1863.55,1430.63 1910.95,1430.63 1958.36,1415.54 2005.76,1415.54 2053.17,1415.54 2100.57,1415.54 2147.97,1400.46 2195.38,1400.46 2242.78,1385.37 2290.18,1355.2 \"/>\n",
       "<polyline clip-path=\"url(#clip412)\" style=\"stroke:#e26f46; stroke-linecap:round; stroke-linejoin:round; stroke-width:4; stroke-opacity:1; fill:none\" points=\"204.426,1294.86 251.829,1294.86 299.233,1294.86 346.636,1294.86 394.04,1294.86 441.444,1294.86 488.847,1294.86 536.251,1294.86 583.654,1294.86 631.058,1294.86 678.461,1294.86 725.865,1294.86 773.269,1294.86 820.672,1294.86 868.076,1294.86 915.479,1294.86 962.883,1294.86 1010.29,1294.86 1057.69,1294.86 1105.09,1294.86 1152.5,1294.86 1199.9,1294.86 1247.3,1294.86 1294.71,1294.86 1342.11,1294.86 1389.52,1294.86 1436.92,1294.86 1484.32,1294.86 1531.73,1294.86 1579.13,1294.86 1626.53,1294.86 1673.94,1279.77 1721.34,1279.77 1768.74,1279.77 1816.15,1279.77 1863.55,1279.77 1910.95,1279.77 1958.36,1279.77 2005.76,1279.77 2053.17,1279.77 2100.57,1279.77 2147.97,1279.77 2195.38,1264.68 2242.78,1264.68 2290.18,1249.6 \"/>\n",
       "<polyline clip-path=\"url(#clip412)\" style=\"stroke:#3da44d; stroke-linecap:round; stroke-linejoin:round; stroke-width:4; stroke-opacity:1; fill:none\" points=\"204.426,1144 251.829,1144 299.233,1144 346.636,1144 394.04,1144 441.444,1144 488.847,1144 536.251,1144 583.654,1144 631.058,1144 678.461,1144 725.865,1144 773.269,1144 820.672,1144 868.076,1144 915.479,1144 962.883,1144 1010.29,1144 1057.69,1144 1105.09,1144 1152.5,1144 1199.9,1144 1247.3,1144 1294.71,1144 1342.11,1144 1389.52,1144 1436.92,1144 1484.32,1144 1531.73,1144 1579.13,1144 1626.53,1144 1673.94,1144 1721.34,1144 1768.74,1144 1816.15,1144 1863.55,1144 1910.95,1144 1958.36,1144 2005.76,1144 2053.17,1144 2100.57,1144 2147.97,1144 2195.38,1144 2242.78,1144 2290.18,1144 \"/>\n",
       "<polyline clip-path=\"url(#clip412)\" style=\"stroke:#c271d2; stroke-linecap:round; stroke-linejoin:round; stroke-width:4; stroke-opacity:1; fill:none\" points=\"204.426,993.136 251.829,993.136 299.233,993.136 346.636,993.136 394.04,993.136 441.444,993.136 488.847,993.136 536.251,993.136 583.654,993.136 631.058,993.136 678.461,993.136 725.865,993.136 773.269,993.136 820.672,993.136 868.076,993.136 915.479,993.136 962.883,993.136 1010.29,993.136 1057.69,993.136 1105.09,993.136 1152.5,993.136 1199.9,993.136 1247.3,993.136 1294.71,993.136 1342.11,993.136 1389.52,993.136 1436.92,993.136 1484.32,993.136 1531.73,993.136 1579.13,993.136 1626.53,993.136 1673.94,993.136 1721.34,993.136 1768.74,993.136 1816.15,993.136 1863.55,993.136 1910.95,993.136 1958.36,1008.22 2005.76,1008.22 2053.17,1008.22 2100.57,1008.22 2147.97,1008.22 2195.38,1023.31 2242.78,1023.31 2290.18,1038.39 \"/>\n",
       "<polyline clip-path=\"url(#clip412)\" style=\"stroke:#ac8d18; stroke-linecap:round; stroke-linejoin:round; stroke-width:4; stroke-opacity:1; fill:none\" points=\"204.426,842.276 251.829,842.276 299.233,842.276 346.636,842.276 394.04,842.276 441.444,842.276 488.847,842.276 536.251,842.276 583.654,842.276 631.058,842.276 678.461,842.276 725.865,842.276 773.269,842.276 820.672,842.276 868.076,842.276 915.479,842.276 962.883,842.276 1010.29,842.276 1057.69,842.276 1105.09,842.276 1152.5,842.276 1199.9,842.276 1247.3,842.276 1294.71,842.276 1342.11,842.276 1389.52,842.276 1436.92,842.276 1484.32,842.276 1531.73,857.362 1579.13,857.362 1626.53,857.362 1673.94,857.362 1721.34,857.362 1768.74,857.362 1816.15,857.362 1863.55,857.362 1910.95,857.362 1958.36,857.362 2005.76,872.448 2053.17,872.448 2100.57,872.448 2147.97,887.534 2195.38,887.534 2242.78,902.62 2290.18,932.792 \"/>\n",
       "<polyline clip-path=\"url(#clip412)\" style=\"stroke:#00a9ad; stroke-linecap:round; stroke-linejoin:round; stroke-width:4; stroke-opacity:1; fill:none\" points=\"204.426,691.416 251.829,691.416 299.233,691.416 346.636,691.416 394.04,691.416 441.444,691.416 488.847,691.416 536.251,691.416 583.654,691.416 631.058,691.416 678.461,691.416 725.865,691.416 773.269,691.416 820.672,691.416 868.076,691.416 915.479,691.416 962.883,691.416 1010.29,691.416 1057.69,691.416 1105.09,691.416 1152.5,691.416 1199.9,691.416 1247.3,706.502 1294.71,706.502 1342.11,706.502 1389.52,706.502 1436.92,706.502 1484.32,706.502 1531.73,706.502 1579.13,706.502 1626.53,706.502 1673.94,706.502 1721.34,706.502 1768.74,706.502 1816.15,721.588 1863.55,721.588 1910.95,721.588 1958.36,721.588 2005.76,736.674 2053.17,736.674 2100.57,736.674 2147.97,751.76 2195.38,766.846 2242.78,781.932 2290.18,812.104 \"/>\n",
       "<polyline clip-path=\"url(#clip412)\" style=\"stroke:#ed5d92; stroke-linecap:round; stroke-linejoin:round; stroke-width:4; stroke-opacity:1; fill:none\" points=\"204.426,540.556 251.829,540.556 299.233,540.556 346.636,540.556 394.04,540.556 441.444,540.556 488.847,540.556 536.251,540.556 583.654,540.556 631.058,540.556 678.461,540.556 725.865,540.556 773.269,540.556 820.672,540.556 868.076,540.556 915.479,540.556 962.883,555.642 1010.29,555.642 1057.69,555.642 1105.09,555.642 1152.5,555.642 1199.9,555.642 1247.3,555.642 1294.71,555.642 1342.11,555.642 1389.52,555.642 1436.92,555.642 1484.32,555.642 1531.73,555.642 1579.13,555.642 1626.53,555.642 1673.94,570.728 1721.34,570.728 1768.74,570.728 1816.15,570.728 1863.55,570.728 1910.95,585.814 1958.36,585.814 2005.76,585.814 2053.17,600.9 2100.57,615.986 2147.97,631.072 2195.38,646.158 2242.78,661.244 2290.18,706.502 \"/>\n",
       "<polyline clip-path=\"url(#clip412)\" style=\"stroke:#c68125; stroke-linecap:round; stroke-linejoin:round; stroke-width:4; stroke-opacity:1; fill:none\" points=\"204.426,389.696 251.829,389.696 299.233,389.696 346.636,389.696 394.04,389.696 441.444,389.696 488.847,389.696 536.251,389.696 583.654,389.696 631.058,389.696 678.461,389.696 725.865,404.782 773.269,404.782 820.672,404.782 868.076,404.782 915.479,404.782 962.883,404.782 1010.29,404.782 1057.69,404.782 1105.09,404.782 1152.5,404.782 1199.9,404.782 1247.3,404.782 1294.71,404.782 1342.11,404.782 1389.52,404.782 1436.92,404.782 1484.32,404.782 1531.73,419.868 1579.13,419.868 1626.53,419.868 1673.94,419.868 1721.34,419.868 1768.74,419.868 1816.15,434.954 1863.55,434.954 1910.95,434.954 1958.36,450.04 2005.76,450.04 2053.17,465.126 2100.57,480.212 2147.97,495.298 2195.38,510.384 2242.78,555.642 2290.18,600.9 \"/>\n",
       "<polyline clip-path=\"url(#clip412)\" style=\"stroke:#00a98d; stroke-linecap:round; stroke-linejoin:round; stroke-width:4; stroke-opacity:1; fill:none\" points=\"204.426,238.836 251.829,238.836 299.233,238.836 346.636,238.836 394.04,238.836 441.444,238.836 488.847,253.922 536.251,253.922 583.654,253.922 631.058,253.922 678.461,253.922 725.865,253.922 773.269,253.922 820.672,253.922 868.076,253.922 915.479,253.922 962.883,253.922 1010.29,253.922 1057.69,253.922 1105.09,253.922 1152.5,253.922 1199.9,253.922 1247.3,253.922 1294.71,253.922 1342.11,253.922 1389.52,269.008 1436.92,269.008 1484.32,269.008 1531.73,269.008 1579.13,269.008 1626.53,269.008 1673.94,284.094 1721.34,284.094 1768.74,284.094 1816.15,284.094 1863.55,299.18 1910.95,299.18 1958.36,314.266 2005.76,314.266 2053.17,329.352 2100.57,344.438 2147.97,359.524 2195.38,389.696 2242.78,434.954 2290.18,495.298 \"/>\n",
       "<polyline clip-path=\"url(#clip412)\" style=\"stroke:#8e971d; stroke-linecap:round; stroke-linejoin:round; stroke-width:4; stroke-opacity:1; fill:none\" points=\"204.426,87.9763 251.829,103.062 299.233,103.062 346.636,103.062 394.04,103.062 441.444,103.062 488.847,103.062 536.251,103.062 583.654,103.062 631.058,103.062 678.461,103.062 725.865,103.062 773.269,103.062 820.672,103.062 868.076,103.062 915.479,103.062 962.883,103.062 1010.29,103.062 1057.69,103.062 1105.09,103.062 1152.5,103.062 1199.9,103.062 1247.3,103.062 1294.71,118.148 1342.11,118.148 1389.52,118.148 1436.92,118.148 1484.32,118.148 1531.73,118.148 1579.13,118.148 1626.53,133.234 1673.94,133.234 1721.34,133.234 1768.74,148.32 1816.15,148.32 1863.55,148.32 1910.95,163.406 1958.36,163.406 2005.76,178.492 2053.17,193.578 2100.57,208.664 2147.97,238.836 2195.38,269.008 2242.78,314.266 2290.18,389.696 \"/>\n",
       "</svg>\n"
      ]
     },
     "metadata": {},
     "output_type": "display_data"
    }
   ],
   "source": [
    "using Plots\n",
    "\n",
    "plot(1:pars.T,agrid[A[3,1:10:Ka,:]'],legend=false) # plot the asset policy function every 10 gridpoints for the median wage shock (iϵ=3) over time"
   ]
  },
  {
   "cell_type": "markdown",
   "metadata": {},
   "source": [
    "#### **Question 1**"
   ]
  },
  {
   "cell_type": "markdown",
   "metadata": {},
   "source": [
    "*Estimate the parameters $\\mu$ of using the sample mean of log income at each age. Create residuals $\\hat{\\varepsilon}_{it}$ for each individual in each period using these estimates.*"
   ]
  },
  {
   "cell_type": "markdown",
   "metadata": {},
   "source": [
    "The functions below calculate the mean of log income for each age group, and then calculate the residual for each observation."
   ]
  },
  {
   "cell_type": "code",
   "execution_count": 9,
   "metadata": {},
   "outputs": [
    {
     "data": {
      "text/html": [
       "<div><div style = \"float: left;\"><span>19139×9 DataFrame</span></div><div style = \"float: right;\"><span style = \"font-style: italic;\">19114 rows omitted</span></div><div style = \"clear: both;\"></div></div><div class = \"data-frame\" style = \"overflow-x: scroll;\"><table class = \"data-frame\" style = \"margin-bottom: 6px;\"><thead><tr class = \"header\"><th class = \"rowNumber\" style = \"font-weight: bold; text-align: right;\">Row</th><th style = \"text-align: left;\">person</th><th style = \"text-align: left;\">y</th><th style = \"text-align: left;\">tot_assets1</th><th style = \"text-align: left;\">asset</th><th style = \"text-align: left;\">age</th><th style = \"text-align: left;\">year</th><th style = \"text-align: left;\">log_y</th><th style = \"text-align: left;\">log_y_mean</th><th style = \"text-align: left;\">resid</th></tr><tr class = \"subheader headerLastRow\"><th class = \"rowNumber\" style = \"font-weight: bold; text-align: right;\"></th><th title = \"Int64\" style = \"text-align: left;\">Int64</th><th title = \"Int64\" style = \"text-align: left;\">Int64</th><th title = \"Int64\" style = \"text-align: left;\">Int64</th><th title = \"Float64\" style = \"text-align: left;\">Float64</th><th title = \"Int64\" style = \"text-align: left;\">Int64</th><th title = \"Int64\" style = \"text-align: left;\">Int64</th><th title = \"Float64\" style = \"text-align: left;\">Float64</th><th title = \"Float64\" style = \"text-align: left;\">Float64</th><th title = \"Float64\" style = \"text-align: left;\">Float64</th></tr></thead><tbody><tr><td class = \"rowNumber\" style = \"font-weight: bold; text-align: right;\">1</td><td style = \"text-align: right;\">17118</td><td style = \"text-align: right;\">54000</td><td style = \"text-align: right;\">60000</td><td style = \"text-align: right;\">0.0</td><td style = \"text-align: right;\">49</td><td style = \"text-align: right;\">98</td><td style = \"text-align: right;\">10.8967</td><td style = \"text-align: right;\">11.263</td><td style = \"text-align: right;\">-0.366298</td></tr><tr><td class = \"rowNumber\" style = \"font-weight: bold; text-align: right;\">2</td><td style = \"text-align: right;\">12630</td><td style = \"text-align: right;\">61283</td><td style = \"text-align: right;\">224000</td><td style = \"text-align: right;\">39283.0</td><td style = \"text-align: right;\">59</td><td style = \"text-align: right;\">98</td><td style = \"text-align: right;\">11.0233</td><td style = \"text-align: right;\">11.2126</td><td style = \"text-align: right;\">-0.189376</td></tr><tr><td class = \"rowNumber\" style = \"font-weight: bold; text-align: right;\">3</td><td style = \"text-align: right;\">12647</td><td style = \"text-align: right;\">42300</td><td style = \"text-align: right;\">28240</td><td style = \"text-align: right;\">0.0</td><td style = \"text-align: right;\">38</td><td style = \"text-align: right;\">98</td><td style = \"text-align: right;\">10.6525</td><td style = \"text-align: right;\">11.0695</td><td style = \"text-align: right;\">-0.416965</td></tr><tr><td class = \"rowNumber\" style = \"font-weight: bold; text-align: right;\">4</td><td style = \"text-align: right;\">5239</td><td style = \"text-align: right;\">82275</td><td style = \"text-align: right;\">7500</td><td style = \"text-align: right;\">0.0</td><td style = \"text-align: right;\">56</td><td style = \"text-align: right;\">98</td><td style = \"text-align: right;\">11.3178</td><td style = \"text-align: right;\">11.219</td><td style = \"text-align: right;\">0.0988382</td></tr><tr><td class = \"rowNumber\" style = \"font-weight: bold; text-align: right;\">5</td><td style = \"text-align: right;\">2671</td><td style = \"text-align: right;\">69501</td><td style = \"text-align: right;\">48000</td><td style = \"text-align: right;\">3600.0</td><td style = \"text-align: right;\">35</td><td style = \"text-align: right;\">98</td><td style = \"text-align: right;\">11.1491</td><td style = \"text-align: right;\">11.1646</td><td style = \"text-align: right;\">-0.0155507</td></tr><tr><td class = \"rowNumber\" style = \"font-weight: bold; text-align: right;\">6</td><td style = \"text-align: right;\">13027</td><td style = \"text-align: right;\">68000</td><td style = \"text-align: right;\">148000</td><td style = \"text-align: right;\">20000.0</td><td style = \"text-align: right;\">49</td><td style = \"text-align: right;\">98</td><td style = \"text-align: right;\">11.1273</td><td style = \"text-align: right;\">11.263</td><td style = \"text-align: right;\">-0.135774</td></tr><tr><td class = \"rowNumber\" style = \"font-weight: bold; text-align: right;\">7</td><td style = \"text-align: right;\">6791</td><td style = \"text-align: right;\">93758</td><td style = \"text-align: right;\">80000</td><td style = \"text-align: right;\">160.0</td><td style = \"text-align: right;\">41</td><td style = \"text-align: right;\">98</td><td style = \"text-align: right;\">11.4485</td><td style = \"text-align: right;\">11.1947</td><td style = \"text-align: right;\">0.253742</td></tr><tr><td class = \"rowNumber\" style = \"font-weight: bold; text-align: right;\">8</td><td style = \"text-align: right;\">6475</td><td style = \"text-align: right;\">26581</td><td style = \"text-align: right;\">23300</td><td style = \"text-align: right;\">0.0</td><td style = \"text-align: right;\">35</td><td style = \"text-align: right;\">98</td><td style = \"text-align: right;\">10.188</td><td style = \"text-align: right;\">11.1646</td><td style = \"text-align: right;\">-0.976695</td></tr><tr><td class = \"rowNumber\" style = \"font-weight: bold; text-align: right;\">9</td><td style = \"text-align: right;\">18332</td><td style = \"text-align: right;\">33785</td><td style = \"text-align: right;\">0</td><td style = \"text-align: right;\">0.0</td><td style = \"text-align: right;\">42</td><td style = \"text-align: right;\">98</td><td style = \"text-align: right;\">10.4278</td><td style = \"text-align: right;\">11.1441</td><td style = \"text-align: right;\">-0.716335</td></tr><tr><td class = \"rowNumber\" style = \"font-weight: bold; text-align: right;\">10</td><td style = \"text-align: right;\">3856</td><td style = \"text-align: right;\">55300</td><td style = \"text-align: right;\">311000</td><td style = \"text-align: right;\">5300.0</td><td style = \"text-align: right;\">33</td><td style = \"text-align: right;\">98</td><td style = \"text-align: right;\">10.9205</td><td style = \"text-align: right;\">11.0841</td><td style = \"text-align: right;\">-0.163537</td></tr><tr><td class = \"rowNumber\" style = \"font-weight: bold; text-align: right;\">11</td><td style = \"text-align: right;\">19326</td><td style = \"text-align: right;\">40200</td><td style = \"text-align: right;\">105250</td><td style = \"text-align: right;\">0.0</td><td style = \"text-align: right;\">40</td><td style = \"text-align: right;\">98</td><td style = \"text-align: right;\">10.6016</td><td style = \"text-align: right;\">11.1248</td><td style = \"text-align: right;\">-0.523184</td></tr><tr><td class = \"rowNumber\" style = \"font-weight: bold; text-align: right;\">12</td><td style = \"text-align: right;\">21818</td><td style = \"text-align: right;\">42500</td><td style = \"text-align: right;\">13000</td><td style = \"text-align: right;\">0.0</td><td style = \"text-align: right;\">36</td><td style = \"text-align: right;\">98</td><td style = \"text-align: right;\">10.6573</td><td style = \"text-align: right;\">11.0976</td><td style = \"text-align: right;\">-0.44037</td></tr><tr><td class = \"rowNumber\" style = \"font-weight: bold; text-align: right;\">13</td><td style = \"text-align: right;\">7300</td><td style = \"text-align: right;\">121508</td><td style = \"text-align: right;\">178000</td><td style = \"text-align: right;\">10008.0</td><td style = \"text-align: right;\">59</td><td style = \"text-align: right;\">98</td><td style = \"text-align: right;\">11.7077</td><td style = \"text-align: right;\">11.2126</td><td style = \"text-align: right;\">0.495102</td></tr><tr><td style = \"text-align: right;\">&vellip;</td><td style = \"text-align: right;\">&vellip;</td><td style = \"text-align: right;\">&vellip;</td><td style = \"text-align: right;\">&vellip;</td><td style = \"text-align: right;\">&vellip;</td><td style = \"text-align: right;\">&vellip;</td><td style = \"text-align: right;\">&vellip;</td><td style = \"text-align: right;\">&vellip;</td><td style = \"text-align: right;\">&vellip;</td><td style = \"text-align: right;\">&vellip;</td></tr><tr><td class = \"rowNumber\" style = \"font-weight: bold; text-align: right;\">19128</td><td style = \"text-align: right;\">6617</td><td style = \"text-align: right;\">115887</td><td style = \"text-align: right;\">241000</td><td style = \"text-align: right;\">21346.0</td><td style = \"text-align: right;\">62</td><td style = \"text-align: right;\">108</td><td style = \"text-align: right;\">11.6604</td><td style = \"text-align: right;\">11.0203</td><td style = \"text-align: right;\">0.640064</td></tr><tr><td class = \"rowNumber\" style = \"font-weight: bold; text-align: right;\">19129</td><td style = \"text-align: right;\">626</td><td style = \"text-align: right;\">128600</td><td style = \"text-align: right;\">98000</td><td style = \"text-align: right;\">0.0</td><td style = \"text-align: right;\">46</td><td style = \"text-align: right;\">108</td><td style = \"text-align: right;\">11.7645</td><td style = \"text-align: right;\">11.2661</td><td style = \"text-align: right;\">0.498399</td></tr><tr><td class = \"rowNumber\" style = \"font-weight: bold; text-align: right;\">19130</td><td style = \"text-align: right;\">4795</td><td style = \"text-align: right;\">105000</td><td style = \"text-align: right;\">-68000</td><td style = \"text-align: right;\">0.0</td><td style = \"text-align: right;\">34</td><td style = \"text-align: right;\">108</td><td style = \"text-align: right;\">11.5617</td><td style = \"text-align: right;\">11.0632</td><td style = \"text-align: right;\">0.498556</td></tr><tr><td class = \"rowNumber\" style = \"font-weight: bold; text-align: right;\">19131</td><td style = \"text-align: right;\">3223</td><td style = \"text-align: right;\">120000</td><td style = \"text-align: right;\">132000</td><td style = \"text-align: right;\">0.0</td><td style = \"text-align: right;\">47</td><td style = \"text-align: right;\">108</td><td style = \"text-align: right;\">11.6952</td><td style = \"text-align: right;\">11.2417</td><td style = \"text-align: right;\">0.45358</td></tr><tr><td class = \"rowNumber\" style = \"font-weight: bold; text-align: right;\">19132</td><td style = \"text-align: right;\">8098</td><td style = \"text-align: right;\">26527</td><td style = \"text-align: right;\">4700</td><td style = \"text-align: right;\">0.0</td><td style = \"text-align: right;\">37</td><td style = \"text-align: right;\">108</td><td style = \"text-align: right;\">10.1859</td><td style = \"text-align: right;\">11.0959</td><td style = \"text-align: right;\">-0.909978</td></tr><tr><td class = \"rowNumber\" style = \"font-weight: bold; text-align: right;\">19133</td><td style = \"text-align: right;\">8954</td><td style = \"text-align: right;\">144026</td><td style = \"text-align: right;\">220000</td><td style = \"text-align: right;\">25.0</td><td style = \"text-align: right;\">46</td><td style = \"text-align: right;\">108</td><td style = \"text-align: right;\">11.8777</td><td style = \"text-align: right;\">11.2661</td><td style = \"text-align: right;\">0.611686</td></tr><tr><td class = \"rowNumber\" style = \"font-weight: bold; text-align: right;\">19134</td><td style = \"text-align: right;\">12990</td><td style = \"text-align: right;\">122665</td><td style = \"text-align: right;\">220000</td><td style = \"text-align: right;\">0.0</td><td style = \"text-align: right;\">53</td><td style = \"text-align: right;\">108</td><td style = \"text-align: right;\">11.7172</td><td style = \"text-align: right;\">11.3051</td><td style = \"text-align: right;\">0.412115</td></tr><tr><td class = \"rowNumber\" style = \"font-weight: bold; text-align: right;\">19135</td><td style = \"text-align: right;\">8782</td><td style = \"text-align: right;\">55000</td><td style = \"text-align: right;\">69000</td><td style = \"text-align: right;\">0.0</td><td style = \"text-align: right;\">31</td><td style = \"text-align: right;\">108</td><td style = \"text-align: right;\">10.9151</td><td style = \"text-align: right;\">11.101</td><td style = \"text-align: right;\">-0.185866</td></tr><tr><td class = \"rowNumber\" style = \"font-weight: bold; text-align: right;\">19136</td><td style = \"text-align: right;\">13059</td><td style = \"text-align: right;\">42728</td><td style = \"text-align: right;\">-10000</td><td style = \"text-align: right;\">0.0</td><td style = \"text-align: right;\">26</td><td style = \"text-align: right;\">108</td><td style = \"text-align: right;\">10.6626</td><td style = \"text-align: right;\">10.8412</td><td style = \"text-align: right;\">-0.178638</td></tr><tr><td class = \"rowNumber\" style = \"font-weight: bold; text-align: right;\">19137</td><td style = \"text-align: right;\">13535</td><td style = \"text-align: right;\">57000</td><td style = \"text-align: right;\">0</td><td style = \"text-align: right;\">0.0</td><td style = \"text-align: right;\">26</td><td style = \"text-align: right;\">108</td><td style = \"text-align: right;\">10.9508</td><td style = \"text-align: right;\">10.8412</td><td style = \"text-align: right;\">0.109559</td></tr><tr><td class = \"rowNumber\" style = \"font-weight: bold; text-align: right;\">19138</td><td style = \"text-align: right;\">3806</td><td style = \"text-align: right;\">87000</td><td style = \"text-align: right;\">74200</td><td style = \"text-align: right;\">0.0</td><td style = \"text-align: right;\">26</td><td style = \"text-align: right;\">108</td><td style = \"text-align: right;\">11.3737</td><td style = \"text-align: right;\">10.8412</td><td style = \"text-align: right;\">0.532416</td></tr><tr><td class = \"rowNumber\" style = \"font-weight: bold; text-align: right;\">19139</td><td style = \"text-align: right;\">11085</td><td style = \"text-align: right;\">74000</td><td style = \"text-align: right;\">-50000</td><td style = \"text-align: right;\">0.0</td><td style = \"text-align: right;\">31</td><td style = \"text-align: right;\">108</td><td style = \"text-align: right;\">11.2118</td><td style = \"text-align: right;\">11.101</td><td style = \"text-align: right;\">0.110866</td></tr></tbody></table></div>"
      ],
      "text/latex": [
       "\\begin{tabular}{r|ccccccccc}\n",
       "\t& person & y & tot\\_assets1 & asset & age & year & log\\_y & log\\_y\\_mean & resid\\\\\n",
       "\t\\hline\n",
       "\t& Int64 & Int64 & Int64 & Float64 & Int64 & Int64 & Float64 & Float64 & Float64\\\\\n",
       "\t\\hline\n",
       "\t1 & 17118 & 54000 & 60000 & 0.0 & 49 & 98 & 10.8967 & 11.263 & -0.366298 \\\\\n",
       "\t2 & 12630 & 61283 & 224000 & 39283.0 & 59 & 98 & 11.0233 & 11.2126 & -0.189376 \\\\\n",
       "\t3 & 12647 & 42300 & 28240 & 0.0 & 38 & 98 & 10.6525 & 11.0695 & -0.416965 \\\\\n",
       "\t4 & 5239 & 82275 & 7500 & 0.0 & 56 & 98 & 11.3178 & 11.219 & 0.0988382 \\\\\n",
       "\t5 & 2671 & 69501 & 48000 & 3600.0 & 35 & 98 & 11.1491 & 11.1646 & -0.0155507 \\\\\n",
       "\t6 & 13027 & 68000 & 148000 & 20000.0 & 49 & 98 & 11.1273 & 11.263 & -0.135774 \\\\\n",
       "\t7 & 6791 & 93758 & 80000 & 160.0 & 41 & 98 & 11.4485 & 11.1947 & 0.253742 \\\\\n",
       "\t8 & 6475 & 26581 & 23300 & 0.0 & 35 & 98 & 10.188 & 11.1646 & -0.976695 \\\\\n",
       "\t9 & 18332 & 33785 & 0 & 0.0 & 42 & 98 & 10.4278 & 11.1441 & -0.716335 \\\\\n",
       "\t10 & 3856 & 55300 & 311000 & 5300.0 & 33 & 98 & 10.9205 & 11.0841 & -0.163537 \\\\\n",
       "\t11 & 19326 & 40200 & 105250 & 0.0 & 40 & 98 & 10.6016 & 11.1248 & -0.523184 \\\\\n",
       "\t12 & 21818 & 42500 & 13000 & 0.0 & 36 & 98 & 10.6573 & 11.0976 & -0.44037 \\\\\n",
       "\t13 & 7300 & 121508 & 178000 & 10008.0 & 59 & 98 & 11.7077 & 11.2126 & 0.495102 \\\\\n",
       "\t14 & 20796 & 105000 & 23500 & 0.0 & 44 & 98 & 11.5617 & 11.2245 & 0.337223 \\\\\n",
       "\t15 & 12413 & 31100 & -9600 & 0.0 & 30 & 98 & 10.345 & 10.9535 & -0.608502 \\\\\n",
       "\t16 & 8455 & 54000 & 51000 & 0.0 & 49 & 98 & 10.8967 & 11.263 & -0.366298 \\\\\n",
       "\t17 & 2560 & 32000 & 18600 & 0.0 & 31 & 98 & 10.3735 & 11.101 & -0.727463 \\\\\n",
       "\t18 & 5836 & 154780 & 1463000 & 21500.0 & 50 & 98 & 11.9498 & 11.3075 & 0.642264 \\\\\n",
       "\t19 & 11534 & 51389 & 65100 & 0.0 & 43 & 98 & 10.8472 & 11.196 & -0.348844 \\\\\n",
       "\t20 & 9633 & 119753 & 427000 & 77035.0 & 50 & 98 & 11.6932 & 11.3075 & 0.38569 \\\\\n",
       "\t21 & 6240 & 35500 & 104500 & 15000.0 & 45 & 98 & 10.4773 & 11.2052 & -0.72791 \\\\\n",
       "\t22 & 1462 & 103000 & 420000 & 16000.0 & 53 & 98 & 11.5425 & 11.3051 & 0.237387 \\\\\n",
       "\t23 & 8013 & 90237 & 232000 & 0.0 & 50 & 98 & 11.4102 & 11.3075 & 0.102698 \\\\\n",
       "\t24 & 11339 & 42708 & 4700 & 0.0 & 29 & 98 & 10.6621 & 10.9986 & -0.336415 \\\\\n",
       "\t$\\dots$ & $\\dots$ & $\\dots$ & $\\dots$ & $\\dots$ & $\\dots$ & $\\dots$ & $\\dots$ & $\\dots$ & $\\dots$ \\\\\n",
       "\\end{tabular}\n"
      ],
      "text/plain": [
       "\u001b[1m19139×9 DataFrame\u001b[0m\n",
       "\u001b[1m   Row \u001b[0m│\u001b[1m person \u001b[0m\u001b[1m y      \u001b[0m\u001b[1m tot_assets1 \u001b[0m\u001b[1m asset   \u001b[0m\u001b[1m age   \u001b[0m\u001b[1m year  \u001b[0m\u001b[1m log_y   \u001b[0m\u001b[1m log_y_me\u001b[0m ⋯\n",
       "       │\u001b[90m Int64  \u001b[0m\u001b[90m Int64  \u001b[0m\u001b[90m Int64       \u001b[0m\u001b[90m Float64 \u001b[0m\u001b[90m Int64 \u001b[0m\u001b[90m Int64 \u001b[0m\u001b[90m Float64 \u001b[0m\u001b[90m Float64 \u001b[0m ⋯\n",
       "───────┼────────────────────────────────────────────────────────────────────────\n",
       "     1 │  17118   54000        60000      0.0     49     98  10.8967     11.26 ⋯\n",
       "     2 │  12630   61283       224000  39283.0     59     98  11.0233     11.21\n",
       "     3 │  12647   42300        28240      0.0     38     98  10.6525     11.06\n",
       "     4 │   5239   82275         7500      0.0     56     98  11.3178     11.21\n",
       "     5 │   2671   69501        48000   3600.0     35     98  11.1491     11.16 ⋯\n",
       "     6 │  13027   68000       148000  20000.0     49     98  11.1273     11.26\n",
       "     7 │   6791   93758        80000    160.0     41     98  11.4485     11.19\n",
       "     8 │   6475   26581        23300      0.0     35     98  10.188      11.16\n",
       "   ⋮   │   ⋮       ⋮          ⋮          ⋮       ⋮      ⋮       ⋮         ⋮    ⋱\n",
       " 19133 │   8954  144026       220000     25.0     46    108  11.8777     11.26 ⋯\n",
       " 19134 │  12990  122665       220000      0.0     53    108  11.7172     11.30\n",
       " 19135 │   8782   55000        69000      0.0     31    108  10.9151     11.10\n",
       " 19136 │  13059   42728       -10000      0.0     26    108  10.6626     10.84\n",
       " 19137 │  13535   57000            0      0.0     26    108  10.9508     10.84 ⋯\n",
       " 19138 │   3806   87000        74200      0.0     26    108  11.3737     10.84\n",
       " 19139 │  11085   74000       -50000      0.0     31    108  11.2118     11.10\n",
       "\u001b[36m                                                2 columns and 19124 rows omitted\u001b[0m"
      ]
     },
     "metadata": {},
     "output_type": "display_data"
    }
   ],
   "source": [
    "df = @chain data begin\n",
    "    groupby(:age) # group by age  \n",
    "    transform(:y => (y -> log.(y)) => :log_y) # take the log of y\n",
    "    groupby(:age)\n",
    "    combine(:log_y => mean => :log_y_mean) # calculate the mean of y for each group\n",
    "end\n",
    "\n",
    "df2 = @chain data begin\n",
    "    groupby(:age) # group by age  \n",
    "    transform(:y => (y -> log.(y)) => :log_y) # take the log of y\n",
    "    groupby(:age)\n",
    "    transform(:log_y => mean => :log_y_mean) # calculate the mean of y for each group\n",
    "    groupby(:age)\n",
    "    transform([:log_y, :log_y_mean] => ByRow(-) => :resid) # calculate the residuals\n",
    "end"
   ]
  },
  {
   "cell_type": "markdown",
   "metadata": {},
   "source": [
    "#### **Question 2**"
   ]
  },
  {
   "cell_type": "markdown",
   "metadata": {},
   "source": [
    "*The PSID data are taken biennially (every two years). Thus, write a function that takes a guess of $(\\rho, \\sigma{\\eta})$ and calculates:*\n",
    "1. *The unconditional variance of the residual.*\n",
    "2. *The covariance of the residual with its two year lag.*\n",
    "3. *The covariance of the residual with its four year lag.*\n"
   ]
  },
  {
   "cell_type": "markdown",
   "metadata": {},
   "source": [
    "In the function below, we take a guess for the parameters of the AR1 process $(\\rho,\\sigma\\eta)$ and return the necessary moments."
   ]
  },
  {
   "cell_type": "code",
   "execution_count": 1,
   "metadata": {},
   "outputs": [
    {
     "data": {
      "text/plain": [
       "AR1_process (generic function with 1 method)"
      ]
     },
     "metadata": {},
     "output_type": "display_data"
    }
   ],
   "source": [
    "function AR1_process(ρ,ση)\n",
    "    var = ση^2/(1-ρ^2)\n",
    "    cov_2 = ρ^2\n",
    "    cov_4 = ρ^4\n",
    "    return var, cov_2, cov_4\n",
    "end"
   ]
  },
  {
   "cell_type": "markdown",
   "metadata": {},
   "source": [
    "Test the above function to make sure that it works."
   ]
  },
  {
   "cell_type": "code",
   "execution_count": 17,
   "metadata": {},
   "outputs": [
    {
     "data": {
      "text/plain": [
       "(0.052631578947368446, 0.81, 0.6561)"
      ]
     },
     "metadata": {},
     "output_type": "display_data"
    }
   ],
   "source": [
    "v,c2,c4 = AR1_process(pars.ρ,pars.ση)"
   ]
  },
  {
   "cell_type": "markdown",
   "metadata": {},
   "source": [
    "#### **Question 3**"
   ]
  },
  {
   "cell_type": "markdown",
   "metadata": {},
   "source": [
    "*Calculate the sample equivalents of these moments from the data, and write a function that calculates the sum of the squared differences between the data and those predicted by a particular choice of $(\\rho,\\sigma_{\\eta})$.*\n",
    "*The code below creates the lags for income, and provides an example of calulating covariances.*"
   ]
  },
  {
   "cell_type": "markdown",
   "metadata": {},
   "source": [
    "The following code calcualtes the two- and four-year lags of the residual for each observation. I also calculate the lags for income for completeness."
   ]
  },
  {
   "cell_type": "code",
   "execution_count": 13,
   "metadata": {},
   "outputs": [
    {
     "data": {
      "text/html": [
       "<div><div style = \"float: left;\"><span>9785×13 DataFrame</span></div><div style = \"float: right;\"><span style = \"font-style: italic;\">9760 rows omitted</span></div><div style = \"clear: both;\"></div></div><div class = \"data-frame\" style = \"overflow-x: scroll;\"><table class = \"data-frame\" style = \"margin-bottom: 6px;\"><thead><tr class = \"header\"><th class = \"rowNumber\" style = \"font-weight: bold; text-align: right;\">Row</th><th style = \"text-align: left;\">person</th><th style = \"text-align: left;\">y</th><th style = \"text-align: left;\">tot_assets1</th><th style = \"text-align: left;\">asset</th><th style = \"text-align: left;\">age</th><th style = \"text-align: left;\">year</th><th style = \"text-align: left;\">log_y</th><th style = \"text-align: left;\">log_y_mean</th><th style = \"text-align: left;\">resid</th><th style = \"text-align: left;\">resid_lag1</th><th style = \"text-align: left;\">resid_lag2</th><th style = \"text-align: left;\">log_y_lag1</th><th style = \"text-align: left;\">log_y_lag2</th></tr><tr class = \"subheader headerLastRow\"><th class = \"rowNumber\" style = \"font-weight: bold; text-align: right;\"></th><th title = \"Int64\" style = \"text-align: left;\">Int64</th><th title = \"Int64\" style = \"text-align: left;\">Int64</th><th title = \"Int64\" style = \"text-align: left;\">Int64</th><th title = \"Float64\" style = \"text-align: left;\">Float64</th><th title = \"Int64\" style = \"text-align: left;\">Int64</th><th title = \"Int64\" style = \"text-align: left;\">Int64</th><th title = \"Float64\" style = \"text-align: left;\">Float64</th><th title = \"Float64\" style = \"text-align: left;\">Float64</th><th title = \"Float64\" style = \"text-align: left;\">Float64</th><th title = \"Float64\" style = \"text-align: left;\">Float64</th><th title = \"Float64\" style = \"text-align: left;\">Float64</th><th title = \"Float64\" style = \"text-align: left;\">Float64</th><th title = \"Float64\" style = \"text-align: left;\">Float64</th></tr></thead><tbody><tr><td class = \"rowNumber\" style = \"font-weight: bold; text-align: right;\">1</td><td style = \"text-align: right;\">17118</td><td style = \"text-align: right;\">43799</td><td style = \"text-align: right;\">-2000</td><td style = \"text-align: right;\">0.0</td><td style = \"text-align: right;\">53</td><td style = \"text-align: right;\">102</td><td style = \"text-align: right;\">10.6874</td><td style = \"text-align: right;\">11.3051</td><td style = \"text-align: right;\">-0.617731</td><td style = \"text-align: right;\">-0.433143</td><td style = \"text-align: right;\">-0.366298</td><td style = \"text-align: right;\">10.8532</td><td style = \"text-align: right;\">10.8967</td></tr><tr><td class = \"rowNumber\" style = \"font-weight: bold; text-align: right;\">2</td><td style = \"text-align: right;\">12630</td><td style = \"text-align: right;\">68554</td><td style = \"text-align: right;\">1519000</td><td style = \"text-align: right;\">29454.0</td><td style = \"text-align: right;\">63</td><td style = \"text-align: right;\">102</td><td style = \"text-align: right;\">11.1354</td><td style = \"text-align: right;\">10.9559</td><td style = \"text-align: right;\">0.179507</td><td style = \"text-align: right;\">0.504693</td><td style = \"text-align: right;\">-0.189376</td><td style = \"text-align: right;\">11.5531</td><td style = \"text-align: right;\">11.0233</td></tr><tr><td class = \"rowNumber\" style = \"font-weight: bold; text-align: right;\">3</td><td style = \"text-align: right;\">12647</td><td style = \"text-align: right;\">35000</td><td style = \"text-align: right;\">78000</td><td style = \"text-align: right;\">0.0</td><td style = \"text-align: right;\">42</td><td style = \"text-align: right;\">102</td><td style = \"text-align: right;\">10.4631</td><td style = \"text-align: right;\">11.1441</td><td style = \"text-align: right;\">-0.681004</td><td style = \"text-align: right;\">-0.799324</td><td style = \"text-align: right;\">-0.416965</td><td style = \"text-align: right;\">10.3255</td><td style = \"text-align: right;\">10.6525</td></tr><tr><td class = \"rowNumber\" style = \"font-weight: bold; text-align: right;\">4</td><td style = \"text-align: right;\">5239</td><td style = \"text-align: right;\">49948</td><td style = \"text-align: right;\">29900</td><td style = \"text-align: right;\">0.0</td><td style = \"text-align: right;\">60</td><td style = \"text-align: right;\">102</td><td style = \"text-align: right;\">10.8187</td><td style = \"text-align: right;\">11.1392</td><td style = \"text-align: right;\">-0.320425</td><td style = \"text-align: right;\">-0.254721</td><td style = \"text-align: right;\">0.0988382</td><td style = \"text-align: right;\">10.9029</td><td style = \"text-align: right;\">11.3178</td></tr><tr><td class = \"rowNumber\" style = \"font-weight: bold; text-align: right;\">5</td><td style = \"text-align: right;\">2671</td><td style = \"text-align: right;\">77000</td><td style = \"text-align: right;\">84000</td><td style = \"text-align: right;\">0.0</td><td style = \"text-align: right;\">39</td><td style = \"text-align: right;\">102</td><td style = \"text-align: right;\">11.2516</td><td style = \"text-align: right;\">11.1318</td><td style = \"text-align: right;\">0.119767</td><td style = \"text-align: right;\">0.129348</td><td style = \"text-align: right;\">-0.0155507</td><td style = \"text-align: right;\">11.2252</td><td style = \"text-align: right;\">11.1491</td></tr><tr><td class = \"rowNumber\" style = \"font-weight: bold; text-align: right;\">6</td><td style = \"text-align: right;\">13027</td><td style = \"text-align: right;\">91000</td><td style = \"text-align: right;\">248000</td><td style = \"text-align: right;\">25000.0</td><td style = \"text-align: right;\">53</td><td style = \"text-align: right;\">102</td><td style = \"text-align: right;\">11.4186</td><td style = \"text-align: right;\">11.3051</td><td style = \"text-align: right;\">0.113518</td><td style = \"text-align: right;\">-0.453109</td><td style = \"text-align: right;\">-0.135774</td><td style = \"text-align: right;\">10.8332</td><td style = \"text-align: right;\">11.1273</td></tr><tr><td class = \"rowNumber\" style = \"font-weight: bold; text-align: right;\">7</td><td style = \"text-align: right;\">6791</td><td style = \"text-align: right;\">122296</td><td style = \"text-align: right;\">118650</td><td style = \"text-align: right;\">154.0</td><td style = \"text-align: right;\">45</td><td style = \"text-align: right;\">102</td><td style = \"text-align: right;\">11.7142</td><td style = \"text-align: right;\">11.2052</td><td style = \"text-align: right;\">0.509001</td><td style = \"text-align: right;\">0.321919</td><td style = \"text-align: right;\">0.253742</td><td style = \"text-align: right;\">11.5179</td><td style = \"text-align: right;\">11.4485</td></tr><tr><td class = \"rowNumber\" style = \"font-weight: bold; text-align: right;\">8</td><td style = \"text-align: right;\">18332</td><td style = \"text-align: right;\">54000</td><td style = \"text-align: right;\">56000</td><td style = \"text-align: right;\">0.0</td><td style = \"text-align: right;\">46</td><td style = \"text-align: right;\">102</td><td style = \"text-align: right;\">10.8967</td><td style = \"text-align: right;\">11.2661</td><td style = \"text-align: right;\">-0.369324</td><td style = \"text-align: right;\">-0.622871</td><td style = \"text-align: right;\">-0.716335</td><td style = \"text-align: right;\">10.6016</td><td style = \"text-align: right;\">10.4278</td></tr><tr><td class = \"rowNumber\" style = \"font-weight: bold; text-align: right;\">9</td><td style = \"text-align: right;\">3856</td><td style = \"text-align: right;\">95800</td><td style = \"text-align: right;\">357000</td><td style = \"text-align: right;\">9600.0</td><td style = \"text-align: right;\">37</td><td style = \"text-align: right;\">102</td><td style = \"text-align: right;\">11.47</td><td style = \"text-align: right;\">11.0959</td><td style = \"text-align: right;\">0.374122</td><td style = \"text-align: right;\">0.0790909</td><td style = \"text-align: right;\">-0.163537</td><td style = \"text-align: right;\">11.2437</td><td style = \"text-align: right;\">10.9205</td></tr><tr><td class = \"rowNumber\" style = \"font-weight: bold; text-align: right;\">10</td><td style = \"text-align: right;\">21818</td><td style = \"text-align: right;\">72334</td><td style = \"text-align: right;\">25540</td><td style = \"text-align: right;\">0.0</td><td style = \"text-align: right;\">40</td><td style = \"text-align: right;\">102</td><td style = \"text-align: right;\">11.189</td><td style = \"text-align: right;\">11.1248</td><td style = \"text-align: right;\">0.0642436</td><td style = \"text-align: right;\">-0.0893125</td><td style = \"text-align: right;\">-0.44037</td><td style = \"text-align: right;\">10.9802</td><td style = \"text-align: right;\">10.6573</td></tr><tr><td class = \"rowNumber\" style = \"font-weight: bold; text-align: right;\">11</td><td style = \"text-align: right;\">7300</td><td style = \"text-align: right;\">64319</td><td style = \"text-align: right;\">710000</td><td style = \"text-align: right;\">6130.0</td><td style = \"text-align: right;\">63</td><td style = \"text-align: right;\">102</td><td style = \"text-align: right;\">11.0716</td><td style = \"text-align: right;\">10.9559</td><td style = \"text-align: right;\">0.115741</td><td style = \"text-align: right;\">0.570094</td><td style = \"text-align: right;\">0.495102</td><td style = \"text-align: right;\">11.6185</td><td style = \"text-align: right;\">11.7077</td></tr><tr><td class = \"rowNumber\" style = \"font-weight: bold; text-align: right;\">12</td><td style = \"text-align: right;\">20796</td><td style = \"text-align: right;\">88000</td><td style = \"text-align: right;\">75000</td><td style = \"text-align: right;\">0.0</td><td style = \"text-align: right;\">48</td><td style = \"text-align: right;\">102</td><td style = \"text-align: right;\">11.3851</td><td style = \"text-align: right;\">11.2794</td><td style = \"text-align: right;\">0.105679</td><td style = \"text-align: right;\">0.365534</td><td style = \"text-align: right;\">0.337223</td><td style = \"text-align: right;\">11.6316</td><td style = \"text-align: right;\">11.5617</td></tr><tr><td class = \"rowNumber\" style = \"font-weight: bold; text-align: right;\">13</td><td style = \"text-align: right;\">8455</td><td style = \"text-align: right;\">50880</td><td style = \"text-align: right;\">110500</td><td style = \"text-align: right;\">130.0</td><td style = \"text-align: right;\">53</td><td style = \"text-align: right;\">102</td><td style = \"text-align: right;\">10.8372</td><td style = \"text-align: right;\">11.3051</td><td style = \"text-align: right;\">-0.467872</td><td style = \"text-align: right;\">-0.549959</td><td style = \"text-align: right;\">-0.366298</td><td style = \"text-align: right;\">10.7364</td><td style = \"text-align: right;\">10.8967</td></tr><tr><td style = \"text-align: right;\">&vellip;</td><td style = \"text-align: right;\">&vellip;</td><td style = \"text-align: right;\">&vellip;</td><td style = \"text-align: right;\">&vellip;</td><td style = \"text-align: right;\">&vellip;</td><td style = \"text-align: right;\">&vellip;</td><td style = \"text-align: right;\">&vellip;</td><td style = \"text-align: right;\">&vellip;</td><td style = \"text-align: right;\">&vellip;</td><td style = \"text-align: right;\">&vellip;</td><td style = \"text-align: right;\">&vellip;</td><td style = \"text-align: right;\">&vellip;</td><td style = \"text-align: right;\">&vellip;</td><td style = \"text-align: right;\">&vellip;</td></tr><tr><td class = \"rowNumber\" style = \"font-weight: bold; text-align: right;\">9774</td><td style = \"text-align: right;\">3360</td><td style = \"text-align: right;\">198300</td><td style = \"text-align: right;\">775000</td><td style = \"text-align: right;\">3300.0</td><td style = \"text-align: right;\">40</td><td style = \"text-align: right;\">108</td><td style = \"text-align: right;\">12.1975</td><td style = \"text-align: right;\">11.1248</td><td style = \"text-align: right;\">1.07273</td><td style = \"text-align: right;\">0.919652</td><td style = \"text-align: right;\">0.891531</td><td style = \"text-align: right;\">11.9892</td><td style = \"text-align: right;\">11.9892</td></tr><tr><td class = \"rowNumber\" style = \"font-weight: bold; text-align: right;\">9775</td><td style = \"text-align: right;\">1204</td><td style = \"text-align: right;\">44710</td><td style = \"text-align: right;\">5200</td><td style = \"text-align: right;\">0.0</td><td style = \"text-align: right;\">30</td><td style = \"text-align: right;\">108</td><td style = \"text-align: right;\">10.708</td><td style = \"text-align: right;\">10.9535</td><td style = \"text-align: right;\">-0.245513</td><td style = \"text-align: right;\">-0.170297</td><td style = \"text-align: right;\">-0.378144</td><td style = \"text-align: right;\">10.7442</td><td style = \"text-align: right;\">10.4631</td></tr><tr><td class = \"rowNumber\" style = \"font-weight: bold; text-align: right;\">9776</td><td style = \"text-align: right;\">6483</td><td style = \"text-align: right;\">55019</td><td style = \"text-align: right;\">-3000</td><td style = \"text-align: right;\">0.0</td><td style = \"text-align: right;\">38</td><td style = \"text-align: right;\">108</td><td style = \"text-align: right;\">10.9154</td><td style = \"text-align: right;\">11.0695</td><td style = \"text-align: right;\">-0.154074</td><td style = \"text-align: right;\">-0.857669</td><td style = \"text-align: right;\">-1.03216</td><td style = \"text-align: right;\">10.24</td><td style = \"text-align: right;\">10.031</td></tr><tr><td class = \"rowNumber\" style = \"font-weight: bold; text-align: right;\">9777</td><td style = \"text-align: right;\">2182</td><td style = \"text-align: right;\">53908</td><td style = \"text-align: right;\">9000</td><td style = \"text-align: right;\">0.0</td><td style = \"text-align: right;\">32</td><td style = \"text-align: right;\">108</td><td style = \"text-align: right;\">10.895</td><td style = \"text-align: right;\">11.0912</td><td style = \"text-align: right;\">-0.196132</td><td style = \"text-align: right;\">-0.109053</td><td style = \"text-align: right;\">0.0472225</td><td style = \"text-align: right;\">10.8444</td><td style = \"text-align: right;\">10.9617</td></tr><tr><td class = \"rowNumber\" style = \"font-weight: bold; text-align: right;\">9778</td><td style = \"text-align: right;\">3971</td><td style = \"text-align: right;\">48406</td><td style = \"text-align: right;\">108000</td><td style = \"text-align: right;\">15905.0</td><td style = \"text-align: right;\">43</td><td style = \"text-align: right;\">108</td><td style = \"text-align: right;\">10.7874</td><td style = \"text-align: right;\">11.196</td><td style = \"text-align: right;\">-0.408644</td><td style = \"text-align: right;\">0.404373</td><td style = \"text-align: right;\">-0.209459</td><td style = \"text-align: right;\">11.5991</td><td style = \"text-align: right;\">10.9223</td></tr><tr><td class = \"rowNumber\" style = \"font-weight: bold; text-align: right;\">9779</td><td style = \"text-align: right;\">12094</td><td style = \"text-align: right;\">70500</td><td style = \"text-align: right;\">83000</td><td style = \"text-align: right;\">0.0</td><td style = \"text-align: right;\">41</td><td style = \"text-align: right;\">108</td><td style = \"text-align: right;\">11.1634</td><td style = \"text-align: right;\">11.1947</td><td style = \"text-align: right;\">-0.0313619</td><td style = \"text-align: right;\">-0.201727</td><td style = \"text-align: right;\">-1.84874</td><td style = \"text-align: right;\">10.9301</td><td style = \"text-align: right;\">9.24715</td></tr><tr><td class = \"rowNumber\" style = \"font-weight: bold; text-align: right;\">9780</td><td style = \"text-align: right;\">12975</td><td style = \"text-align: right;\">104500</td><td style = \"text-align: right;\">266800</td><td style = \"text-align: right;\">2500.0</td><td style = \"text-align: right;\">40</td><td style = \"text-align: right;\">108</td><td style = \"text-align: right;\">11.5569</td><td style = \"text-align: right;\">11.1248</td><td style = \"text-align: right;\">0.432136</td><td style = \"text-align: right;\">0.185165</td><td style = \"text-align: right;\">0.397133</td><td style = \"text-align: right;\">11.2547</td><td style = \"text-align: right;\">11.4948</td></tr><tr><td class = \"rowNumber\" style = \"font-weight: bold; text-align: right;\">9781</td><td style = \"text-align: right;\">9940</td><td style = \"text-align: right;\">133074</td><td style = \"text-align: right;\">282000</td><td style = \"text-align: right;\">274.0</td><td style = \"text-align: right;\">45</td><td style = \"text-align: right;\">108</td><td style = \"text-align: right;\">11.7987</td><td style = \"text-align: right;\">11.2052</td><td style = \"text-align: right;\">0.593462</td><td style = \"text-align: right;\">0.345489</td><td style = \"text-align: right;\">0.321191</td><td style = \"text-align: right;\">11.5415</td><td style = \"text-align: right;\">11.5159</td></tr><tr><td class = \"rowNumber\" style = \"font-weight: bold; text-align: right;\">9782</td><td style = \"text-align: right;\">8048</td><td style = \"text-align: right;\">185500</td><td style = \"text-align: right;\">88000</td><td style = \"text-align: right;\">50000.0</td><td style = \"text-align: right;\">45</td><td style = \"text-align: right;\">108</td><td style = \"text-align: right;\">12.1308</td><td style = \"text-align: right;\">11.2052</td><td style = \"text-align: right;\">0.925612</td><td style = \"text-align: right;\">0.921218</td><td style = \"text-align: right;\">0.0331766</td><td style = \"text-align: right;\">12.1172</td><td style = \"text-align: right;\">11.2279</td></tr><tr><td class = \"rowNumber\" style = \"font-weight: bold; text-align: right;\">9783</td><td style = \"text-align: right;\">2921</td><td style = \"text-align: right;\">84845</td><td style = \"text-align: right;\">390800</td><td style = \"text-align: right;\">773.0</td><td style = \"text-align: right;\">59</td><td style = \"text-align: right;\">108</td><td style = \"text-align: right;\">11.3486</td><td style = \"text-align: right;\">11.2126</td><td style = \"text-align: right;\">0.135948</td><td style = \"text-align: right;\">0.0184405</td><td style = \"text-align: right;\">-0.0353433</td><td style = \"text-align: right;\">11.2451</td><td style = \"text-align: right;\">11.2546</td></tr><tr><td class = \"rowNumber\" style = \"font-weight: bold; text-align: right;\">9784</td><td style = \"text-align: right;\">13562</td><td style = \"text-align: right;\">39200</td><td style = \"text-align: right;\">18000</td><td style = \"text-align: right;\">0.0</td><td style = \"text-align: right;\">43</td><td style = \"text-align: right;\">108</td><td style = \"text-align: right;\">10.5764</td><td style = \"text-align: right;\">11.196</td><td style = \"text-align: right;\">-0.619591</td><td style = \"text-align: right;\">-0.731627</td><td style = \"text-align: right;\">-0.363309</td><td style = \"text-align: right;\">10.4631</td><td style = \"text-align: right;\">10.7685</td></tr><tr><td class = \"rowNumber\" style = \"font-weight: bold; text-align: right;\">9785</td><td style = \"text-align: right;\">3193</td><td style = \"text-align: right;\">66000</td><td style = \"text-align: right;\">37400</td><td style = \"text-align: right;\">0.0</td><td style = \"text-align: right;\">44</td><td style = \"text-align: right;\">108</td><td style = \"text-align: right;\">11.0974</td><td style = \"text-align: right;\">11.2245</td><td style = \"text-align: right;\">-0.127083</td><td style = \"text-align: right;\">-0.304526</td><td style = \"text-align: right;\">-0.10274</td><td style = \"text-align: right;\">10.8396</td><td style = \"text-align: right;\">11.0221</td></tr></tbody></table></div>"
      ],
      "text/latex": [
       "\\begin{tabular}{r|cccccccccc}\n",
       "\t& person & y & tot\\_assets1 & asset & age & year & log\\_y & log\\_y\\_mean & resid & \\\\\n",
       "\t\\hline\n",
       "\t& Int64 & Int64 & Int64 & Float64 & Int64 & Int64 & Float64 & Float64 & Float64 & \\\\\n",
       "\t\\hline\n",
       "\t1 & 17118 & 43799 & -2000 & 0.0 & 53 & 102 & 10.6874 & 11.3051 & -0.617731 & $\\dots$ \\\\\n",
       "\t2 & 12630 & 68554 & 1519000 & 29454.0 & 63 & 102 & 11.1354 & 10.9559 & 0.179507 & $\\dots$ \\\\\n",
       "\t3 & 12647 & 35000 & 78000 & 0.0 & 42 & 102 & 10.4631 & 11.1441 & -0.681004 & $\\dots$ \\\\\n",
       "\t4 & 5239 & 49948 & 29900 & 0.0 & 60 & 102 & 10.8187 & 11.1392 & -0.320425 & $\\dots$ \\\\\n",
       "\t5 & 2671 & 77000 & 84000 & 0.0 & 39 & 102 & 11.2516 & 11.1318 & 0.119767 & $\\dots$ \\\\\n",
       "\t6 & 13027 & 91000 & 248000 & 25000.0 & 53 & 102 & 11.4186 & 11.3051 & 0.113518 & $\\dots$ \\\\\n",
       "\t7 & 6791 & 122296 & 118650 & 154.0 & 45 & 102 & 11.7142 & 11.2052 & 0.509001 & $\\dots$ \\\\\n",
       "\t8 & 18332 & 54000 & 56000 & 0.0 & 46 & 102 & 10.8967 & 11.2661 & -0.369324 & $\\dots$ \\\\\n",
       "\t9 & 3856 & 95800 & 357000 & 9600.0 & 37 & 102 & 11.47 & 11.0959 & 0.374122 & $\\dots$ \\\\\n",
       "\t10 & 21818 & 72334 & 25540 & 0.0 & 40 & 102 & 11.189 & 11.1248 & 0.0642436 & $\\dots$ \\\\\n",
       "\t11 & 7300 & 64319 & 710000 & 6130.0 & 63 & 102 & 11.0716 & 10.9559 & 0.115741 & $\\dots$ \\\\\n",
       "\t12 & 20796 & 88000 & 75000 & 0.0 & 48 & 102 & 11.3851 & 11.2794 & 0.105679 & $\\dots$ \\\\\n",
       "\t13 & 8455 & 50880 & 110500 & 130.0 & 53 & 102 & 10.8372 & 11.3051 & -0.467872 & $\\dots$ \\\\\n",
       "\t14 & 2560 & 55900 & 4800 & 1500.0 & 35 & 102 & 10.9313 & 11.1646 & -0.233327 & $\\dots$ \\\\\n",
       "\t15 & 5836 & 80300 & 2000000 & 24700.0 & 54 & 102 & 11.2935 & 11.3017 & -0.00814879 & $\\dots$ \\\\\n",
       "\t16 & 9633 & 197620 & 1020000 & 74900.0 & 54 & 102 & 12.1941 & 11.3017 & 0.892428 & $\\dots$ \\\\\n",
       "\t17 & 1462 & 44900 & 412500 & 19700.0 & 57 & 102 & 10.7122 & 11.2267 & -0.514504 & $\\dots$ \\\\\n",
       "\t18 & 8013 & 40867 & 228000 & 400.0 & 54 & 102 & 10.6181 & 11.3017 & -0.683596 & $\\dots$ \\\\\n",
       "\t19 & 11339 & 37559 & 3000 & 0.0 & 33 & 102 & 10.5337 & 11.0841 & -0.550397 & $\\dots$ \\\\\n",
       "\t20 & 11840 & 67000 & 101725 & 0.0 & 32 & 102 & 11.1124 & 11.0912 & 0.0212819 & $\\dots$ \\\\\n",
       "\t21 & 5044 & 131500 & 573000 & 700.0 & 45 & 102 & 11.7868 & 11.2052 & 0.581564 & $\\dots$ \\\\\n",
       "\t22 & 13063 & 33885 & 9000 & 0.0 & 40 & 102 & 10.4307 & 11.1248 & -0.694078 & $\\dots$ \\\\\n",
       "\t23 & 980 & 117888 & 552000 & 45600.0 & 55 & 102 & 11.6775 & 11.29 & 0.387539 & $\\dots$ \\\\\n",
       "\t24 & 17079 & 75600 & 102500 & 0.0 & 42 & 102 & 11.2332 & 11.1441 & 0.0891043 & $\\dots$ \\\\\n",
       "\t$\\dots$ & $\\dots$ & $\\dots$ & $\\dots$ & $\\dots$ & $\\dots$ & $\\dots$ & $\\dots$ & $\\dots$ & $\\dots$ &  \\\\\n",
       "\\end{tabular}\n"
      ],
      "text/plain": [
       "\u001b[1m9785×13 DataFrame\u001b[0m\n",
       "\u001b[1m  Row \u001b[0m│\u001b[1m person \u001b[0m\u001b[1m y      \u001b[0m\u001b[1m tot_assets1 \u001b[0m\u001b[1m asset   \u001b[0m\u001b[1m age   \u001b[0m\u001b[1m year  \u001b[0m\u001b[1m log_y   \u001b[0m\u001b[1m log_y_mea\u001b[0m ⋯\n",
       "      │\u001b[90m Int64  \u001b[0m\u001b[90m Int64  \u001b[0m\u001b[90m Int64       \u001b[0m\u001b[90m Float64 \u001b[0m\u001b[90m Int64 \u001b[0m\u001b[90m Int64 \u001b[0m\u001b[90m Float64 \u001b[0m\u001b[90m Float64  \u001b[0m ⋯\n",
       "──────┼─────────────────────────────────────────────────────────────────────────\n",
       "    1 │  17118   43799        -2000      0.0     53    102  10.6874     11.305 ⋯\n",
       "    2 │  12630   68554      1519000  29454.0     63    102  11.1354     10.955\n",
       "    3 │  12647   35000        78000      0.0     42    102  10.4631     11.144\n",
       "    4 │   5239   49948        29900      0.0     60    102  10.8187     11.139\n",
       "    5 │   2671   77000        84000      0.0     39    102  11.2516     11.131 ⋯\n",
       "    6 │  13027   91000       248000  25000.0     53    102  11.4186     11.305\n",
       "    7 │   6791  122296       118650    154.0     45    102  11.7142     11.205\n",
       "    8 │  18332   54000        56000      0.0     46    102  10.8967     11.266\n",
       "  ⋮   │   ⋮       ⋮          ⋮          ⋮       ⋮      ⋮       ⋮         ⋮     ⋱\n",
       " 9779 │  12094   70500        83000      0.0     41    108  11.1634     11.194 ⋯\n",
       " 9780 │  12975  104500       266800   2500.0     40    108  11.5569     11.124\n",
       " 9781 │   9940  133074       282000    274.0     45    108  11.7987     11.205\n",
       " 9782 │   8048  185500        88000  50000.0     45    108  12.1308     11.205\n",
       " 9783 │   2921   84845       390800    773.0     59    108  11.3486     11.212 ⋯\n",
       " 9784 │  13562   39200        18000      0.0     43    108  10.5764     11.196\n",
       " 9785 │   3193   66000        37400      0.0     44    108  11.0974     11.224\n",
       "\u001b[36m                                                 6 columns and 9770 rows omitted\u001b[0m"
      ]
     },
     "metadata": {},
     "output_type": "display_data"
    }
   ],
   "source": [
    "dlag1 = @chain df2 begin\n",
    "    @select :year :person :resid\n",
    "    @transform :year = :year .+ 2\n",
    "    @rename :resid_lag1 = :resid\n",
    "end\n",
    "\n",
    "dlag2 = @chain df2 begin\n",
    "    @select :year :person :resid\n",
    "    @transform :year = :year .+ 4\n",
    "    @rename :resid_lag2 = :resid\n",
    "end\n",
    "\n",
    "ylag1 = @chain df2 begin\n",
    "    @select :year :person :log_y\n",
    "    @transform :year = :year .+ 2\n",
    "    @rename :log_y_lag1 = :log_y\n",
    "end\n",
    "\n",
    "ylag2 = @chain df2 begin\n",
    "    @select :year :person :log_y\n",
    "    @transform :year = :year .+ 4\n",
    "    @rename :log_y_lag2 = :log_y\n",
    "end\n",
    "\n",
    "data = @chain df2 begin\n",
    "    innerjoin(dlag1, on = [:person, :year])\n",
    "    innerjoin(dlag2, on = [:person, :year])\n",
    "    innerjoin(ylag1, on = [:person, :year])\n",
    "    innerjoin(ylag2, on = [:person, :year])\n",
    "end"
   ]
  },
  {
   "cell_type": "markdown",
   "metadata": {},
   "source": [
    "We now calculate the sample equivalent of the relevant moments from the data. The code below calculates the unconditional variance of the residuals, as well as the relevant covariances."
   ]
  },
  {
   "cell_type": "code",
   "execution_count": 19,
   "metadata": {},
   "outputs": [
    {
     "data": {
      "text/plain": [
       "([0.6042229503656219], [0.39374914076225126], [0.3537264122186027])"
      ]
     },
     "metadata": {},
     "output_type": "display_data"
    }
   ],
   "source": [
    "estimates = @chain data begin\n",
    "    @combine begin\n",
    "        :v_resid = var(:resid)\n",
    "        :c_resid_1 = cov(:resid, :resid_lag1)\n",
    "        :c_resid_2 = cov(:resid, :resid_lag2)\n",
    "    end\n",
    "end\n",
    "\n",
    "data_estimates = estimates.v_resid, estimates.c_resid_1, estimates.c_resid_2"
   ]
  },
  {
   "cell_type": "markdown",
   "metadata": {},
   "source": [
    "We also need to write a function to calculate the sum of the squared differences between the sample moments and the moments predicted by our guess. "
   ]
  },
  {
   "cell_type": "code",
   "execution_count": 35,
   "metadata": {},
   "outputs": [
    {
     "data": {
      "text/plain": [
       "ssd (generic function with 1 method)"
      ]
     },
     "metadata": {},
     "output_type": "display_data"
    }
   ],
   "source": [
    "function ssd(ρ,ση,d)\n",
    "    var, cov_2, cov_4 = AR1_process(ρ,ση)\n",
    "    var_data, cov_2_data, cov_4_data = d\n",
    "    return [(var.-var_data).^2, (cov_2.-cov_2_data).^2, (cov_4.-cov_4_data).^2]\n",
    "end"
   ]
  },
  {
   "cell_type": "markdown",
   "metadata": {},
   "source": [
    "Let's test this function."
   ]
  },
  {
   "cell_type": "code",
   "execution_count": 36,
   "metadata": {},
   "outputs": [
    {
     "data": {
      "text/plain": [
       "3-element Vector{Vector{Float64}}:\n",
       " [0.3042530410230696]\n",
       " [0.17326477781616417]\n",
       " [0.0914297865877944]"
      ]
     },
     "metadata": {},
     "output_type": "display_data"
    }
   ],
   "source": [
    "trial = ssd(pars.ρ,pars.ση,data_estimates)"
   ]
  },
  {
   "cell_type": "markdown",
   "metadata": {},
   "source": [
    "#### **Question 4**"
   ]
  },
  {
   "cell_type": "markdown",
   "metadata": {},
   "source": [
    "*Now estimate the income process parameters by minimising this weighted sum of squares (i.e. implement a minimum distance estimator with identity weighting matrix).*"
   ]
  },
  {
   "cell_type": "markdown",
   "metadata": {},
   "source": [
    "Finally, let's minimise the weighted sum of squares, with the identity matrix as our weighting matrix."
   ]
  },
  {
   "cell_type": "code",
   "execution_count": 39,
   "metadata": {},
   "outputs": [
    {
     "data": {
      "text/plain": [
       "minimise (generic function with 1 method)"
      ]
     },
     "metadata": {},
     "output_type": "display_data"
    }
   ],
   "source": [
    "function minimise(ρ,ση,d)\n",
    "    weighted_ssd = ssd(ρ,ση,d)'*I*ssd(ρ,ση,d)\n",
    "    return weighted_ssd\n",
    "end"
   ]
  },
  {
   "cell_type": "markdown",
   "metadata": {},
   "source": [
    "Test the function."
   ]
  },
  {
   "cell_type": "code",
   "execution_count": 40,
   "metadata": {},
   "outputs": [
    {
     "data": {
      "text/plain": [
       "0.13095000207896004"
      ]
     },
     "metadata": {},
     "output_type": "display_data"
    }
   ],
   "source": [
    "min_test = minimise(pars.ρ,pars.ση,data_estimates)"
   ]
  },
  {
   "cell_type": "markdown",
   "metadata": {},
   "source": [
    "Now, optimise."
   ]
  },
  {
   "cell_type": "code",
   "execution_count": 44,
   "metadata": {},
   "outputs": [
    {
     "data": {
      "text/plain": [
       "2-element Vector{Float64}:\n",
       " 0.7062014705501509\n",
       " 0.5511715773027391"
      ]
     },
     "metadata": {},
     "output_type": "display_data"
    }
   ],
   "source": [
    "using Optim\n",
    "\n",
    "result = optimize(guess -> minimise(guess[1],guess[2],data_estimates), [pars.ρ,pars.ση], NelderMead())\n",
    "\n",
    "solution = Optim.minimizer(result)"
   ]
  },
  {
   "cell_type": "markdown",
   "metadata": {},
   "source": [
    "As a check, run the following code:"
   ]
  },
  {
   "cell_type": "code",
   "execution_count": 45,
   "metadata": {},
   "outputs": [
    {
     "data": {
      "text/plain": [
       "(0.6060294066149724, 0.49872051700719566, 0.24872215408392456)"
      ]
     },
     "metadata": {},
     "output_type": "display_data"
    }
   ],
   "source": [
    "out_ρ, out_ση = AR1_process(solution[1],solution[2])"
   ]
  },
  {
   "cell_type": "markdown",
   "metadata": {},
   "source": [
    "#### **Question 5**"
   ]
  },
  {
   "cell_type": "markdown",
   "metadata": {},
   "source": [
    "*Note that in this model,*\n",
    "$$\n",
    "\\rho = \\frac{\\mathbb{C}(\\varepsilon_{it},\\varepsilon_{it-1})}{\\mathbb{V}(\\varepsilon_{it})}.\n",
    "$$\n",
    "*Suppose that the true model is*\n",
    "$$\n",
    "\\log(y_{it}) = \\mu_t + \\varepsilon_{it} + \\zeta_{it}\n",
    "$$\n",
    "*where $\\zeta_{it}$ is an additional shock to income that is completely iid (i.e. no persistence). Suppose we estimate the persistence parameter $\\rho$ using the relationship above (which is now misspecified).*\n",
    "$$\n",
    "\\hat{\\rho} = \\frac{\\widehat{\\mathbb{C}(\\varepsilon_{it},\\varepsilon_{it-1})}}{\\widehat{\\mathbb{V}(\\varepsilon_{it})}}\n",
    "$$\n",
    "*Does the population limit of our estimator over- or under-estimate $\\rho$, the persistence in $\\varepsilon$?*"
   ]
  },
  {
   "cell_type": "markdown",
   "metadata": {},
   "source": [
    "If the true model is \n",
    "$$\n",
    "\\log(y_{it}) = \\mu_t + \\varepsilon_{it} + \\zeta_{it}, \\quad \\varepsilon_{it} = \\rho \\varepsilon_{it-1} + \\eta_{it}, \\quad \\eta_{it} \\sim \\mathcal{N}(0,\\sigma^2_{\\eta}), \\forall t\n",
    "$$\n",
    "but we estimate $\\rho$ according to\n",
    "$$\n",
    "\\log(y_{it}) = \\mu_t + \\varepsilon_{it}, \\quad \\varepsilon_{it} = \\rho \\varepsilon_{it-1} + \\eta_{it}, \\quad \\eta_{it} \\sim \\mathcal{N}(0,\\sigma^2_{\\eta}), \\forall t\n",
    "$$\n",
    "$$\n",
    "\\hat{\\rho} = \\frac{\\widehat{\\mathbb{C}(\\varepsilon_{it},\\varepsilon_{it-1})}}{\\widehat{\\mathbb{V}(\\varepsilon_{it})}}\n",
    "$$\n",
    "then our estimator will **under-estimate** $\\rho$, the persistence in $\\varepsilon$. This is because the iid shock $\\zeta_{it}$ introduces additional variance into $\\log(y_{it})$, but our estimate assumes that all of the variation in $\\log(y_{it})$ comes from the AR1 process. Hence, the denominator of our estimate will be larger than it should be, whilst the iid nature of $\\zeta_{it}$ across time means that the numerator will be unaffected. Hence, our estimator $\\hat{\\rho}$ under-estimates $\\rho$."
   ]
  }
 ],
 "metadata": {
  "kernelspec": {
   "display_name": "Julia 1.10.1",
   "language": "julia",
   "name": "julia-1.10"
  },
  "language_info": {
   "file_extension": ".jl",
   "mimetype": "application/julia",
   "name": "julia",
   "version": "1.10.1"
  }
 },
 "nbformat": 4,
 "nbformat_minor": 2
}
