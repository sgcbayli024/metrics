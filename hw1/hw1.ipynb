{
 "cells": [
  {
   "cell_type": "markdown",
   "metadata": {},
   "source": [
    "# Applied Econometrics"
   ]
  },
  {
   "cell_type": "markdown",
   "metadata": {},
   "source": [
    "## Assignment 1"
   ]
  },
  {
   "cell_type": "markdown",
   "metadata": {},
   "source": [
    "### Conor Bayliss"
   ]
  },
  {
   "cell_type": "markdown",
   "metadata": {},
   "source": [
    "#### Question 1"
   ]
  },
  {
   "cell_type": "markdown",
   "metadata": {},
   "source": [
    "Let's suppose we are interested in studying the effects of a wage subsidy on labour supply. Marschak's Maxim suggests that we need to estimate the elasticity of labour supply with respect to wages, which, by the specification of utility is $\\frac{1}{1-\\rho}$. Hence, we only need to estimate the parameter $\\rho$ and the parameters $\\phi$ and $\\delta_k, \\forall k$ are redundant for this policy evaluation."
   ]
  },
  {
   "cell_type": "markdown",
   "metadata": {},
   "source": [
    "Let us confirm that the elasticity of labour supply is indeed $\\frac{1}{1-\\rho}$. To do so, begin with the utility function\n",
    "$$\n",
    "U = (\\phi C^\\rho + (1-\\phi)L^\\rho)^\\frac{1}{\\rho}\n",
    "$$\n",
    "and notice that the marginal utilities with respect to consumption and leisure are\n",
    "$$\n",
    "MU_C = (1-\\phi)\\rho L^{\\rho-1}\\frac{1}{\\rho}(\\phi C^\\rho + (1-\\phi)L^\\rho)^{\\frac{1}{\\rho}-1},\n",
    "$$\n",
    "and\n",
    "$$\n",
    "MU_L = \\phi\\rho C^{\\rho-1}\\frac{1}{\\rho}(\\phi C^\\rho + (1-\\phi)L^\\rho)^{\\frac{1}{\\rho}-1}.\n",
    "$$\n",
    "The ratio of marginal utilities is therefore,\n",
    "$$\n",
    "\\frac{MU_C}{MU_L} = \\frac{\\phi}{1-\\phi}(\\frac{C}{L})^{\\rho-1} = \\frac{\\phi}{1-\\phi}(\\frac{L}{C})^{1-\\rho}\n",
    "$$\n",
    "and, taking logs\n",
    "$$\n",
    "log(\\frac{MU_C}{MU_L}) = log(\\frac{\\phi}{1-\\phi}) + (1-\\rho) log(\\frac{L}{C})\n",
    "$$\n",
    "which, upon rearrangement implies,\n",
    "$$\n",
    "log(\\frac{L}{C}) = \\frac{1}{1-\\rho} log(\\frac{\\phi}{1-\\phi}) + \\frac{1}{1-\\rho}log(\\frac{MU_C}{MU_L})\n",
    "$$\n",
    "in which case,\n",
    "$$\n",
    "\\frac{\\partial log(\\frac{L}{C})}{\\partial log(\\frac{MU_C}{MU_L})} = \\frac{1}{1-\\rho}\n",
    "$$\n",
    "which is the definition of the elasticity of substitution."
   ]
  },
  {
   "cell_type": "markdown",
   "metadata": {},
   "source": [
    "#### Question 2"
   ]
  },
  {
   "cell_type": "markdown",
   "metadata": {},
   "source": [
    "Now, consider\n",
    "$$\n",
    "h^* = \\arg\\max (\\phi(wh)^\\rho+(1-\\phi)(1-h)^\\rho)^{\\frac{1}{\\rho}}.\n",
    "$$\n",
    "Let the function to be maximised be $U$, and take first-order conditions with respect to market hours and find\n",
    "$$\n",
    "\\frac{\\partial U}{\\partial h } = 0 = \\frac{1}{\\rho}(\\phi(wh)^\\rho+(1-\\phi)(1-h)^\\rho)^{\\frac{1}{\\rho}-1}(\\rho \\phi h^{\\rho-1} w ^{\\rho}) - \\frac{1}{\\rho}(\\phi(wh)^\\rho+(1-\\phi)(1-h)^\\rho)^{\\frac{1}{\\rho}-1}(\\rho (1-\\phi) (1-h)^{\\rho-1})\n",
    "$$\n",
    "and then, taking one term to the other side of the equation and cancelling out the common term, we obtain\n",
    "$$\n",
    "\\phi h^{\\rho-1} w ^{\\rho} =  (1-\\phi) (1-h)^{\\rho-1}.\n",
    "$$\n",
    "Taking hours to one side, we see\n",
    "$$\n",
    "(\\frac{h}{1-h})^{\\rho-1} = \\frac{1-\\phi}{\\phi w^\\rho}\n",
    "$$\n",
    "\n",
    "$$\n",
    "\\implies (\\frac{1-h}{h})^{1-\\rho} = \\frac{1-\\phi}{\\phi w^\\rho}\n",
    "$$\n",
    "and multiplying by $\\frac{1}{w^{1-\\rho}}$ we find\n",
    "$$\n",
    "\\frac{1}{w^{1-\\rho}}(\\frac{1-h}{h})^{1-\\rho} = \\frac{1-\\phi}{\\phi w^\\rho} \\frac{1}{w^{1-\\rho}}\n",
    "$$,\n",
    "$$\n",
    "\\implies (\\frac{1-h}{wh})^{1-\\rho} = \\frac{1-\\phi}{\\phi w }\n",
    "$$\n",
    "and taking logs, we see\n",
    "$$\n",
    "(1-\\rho)log(\\frac{1-h}{wh}) = log(\\frac{1-\\phi}{\\phi}) - log(w)\n",
    "$$\n",
    "$$\n",
    "\\implies log(\\frac{1-h}{wh}) = -\\frac{1}{1-\\rho}log(\\frac{\\phi}{1-\\phi}) - \\frac{1}{1-\\rho}log(w)\n",
    "$$\n",
    "and swapping the signs around, we arrive at\n",
    "$$\n",
    "log(\\frac{wh}{1-h}) = \\frac{1}{1-\\rho}log(\\frac{\\phi}{1-\\phi}) + \\frac{1}{1-\\rho}log(w)\n",
    "$$\n",
    "and we use the definition of $C$ and $L$ to see\n",
    "$$\n",
    "log(\\frac{C}{L}) = \\frac{1}{1-\\rho}log(\\frac{\\phi}{1-\\phi}) + \\frac{1}{1-\\rho}log(w).\n",
    "$$"
   ]
  },
  {
   "cell_type": "markdown",
   "metadata": {},
   "source": [
    "Now, suppose that we had cross-sectional data $\\{C_n, L_n, W_n \\}$, where $C_n$ if labour market earnings, $L_n$ is non-market time, and $W_n$ is the wage-rate, where the subscript $n$ denotes the individual. I doubt that such a model would provide a good laboratory in order to estimate the elasticity of labour supply, $\\frac{1}{1-\\rho}$. My main concern is that, in the data, I would expect to see \"bunching\" of $L_n$ since most workers will either be on full-time 40 hour a week contracts, or part-time contracts, such as 20 hours per week. If workers face a discrete choice in how many labour market hours to provide per week, rather than a continuous choice, I would expect that the estimate of $\\rho$ may just measure the average share of hours spent working, rather than the elasticity itself."
   ]
  },
  {
   "cell_type": "markdown",
   "metadata": {},
   "source": [
    "#### Question 3"
   ]
  },
  {
   "cell_type": "markdown",
   "metadata": {},
   "source": [
    "Consider the case of augmenting the above model to accommodate preference heterogeneity, \n",
    "$$\n",
    "log(\\frac{C}{L}) = \\frac{1}{1-\\rho}log(\\frac{\\phi_n}{1-\\phi_n}) + \\frac{1}{1-\\rho}log(w).\n",
    "$$\n",
    "If we were to run a regression of $log(\\frac{C_n}{L_n})$ on $log(W_n)$, we would need to assume that the errors were uncorrelated with the observed wage. That is, such a regression would not be allowing for individuals to have different preferences over their optimal consumption-leisure bundle. Allowing for individual fixed effects, such as the above model augmentation, would be a more credible strategy. Lastly, labour market decisions are inherently dynamic, due to, for example, job search and human capital accumulation. Since this model is static, I would not consider it a suitable environment to consistently recover the elasticity of labour supply."
   ]
  }
 ],
 "metadata": {
  "kernelspec": {
   "display_name": "Julia 1.10.1",
   "language": "julia",
   "name": "julia-1.10"
  },
  "language_info": {
   "file_extension": ".jl",
   "mimetype": "application/julia",
   "name": "julia",
   "version": "1.10.1"
  }
 },
 "nbformat": 4,
 "nbformat_minor": 2
}
