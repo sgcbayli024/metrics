{
 "cells": [
  {
   "cell_type": "markdown",
   "metadata": {},
   "source": [
    "# **Assignment 2**"
   ]
  },
  {
   "cell_type": "markdown",
   "metadata": {},
   "source": [
    "## **ECON8208 - Applied Econometrics**"
   ]
  },
  {
   "cell_type": "markdown",
   "metadata": {},
   "source": [
    "### *Conor Bayliss*"
   ]
  },
  {
   "cell_type": "markdown",
   "metadata": {},
   "source": [
    "#### **Setup**"
   ]
  },
  {
   "cell_type": "markdown",
   "metadata": {},
   "source": [
    "Consider the following extension of the undirected search model. Let $X_n$ be a vector of demographics for person $n$:\n",
    "$$\n",
    "X_n = [1, C_n, F_n, R_n]\n",
    "$$\n",
    "where $C_n$ is a dummy variable that indicates if an individual has a college degree, $F_n$ is a dummy variable indicating that an individual is female, and $R_n$ is a dummy that indicates if person $n$ reports their race as not \"white\". Define a new set of parameters which depend on these observables:\n",
    "* The flow value of unemployment is $b(X) = X\\gamma_b$\n",
    "* The probability of job destruction is \n",
    "$$\n",
    "\\delta(X) = \\frac{\\exp(X\\gamma_\\delta)}{1+\\exp(X\\gamma_\\delta)}\n",
    "$$\n",
    "* The probability of a job offer is\n",
    "$$\n",
    "\\lambda(X) = \\frac{\\exp(X\\gamma_\\lambda)}{1+\\exp(X\\gamma_\\lambda)}\n",
    "$$\n",
    "* $\\beta$ takes a value of 0.995\n",
    "* Wage offers are drawn from a log normal distribution with mean $\\mu(X) = X\\gamma_\\mu$ and standard deviation $\\sigma(X) = \\exp(X\\gamma_\\sigma)$\n",
    "* Log wages are observed with measurement error\n",
    "$$\n",
    "\\log(W_n^o) = \\log(W_n) + \\xi_n, \\quad \\xi_n \\sim N(0,\\sigma^2_\\xi)\n",
    "$$\n",
    "Hence, the parameters of the model which we are going to estimate are:\n",
    "$$\n",
    "\\theta = (\\gamma_b, \\gamma_\\delta, \\gamma_\\lambda, \\gamma_\\mu, \\gamma_\\sigma,\\sigma^2_\\xi)\n",
    "$$"
   ]
  },
  {
   "cell_type": "markdown",
   "metadata": {},
   "source": [
    "We are going to estimate this model on CPS data. The following code follows Jo's setup. We import the data, impute wages for workers who are not paid by the hour, limits the observations to January, and convert weekly unemployment durations to monthly."
   ]
  },
  {
   "cell_type": "code",
   "execution_count": 30,
   "metadata": {},
   "outputs": [
    {
     "data": {
      "text/html": [
       "<div><div style = \"float: left;\"><span>61364×7 DataFrame</span></div><div style = \"float: right;\"><span style = \"font-style: italic;\">61339 rows omitted</span></div><div style = \"clear: both;\"></div></div><div class = \"data-frame\" style = \"overflow-x: scroll;\"><table class = \"data-frame\" style = \"margin-bottom: 6px;\"><thead><tr class = \"header\"><th class = \"rowNumber\" style = \"font-weight: bold; text-align: right;\">Row</th><th style = \"text-align: left;\">AGE</th><th style = \"text-align: left;\">SEX</th><th style = \"text-align: left;\">RACE</th><th style = \"text-align: left;\">EDUC</th><th style = \"text-align: left;\">wage</th><th style = \"text-align: left;\">E</th><th style = \"text-align: left;\">DURUNEMP</th></tr><tr class = \"subheader headerLastRow\"><th class = \"rowNumber\" style = \"font-weight: bold; text-align: right;\"></th><th title = \"Int64\" style = \"text-align: left;\">Int64</th><th title = \"Int64\" style = \"text-align: left;\">Int64</th><th title = \"Int64\" style = \"text-align: left;\">Int64</th><th title = \"Int64\" style = \"text-align: left;\">Int64</th><th title = \"Union{Missing, Float64}\" style = \"text-align: left;\">Float64?</th><th title = \"Bool\" style = \"text-align: left;\">Bool</th><th title = \"Float64\" style = \"text-align: left;\">Float64</th></tr></thead><tbody><tr><td class = \"rowNumber\" style = \"font-weight: bold; text-align: right;\">1</td><td style = \"text-align: right;\">72</td><td style = \"text-align: right;\">1</td><td style = \"text-align: right;\">100</td><td style = \"text-align: right;\">81</td><td style = \"font-style: italic; text-align: right;\">missing</td><td style = \"text-align: right;\">true</td><td style = \"text-align: right;\">231.0</td></tr><tr><td class = \"rowNumber\" style = \"font-weight: bold; text-align: right;\">2</td><td style = \"text-align: right;\">66</td><td style = \"text-align: right;\">1</td><td style = \"text-align: right;\">100</td><td style = \"text-align: right;\">111</td><td style = \"font-style: italic; text-align: right;\">missing</td><td style = \"text-align: right;\">true</td><td style = \"text-align: right;\">231.0</td></tr><tr><td class = \"rowNumber\" style = \"font-weight: bold; text-align: right;\">3</td><td style = \"text-align: right;\">61</td><td style = \"text-align: right;\">2</td><td style = \"text-align: right;\">100</td><td style = \"text-align: right;\">111</td><td style = \"font-style: italic; text-align: right;\">missing</td><td style = \"text-align: right;\">true</td><td style = \"text-align: right;\">231.0</td></tr><tr><td class = \"rowNumber\" style = \"font-weight: bold; text-align: right;\">4</td><td style = \"text-align: right;\">52</td><td style = \"text-align: right;\">2</td><td style = \"text-align: right;\">200</td><td style = \"text-align: right;\">73</td><td style = \"text-align: right;\">20.84</td><td style = \"text-align: right;\">true</td><td style = \"text-align: right;\">231.0</td></tr><tr><td class = \"rowNumber\" style = \"font-weight: bold; text-align: right;\">5</td><td style = \"text-align: right;\">19</td><td style = \"text-align: right;\">2</td><td style = \"text-align: right;\">200</td><td style = \"text-align: right;\">73</td><td style = \"text-align: right;\">10.0</td><td style = \"text-align: right;\">true</td><td style = \"text-align: right;\">231.0</td></tr><tr><td class = \"rowNumber\" style = \"font-weight: bold; text-align: right;\">6</td><td style = \"text-align: right;\">56</td><td style = \"text-align: right;\">2</td><td style = \"text-align: right;\">200</td><td style = \"text-align: right;\">111</td><td style = \"text-align: right;\">25.0</td><td style = \"text-align: right;\">true</td><td style = \"text-align: right;\">231.0</td></tr><tr><td class = \"rowNumber\" style = \"font-weight: bold; text-align: right;\">7</td><td style = \"text-align: right;\">22</td><td style = \"text-align: right;\">2</td><td style = \"text-align: right;\">200</td><td style = \"text-align: right;\">81</td><td style = \"text-align: right;\">9.5</td><td style = \"text-align: right;\">true</td><td style = \"text-align: right;\">231.0</td></tr><tr><td class = \"rowNumber\" style = \"font-weight: bold; text-align: right;\">8</td><td style = \"text-align: right;\">23</td><td style = \"text-align: right;\">2</td><td style = \"text-align: right;\">100</td><td style = \"text-align: right;\">124</td><td style = \"font-style: italic; text-align: right;\">missing</td><td style = \"text-align: right;\">true</td><td style = \"text-align: right;\">231.0</td></tr><tr><td class = \"rowNumber\" style = \"font-weight: bold; text-align: right;\">9</td><td style = \"text-align: right;\">24</td><td style = \"text-align: right;\">2</td><td style = \"text-align: right;\">100</td><td style = \"text-align: right;\">124</td><td style = \"font-style: italic; text-align: right;\">missing</td><td style = \"text-align: right;\">true</td><td style = \"text-align: right;\">231.0</td></tr><tr><td class = \"rowNumber\" style = \"font-weight: bold; text-align: right;\">10</td><td style = \"text-align: right;\">59</td><td style = \"text-align: right;\">2</td><td style = \"text-align: right;\">200</td><td style = \"text-align: right;\">111</td><td style = \"font-style: italic; text-align: right;\">missing</td><td style = \"text-align: right;\">true</td><td style = \"text-align: right;\">231.0</td></tr><tr><td class = \"rowNumber\" style = \"font-weight: bold; text-align: right;\">11</td><td style = \"text-align: right;\">53</td><td style = \"text-align: right;\">1</td><td style = \"text-align: right;\">200</td><td style = \"text-align: right;\">81</td><td style = \"font-style: italic; text-align: right;\">missing</td><td style = \"text-align: right;\">true</td><td style = \"text-align: right;\">231.0</td></tr><tr><td class = \"rowNumber\" style = \"font-weight: bold; text-align: right;\">12</td><td style = \"text-align: right;\">24</td><td style = \"text-align: right;\">2</td><td style = \"text-align: right;\">200</td><td style = \"text-align: right;\">73</td><td style = \"font-style: italic; text-align: right;\">missing</td><td style = \"text-align: right;\">true</td><td style = \"text-align: right;\">231.0</td></tr><tr><td class = \"rowNumber\" style = \"font-weight: bold; text-align: right;\">13</td><td style = \"text-align: right;\">60</td><td style = \"text-align: right;\">1</td><td style = \"text-align: right;\">100</td><td style = \"text-align: right;\">124</td><td style = \"font-style: italic; text-align: right;\">missing</td><td style = \"text-align: right;\">true</td><td style = \"text-align: right;\">231.0</td></tr><tr><td style = \"text-align: right;\">&vellip;</td><td style = \"text-align: right;\">&vellip;</td><td style = \"text-align: right;\">&vellip;</td><td style = \"text-align: right;\">&vellip;</td><td style = \"text-align: right;\">&vellip;</td><td style = \"text-align: right;\">&vellip;</td><td style = \"text-align: right;\">&vellip;</td><td style = \"text-align: right;\">&vellip;</td></tr><tr><td class = \"rowNumber\" style = \"font-weight: bold; text-align: right;\">61353</td><td style = \"text-align: right;\">41</td><td style = \"text-align: right;\">1</td><td style = \"text-align: right;\">100</td><td style = \"text-align: right;\">111</td><td style = \"font-style: italic; text-align: right;\">missing</td><td style = \"text-align: right;\">true</td><td style = \"text-align: right;\">231.0</td></tr><tr><td class = \"rowNumber\" style = \"font-weight: bold; text-align: right;\">61354</td><td style = \"text-align: right;\">41</td><td style = \"text-align: right;\">2</td><td style = \"text-align: right;\">100</td><td style = \"text-align: right;\">73</td><td style = \"font-style: italic; text-align: right;\">missing</td><td style = \"text-align: right;\">true</td><td style = \"text-align: right;\">231.0</td></tr><tr><td class = \"rowNumber\" style = \"font-weight: bold; text-align: right;\">61355</td><td style = \"text-align: right;\">38</td><td style = \"text-align: right;\">1</td><td style = \"text-align: right;\">100</td><td style = \"text-align: right;\">73</td><td style = \"font-style: italic; text-align: right;\">missing</td><td style = \"text-align: right;\">true</td><td style = \"text-align: right;\">231.0</td></tr><tr><td class = \"rowNumber\" style = \"font-weight: bold; text-align: right;\">61356</td><td style = \"text-align: right;\">29</td><td style = \"text-align: right;\">2</td><td style = \"text-align: right;\">100</td><td style = \"text-align: right;\">73</td><td style = \"font-style: italic; text-align: right;\">missing</td><td style = \"text-align: right;\">true</td><td style = \"text-align: right;\">231.0</td></tr><tr><td class = \"rowNumber\" style = \"font-weight: bold; text-align: right;\">61357</td><td style = \"text-align: right;\">71</td><td style = \"text-align: right;\">2</td><td style = \"text-align: right;\">100</td><td style = \"text-align: right;\">73</td><td style = \"text-align: right;\">12.0</td><td style = \"text-align: right;\">true</td><td style = \"text-align: right;\">231.0</td></tr><tr><td class = \"rowNumber\" style = \"font-weight: bold; text-align: right;\">61358</td><td style = \"text-align: right;\">45</td><td style = \"text-align: right;\">1</td><td style = \"text-align: right;\">100</td><td style = \"text-align: right;\">92</td><td style = \"text-align: right;\">21.25</td><td style = \"text-align: right;\">true</td><td style = \"text-align: right;\">231.0</td></tr><tr><td class = \"rowNumber\" style = \"font-weight: bold; text-align: right;\">61359</td><td style = \"text-align: right;\">41</td><td style = \"text-align: right;\">1</td><td style = \"text-align: right;\">100</td><td style = \"text-align: right;\">73</td><td style = \"font-style: italic; text-align: right;\">missing</td><td style = \"text-align: right;\">true</td><td style = \"text-align: right;\">231.0</td></tr><tr><td class = \"rowNumber\" style = \"font-weight: bold; text-align: right;\">61360</td><td style = \"text-align: right;\">42</td><td style = \"text-align: right;\">1</td><td style = \"text-align: right;\">100</td><td style = \"text-align: right;\">111</td><td style = \"font-style: italic; text-align: right;\">missing</td><td style = \"text-align: right;\">true</td><td style = \"text-align: right;\">231.0</td></tr><tr><td class = \"rowNumber\" style = \"font-weight: bold; text-align: right;\">61361</td><td style = \"text-align: right;\">43</td><td style = \"text-align: right;\">2</td><td style = \"text-align: right;\">100</td><td style = \"text-align: right;\">123</td><td style = \"font-style: italic; text-align: right;\">missing</td><td style = \"text-align: right;\">true</td><td style = \"text-align: right;\">231.0</td></tr><tr><td class = \"rowNumber\" style = \"font-weight: bold; text-align: right;\">61362</td><td style = \"text-align: right;\">17</td><td style = \"text-align: right;\">1</td><td style = \"text-align: right;\">100</td><td style = \"text-align: right;\">60</td><td style = \"font-style: italic; text-align: right;\">missing</td><td style = \"text-align: right;\">true</td><td style = \"text-align: right;\">231.0</td></tr><tr><td class = \"rowNumber\" style = \"font-weight: bold; text-align: right;\">61363</td><td style = \"text-align: right;\">32</td><td style = \"text-align: right;\">2</td><td style = \"text-align: right;\">100</td><td style = \"text-align: right;\">81</td><td style = \"font-style: italic; text-align: right;\">missing</td><td style = \"text-align: right;\">true</td><td style = \"text-align: right;\">231.0</td></tr><tr><td class = \"rowNumber\" style = \"font-weight: bold; text-align: right;\">61364</td><td style = \"text-align: right;\">30</td><td style = \"text-align: right;\">2</td><td style = \"text-align: right;\">100</td><td style = \"text-align: right;\">81</td><td style = \"font-style: italic; text-align: right;\">missing</td><td style = \"text-align: right;\">true</td><td style = \"text-align: right;\">231.0</td></tr></tbody></table></div>"
      ],
      "text/latex": [
       "\\begin{tabular}{r|ccccccc}\n",
       "\t& AGE & SEX & RACE & EDUC & wage & E & DURUNEMP\\\\\n",
       "\t\\hline\n",
       "\t& Int64 & Int64 & Int64 & Int64 & Float64? & Bool & Float64\\\\\n",
       "\t\\hline\n",
       "\t1 & 72 & 1 & 100 & 81 & \\emph{missing} & 1 & 231.0 \\\\\n",
       "\t2 & 66 & 1 & 100 & 111 & \\emph{missing} & 1 & 231.0 \\\\\n",
       "\t3 & 61 & 2 & 100 & 111 & \\emph{missing} & 1 & 231.0 \\\\\n",
       "\t4 & 52 & 2 & 200 & 73 & 20.84 & 1 & 231.0 \\\\\n",
       "\t5 & 19 & 2 & 200 & 73 & 10.0 & 1 & 231.0 \\\\\n",
       "\t6 & 56 & 2 & 200 & 111 & 25.0 & 1 & 231.0 \\\\\n",
       "\t7 & 22 & 2 & 200 & 81 & 9.5 & 1 & 231.0 \\\\\n",
       "\t8 & 23 & 2 & 100 & 124 & \\emph{missing} & 1 & 231.0 \\\\\n",
       "\t9 & 24 & 2 & 100 & 124 & \\emph{missing} & 1 & 231.0 \\\\\n",
       "\t10 & 59 & 2 & 200 & 111 & \\emph{missing} & 1 & 231.0 \\\\\n",
       "\t11 & 53 & 1 & 200 & 81 & \\emph{missing} & 1 & 231.0 \\\\\n",
       "\t12 & 24 & 2 & 200 & 73 & \\emph{missing} & 1 & 231.0 \\\\\n",
       "\t13 & 60 & 1 & 100 & 124 & \\emph{missing} & 1 & 231.0 \\\\\n",
       "\t14 & 57 & 2 & 100 & 123 & \\emph{missing} & 1 & 231.0 \\\\\n",
       "\t15 & 50 & 2 & 200 & 73 & \\emph{missing} & 0 & 4.0 \\\\\n",
       "\t16 & 18 & 1 & 200 & 81 & \\emph{missing} & 1 & 231.0 \\\\\n",
       "\t17 & 29 & 1 & 200 & 50 & \\emph{missing} & 1 & 231.0 \\\\\n",
       "\t18 & 53 & 2 & 200 & 91 & \\emph{missing} & 1 & 231.0 \\\\\n",
       "\t19 & 48 & 1 & 100 & 73 & 17.0 & 1 & 231.0 \\\\\n",
       "\t20 & 59 & 1 & 200 & 50 & \\emph{missing} & 0 & 15.0 \\\\\n",
       "\t21 & 72 & 1 & 100 & 123 & \\emph{missing} & 1 & 231.0 \\\\\n",
       "\t22 & 72 & 2 & 100 & 123 & \\emph{missing} & 1 & 231.0 \\\\\n",
       "\t23 & 27 & 2 & 200 & 81 & \\emph{missing} & 0 & 1.0 \\\\\n",
       "\t24 & 27 & 1 & 200 & 81 & \\emph{missing} & 1 & 231.0 \\\\\n",
       "\t$\\dots$ & $\\dots$ & $\\dots$ & $\\dots$ & $\\dots$ & $\\dots$ & $\\dots$ & $\\dots$ \\\\\n",
       "\\end{tabular}\n"
      ],
      "text/plain": [
       "\u001b[1m61364×7 DataFrame\u001b[0m\n",
       "\u001b[1m   Row \u001b[0m│\u001b[1m AGE   \u001b[0m\u001b[1m SEX   \u001b[0m\u001b[1m RACE  \u001b[0m\u001b[1m EDUC  \u001b[0m\u001b[1m wage       \u001b[0m\u001b[1m E    \u001b[0m\u001b[1m DURUNEMP \u001b[0m\n",
       "       │\u001b[90m Int64 \u001b[0m\u001b[90m Int64 \u001b[0m\u001b[90m Int64 \u001b[0m\u001b[90m Int64 \u001b[0m\u001b[90m Float64?   \u001b[0m\u001b[90m Bool \u001b[0m\u001b[90m Float64  \u001b[0m\n",
       "───────┼────────────────────────────────────────────────────────\n",
       "     1 │    72      1    100     81 \u001b[90m missing    \u001b[0m true     231.0\n",
       "     2 │    66      1    100    111 \u001b[90m missing    \u001b[0m true     231.0\n",
       "     3 │    61      2    100    111 \u001b[90m missing    \u001b[0m true     231.0\n",
       "     4 │    52      2    200     73       20.84  true     231.0\n",
       "     5 │    19      2    200     73       10.0   true     231.0\n",
       "     6 │    56      2    200    111       25.0   true     231.0\n",
       "     7 │    22      2    200     81        9.5   true     231.0\n",
       "     8 │    23      2    100    124 \u001b[90m missing    \u001b[0m true     231.0\n",
       "   ⋮   │   ⋮      ⋮      ⋮      ⋮        ⋮        ⋮       ⋮\n",
       " 61358 │    45      1    100     92       21.25  true     231.0\n",
       " 61359 │    41      1    100     73 \u001b[90m missing    \u001b[0m true     231.0\n",
       " 61360 │    42      1    100    111 \u001b[90m missing    \u001b[0m true     231.0\n",
       " 61361 │    43      2    100    123 \u001b[90m missing    \u001b[0m true     231.0\n",
       " 61362 │    17      1    100     60 \u001b[90m missing    \u001b[0m true     231.0\n",
       " 61363 │    32      2    100     81 \u001b[90m missing    \u001b[0m true     231.0\n",
       " 61364 │    30      2    100     81 \u001b[90m missing    \u001b[0m true     231.0\n",
       "\u001b[36m                                              61349 rows omitted\u001b[0m"
      ]
     },
     "metadata": {},
     "output_type": "display_data"
    }
   ],
   "source": [
    "using CSV, DataFrames, DataFramesMeta, Statistics\n",
    "\n",
    "data = CSV.read(\"C:\\\\Users\\\\bayle\\\\Documents\\\\Github\\\\metrics\\\\hw2\\\\data\\\\cps_00019.csv\", DataFrame)\n",
    "data = @chain data begin\n",
    "    @transform :E = :EMPSTAT .< 21\n",
    "    @transform @byrow :wage = begin\n",
    "        if :PAIDHOUR == 0\n",
    "            return missing\n",
    "        elseif :PAIDHOUR == 2\n",
    "            if :HOURWAGE < 99.99 && :HOURWAGE > 0\n",
    "                return :HOURWAGE\n",
    "            else\n",
    "                return missing\n",
    "            end\n",
    "        elseif :PAIDHOUR == 1\n",
    "            if :EARNWEEK>0 && :UHRSWORKT.<997\n",
    "                return :EARNWEEK / :UHRSWORKT\n",
    "            else\n",
    "                return missing\n",
    "            end\n",
    "        end\n",
    "    end\n",
    "    @subset :MONTH.==1\n",
    "    @select :AGE :SEX :RACE :EDUC :wage :E :DURUNEMP\n",
    "    @transform :DURUNEMP = round.(:DURUNEMP.*12/52)\n",
    "end"
   ]
  },
  {
   "cell_type": "markdown",
   "metadata": {},
   "source": [
    "Recall that the optimal decision rule of the worker is characterised by a reservation wage. In class, we derived the following reservation wage equation:\n",
    "$$\n",
    "w^* = b + \\beta \\lambda \\int_{w^*} \\frac{1-F_W(w)}{1-\\beta(1-\\lambda)}dw\n",
    "$$\n",
    "and we showed that the steady state unemployment rate is:\n",
    "$$\n",
    "P[E=0] = \\frac{h}{h+\\delta}\n",
    "$$\n",
    "where $h=\\lambda(1-F_W(w^*))$ is the rate at which workers exit unemployment. In steady state, the fraction of unemploymed agent who have been unemployed for $t$ periods is:\n",
    "$$\n",
    "P[t_U = t] = h(1-h)^t\n",
    "$$\n",
    "The following code follows the provided code from the `Models` section of the course website."
   ]
  },
  {
   "cell_type": "code",
   "execution_count": 2,
   "metadata": {},
   "outputs": [
    {
     "data": {
      "text/plain": [
       "-33.70656559385876"
      ]
     },
     "metadata": {},
     "output_type": "display_data"
    }
   ],
   "source": [
    "using Distributions, QuadGK\n",
    "\n",
    "dS(x;F,β,δ) = (1-cdf(F,x)) / (1-β*(1-δ))\n",
    "res_wage(wres; b,λ,δ,β,F::Distribution) = wres - b - β * λ * quadgk(x -> dS(x;F,β,δ),wres,Inf)[1]\n",
    "pars = (;b = -5.,λ = 0.45, δ = 0.03, β=0.99,F = LogNormal(1,1))\n",
    "res_wage(1. ; pars...)"
   ]
  },
  {
   "cell_type": "code",
   "execution_count": 3,
   "metadata": {},
   "outputs": [
    {
     "data": {
      "text/plain": [
       "7.2471320591661295"
      ]
     },
     "metadata": {},
     "output_type": "display_data"
    }
   ],
   "source": [
    "using Optim\n",
    "function solve_res_wage(pars)\n",
    "    (;F) = pars\n",
    "    w_lb = quantile(F,0.001)\n",
    "    w_ub = quantile(F,0.999)\n",
    "    r = optimize(x -> res_wage(x; pars...)^2,w_lb,w_ub)\n",
    "    return r.minimizer\n",
    "end\n",
    "rwage = solve_res_wage(pars)"
   ]
  },
  {
   "cell_type": "markdown",
   "metadata": {},
   "source": [
    "##### **Question 1**"
   ]
  },
  {
   "cell_type": "markdown",
   "metadata": {},
   "source": [
    "**Following your notes from class, write a function that, given a set of parameters, solves for the reservation wage for each unique combination of the variable in X (there are 8 in total).**"
   ]
  },
  {
   "cell_type": "code",
   "execution_count": 33,
   "metadata": {},
   "outputs": [
    {
     "data": {
      "text/html": [
       "<div><div style = \"float: left;\"><span>61364×10 DataFrame</span></div><div style = \"float: right;\"><span style = \"font-style: italic;\">61339 rows omitted</span></div><div style = \"clear: both;\"></div></div><div class = \"data-frame\" style = \"overflow-x: scroll;\"><table class = \"data-frame\" style = \"margin-bottom: 6px;\"><thead><tr class = \"header\"><th class = \"rowNumber\" style = \"font-weight: bold; text-align: right;\">Row</th><th style = \"text-align: left;\">AGE</th><th style = \"text-align: left;\">SEX</th><th style = \"text-align: left;\">RACE</th><th style = \"text-align: left;\">EDUC</th><th style = \"text-align: left;\">wage</th><th style = \"text-align: left;\">E</th><th style = \"text-align: left;\">DURUNEMP</th><th style = \"text-align: left;\">college</th><th style = \"text-align: left;\">nonwhite</th><th style = \"text-align: left;\">demographic</th></tr><tr class = \"subheader headerLastRow\"><th class = \"rowNumber\" style = \"font-weight: bold; text-align: right;\"></th><th title = \"Int64\" style = \"text-align: left;\">Int64</th><th title = \"Int64\" style = \"text-align: left;\">Int64</th><th title = \"Int64\" style = \"text-align: left;\">Int64</th><th title = \"Int64\" style = \"text-align: left;\">Int64</th><th title = \"Union{Missing, Float64}\" style = \"text-align: left;\">Float64?</th><th title = \"Bool\" style = \"text-align: left;\">Bool</th><th title = \"Float64\" style = \"text-align: left;\">Float64</th><th title = \"Int64\" style = \"text-align: left;\">Int64</th><th title = \"Int64\" style = \"text-align: left;\">Int64</th><th title = \"Int64\" style = \"text-align: left;\">Int64</th></tr></thead><tbody><tr><td class = \"rowNumber\" style = \"font-weight: bold; text-align: right;\">1</td><td style = \"text-align: right;\">72</td><td style = \"text-align: right;\">-1</td><td style = \"text-align: right;\">100</td><td style = \"text-align: right;\">81</td><td style = \"font-style: italic; text-align: right;\">missing</td><td style = \"text-align: right;\">true</td><td style = \"text-align: right;\">231.0</td><td style = \"text-align: right;\">0</td><td style = \"text-align: right;\">0</td><td style = \"text-align: right;\">2</td></tr><tr><td class = \"rowNumber\" style = \"font-weight: bold; text-align: right;\">2</td><td style = \"text-align: right;\">66</td><td style = \"text-align: right;\">-1</td><td style = \"text-align: right;\">100</td><td style = \"text-align: right;\">111</td><td style = \"font-style: italic; text-align: right;\">missing</td><td style = \"text-align: right;\">true</td><td style = \"text-align: right;\">231.0</td><td style = \"text-align: right;\">1</td><td style = \"text-align: right;\">0</td><td style = \"text-align: right;\">2</td></tr><tr><td class = \"rowNumber\" style = \"font-weight: bold; text-align: right;\">3</td><td style = \"text-align: right;\">61</td><td style = \"text-align: right;\">0</td><td style = \"text-align: right;\">100</td><td style = \"text-align: right;\">111</td><td style = \"font-style: italic; text-align: right;\">missing</td><td style = \"text-align: right;\">true</td><td style = \"text-align: right;\">231.0</td><td style = \"text-align: right;\">1</td><td style = \"text-align: right;\">0</td><td style = \"text-align: right;\">1</td></tr><tr><td class = \"rowNumber\" style = \"font-weight: bold; text-align: right;\">4</td><td style = \"text-align: right;\">52</td><td style = \"text-align: right;\">0</td><td style = \"text-align: right;\">200</td><td style = \"text-align: right;\">73</td><td style = \"text-align: right;\">20.84</td><td style = \"text-align: right;\">true</td><td style = \"text-align: right;\">231.0</td><td style = \"text-align: right;\">0</td><td style = \"text-align: right;\">1</td><td style = \"text-align: right;\">8</td></tr><tr><td class = \"rowNumber\" style = \"font-weight: bold; text-align: right;\">5</td><td style = \"text-align: right;\">19</td><td style = \"text-align: right;\">0</td><td style = \"text-align: right;\">200</td><td style = \"text-align: right;\">73</td><td style = \"text-align: right;\">10.0</td><td style = \"text-align: right;\">true</td><td style = \"text-align: right;\">231.0</td><td style = \"text-align: right;\">0</td><td style = \"text-align: right;\">1</td><td style = \"text-align: right;\">8</td></tr><tr><td class = \"rowNumber\" style = \"font-weight: bold; text-align: right;\">6</td><td style = \"text-align: right;\">56</td><td style = \"text-align: right;\">0</td><td style = \"text-align: right;\">200</td><td style = \"text-align: right;\">111</td><td style = \"text-align: right;\">25.0</td><td style = \"text-align: right;\">true</td><td style = \"text-align: right;\">231.0</td><td style = \"text-align: right;\">1</td><td style = \"text-align: right;\">1</td><td style = \"text-align: right;\">8</td></tr><tr><td class = \"rowNumber\" style = \"font-weight: bold; text-align: right;\">7</td><td style = \"text-align: right;\">22</td><td style = \"text-align: right;\">0</td><td style = \"text-align: right;\">200</td><td style = \"text-align: right;\">81</td><td style = \"text-align: right;\">9.5</td><td style = \"text-align: right;\">true</td><td style = \"text-align: right;\">231.0</td><td style = \"text-align: right;\">0</td><td style = \"text-align: right;\">1</td><td style = \"text-align: right;\">8</td></tr><tr><td class = \"rowNumber\" style = \"font-weight: bold; text-align: right;\">8</td><td style = \"text-align: right;\">23</td><td style = \"text-align: right;\">0</td><td style = \"text-align: right;\">100</td><td style = \"text-align: right;\">124</td><td style = \"font-style: italic; text-align: right;\">missing</td><td style = \"text-align: right;\">true</td><td style = \"text-align: right;\">231.0</td><td style = \"text-align: right;\">0</td><td style = \"text-align: right;\">0</td><td style = \"text-align: right;\">1</td></tr><tr><td class = \"rowNumber\" style = \"font-weight: bold; text-align: right;\">9</td><td style = \"text-align: right;\">24</td><td style = \"text-align: right;\">0</td><td style = \"text-align: right;\">100</td><td style = \"text-align: right;\">124</td><td style = \"font-style: italic; text-align: right;\">missing</td><td style = \"text-align: right;\">true</td><td style = \"text-align: right;\">231.0</td><td style = \"text-align: right;\">0</td><td style = \"text-align: right;\">0</td><td style = \"text-align: right;\">1</td></tr><tr><td class = \"rowNumber\" style = \"font-weight: bold; text-align: right;\">10</td><td style = \"text-align: right;\">59</td><td style = \"text-align: right;\">0</td><td style = \"text-align: right;\">200</td><td style = \"text-align: right;\">111</td><td style = \"font-style: italic; text-align: right;\">missing</td><td style = \"text-align: right;\">true</td><td style = \"text-align: right;\">231.0</td><td style = \"text-align: right;\">1</td><td style = \"text-align: right;\">1</td><td style = \"text-align: right;\">8</td></tr><tr><td class = \"rowNumber\" style = \"font-weight: bold; text-align: right;\">11</td><td style = \"text-align: right;\">53</td><td style = \"text-align: right;\">-1</td><td style = \"text-align: right;\">200</td><td style = \"text-align: right;\">81</td><td style = \"font-style: italic; text-align: right;\">missing</td><td style = \"text-align: right;\">true</td><td style = \"text-align: right;\">231.0</td><td style = \"text-align: right;\">0</td><td style = \"text-align: right;\">1</td><td style = \"text-align: right;\">8</td></tr><tr><td class = \"rowNumber\" style = \"font-weight: bold; text-align: right;\">12</td><td style = \"text-align: right;\">24</td><td style = \"text-align: right;\">0</td><td style = \"text-align: right;\">200</td><td style = \"text-align: right;\">73</td><td style = \"font-style: italic; text-align: right;\">missing</td><td style = \"text-align: right;\">true</td><td style = \"text-align: right;\">231.0</td><td style = \"text-align: right;\">0</td><td style = \"text-align: right;\">1</td><td style = \"text-align: right;\">8</td></tr><tr><td class = \"rowNumber\" style = \"font-weight: bold; text-align: right;\">13</td><td style = \"text-align: right;\">60</td><td style = \"text-align: right;\">-1</td><td style = \"text-align: right;\">100</td><td style = \"text-align: right;\">124</td><td style = \"font-style: italic; text-align: right;\">missing</td><td style = \"text-align: right;\">true</td><td style = \"text-align: right;\">231.0</td><td style = \"text-align: right;\">0</td><td style = \"text-align: right;\">0</td><td style = \"text-align: right;\">2</td></tr><tr><td style = \"text-align: right;\">&vellip;</td><td style = \"text-align: right;\">&vellip;</td><td style = \"text-align: right;\">&vellip;</td><td style = \"text-align: right;\">&vellip;</td><td style = \"text-align: right;\">&vellip;</td><td style = \"text-align: right;\">&vellip;</td><td style = \"text-align: right;\">&vellip;</td><td style = \"text-align: right;\">&vellip;</td><td style = \"text-align: right;\">&vellip;</td><td style = \"text-align: right;\">&vellip;</td><td style = \"text-align: right;\">&vellip;</td></tr><tr><td class = \"rowNumber\" style = \"font-weight: bold; text-align: right;\">61353</td><td style = \"text-align: right;\">41</td><td style = \"text-align: right;\">-1</td><td style = \"text-align: right;\">100</td><td style = \"text-align: right;\">111</td><td style = \"font-style: italic; text-align: right;\">missing</td><td style = \"text-align: right;\">true</td><td style = \"text-align: right;\">231.0</td><td style = \"text-align: right;\">1</td><td style = \"text-align: right;\">0</td><td style = \"text-align: right;\">2</td></tr><tr><td class = \"rowNumber\" style = \"font-weight: bold; text-align: right;\">61354</td><td style = \"text-align: right;\">41</td><td style = \"text-align: right;\">0</td><td style = \"text-align: right;\">100</td><td style = \"text-align: right;\">73</td><td style = \"font-style: italic; text-align: right;\">missing</td><td style = \"text-align: right;\">true</td><td style = \"text-align: right;\">231.0</td><td style = \"text-align: right;\">0</td><td style = \"text-align: right;\">0</td><td style = \"text-align: right;\">1</td></tr><tr><td class = \"rowNumber\" style = \"font-weight: bold; text-align: right;\">61355</td><td style = \"text-align: right;\">38</td><td style = \"text-align: right;\">-1</td><td style = \"text-align: right;\">100</td><td style = \"text-align: right;\">73</td><td style = \"font-style: italic; text-align: right;\">missing</td><td style = \"text-align: right;\">true</td><td style = \"text-align: right;\">231.0</td><td style = \"text-align: right;\">0</td><td style = \"text-align: right;\">0</td><td style = \"text-align: right;\">2</td></tr><tr><td class = \"rowNumber\" style = \"font-weight: bold; text-align: right;\">61356</td><td style = \"text-align: right;\">29</td><td style = \"text-align: right;\">0</td><td style = \"text-align: right;\">100</td><td style = \"text-align: right;\">73</td><td style = \"font-style: italic; text-align: right;\">missing</td><td style = \"text-align: right;\">true</td><td style = \"text-align: right;\">231.0</td><td style = \"text-align: right;\">0</td><td style = \"text-align: right;\">0</td><td style = \"text-align: right;\">1</td></tr><tr><td class = \"rowNumber\" style = \"font-weight: bold; text-align: right;\">61357</td><td style = \"text-align: right;\">71</td><td style = \"text-align: right;\">0</td><td style = \"text-align: right;\">100</td><td style = \"text-align: right;\">73</td><td style = \"text-align: right;\">12.0</td><td style = \"text-align: right;\">true</td><td style = \"text-align: right;\">231.0</td><td style = \"text-align: right;\">0</td><td style = \"text-align: right;\">0</td><td style = \"text-align: right;\">1</td></tr><tr><td class = \"rowNumber\" style = \"font-weight: bold; text-align: right;\">61358</td><td style = \"text-align: right;\">45</td><td style = \"text-align: right;\">-1</td><td style = \"text-align: right;\">100</td><td style = \"text-align: right;\">92</td><td style = \"text-align: right;\">21.25</td><td style = \"text-align: right;\">true</td><td style = \"text-align: right;\">231.0</td><td style = \"text-align: right;\">0</td><td style = \"text-align: right;\">0</td><td style = \"text-align: right;\">2</td></tr><tr><td class = \"rowNumber\" style = \"font-weight: bold; text-align: right;\">61359</td><td style = \"text-align: right;\">41</td><td style = \"text-align: right;\">-1</td><td style = \"text-align: right;\">100</td><td style = \"text-align: right;\">73</td><td style = \"font-style: italic; text-align: right;\">missing</td><td style = \"text-align: right;\">true</td><td style = \"text-align: right;\">231.0</td><td style = \"text-align: right;\">0</td><td style = \"text-align: right;\">0</td><td style = \"text-align: right;\">2</td></tr><tr><td class = \"rowNumber\" style = \"font-weight: bold; text-align: right;\">61360</td><td style = \"text-align: right;\">42</td><td style = \"text-align: right;\">-1</td><td style = \"text-align: right;\">100</td><td style = \"text-align: right;\">111</td><td style = \"font-style: italic; text-align: right;\">missing</td><td style = \"text-align: right;\">true</td><td style = \"text-align: right;\">231.0</td><td style = \"text-align: right;\">1</td><td style = \"text-align: right;\">0</td><td style = \"text-align: right;\">2</td></tr><tr><td class = \"rowNumber\" style = \"font-weight: bold; text-align: right;\">61361</td><td style = \"text-align: right;\">43</td><td style = \"text-align: right;\">0</td><td style = \"text-align: right;\">100</td><td style = \"text-align: right;\">123</td><td style = \"font-style: italic; text-align: right;\">missing</td><td style = \"text-align: right;\">true</td><td style = \"text-align: right;\">231.0</td><td style = \"text-align: right;\">1</td><td style = \"text-align: right;\">0</td><td style = \"text-align: right;\">1</td></tr><tr><td class = \"rowNumber\" style = \"font-weight: bold; text-align: right;\">61362</td><td style = \"text-align: right;\">17</td><td style = \"text-align: right;\">-1</td><td style = \"text-align: right;\">100</td><td style = \"text-align: right;\">60</td><td style = \"font-style: italic; text-align: right;\">missing</td><td style = \"text-align: right;\">true</td><td style = \"text-align: right;\">231.0</td><td style = \"text-align: right;\">0</td><td style = \"text-align: right;\">0</td><td style = \"text-align: right;\">2</td></tr><tr><td class = \"rowNumber\" style = \"font-weight: bold; text-align: right;\">61363</td><td style = \"text-align: right;\">32</td><td style = \"text-align: right;\">0</td><td style = \"text-align: right;\">100</td><td style = \"text-align: right;\">81</td><td style = \"font-style: italic; text-align: right;\">missing</td><td style = \"text-align: right;\">true</td><td style = \"text-align: right;\">231.0</td><td style = \"text-align: right;\">0</td><td style = \"text-align: right;\">0</td><td style = \"text-align: right;\">1</td></tr><tr><td class = \"rowNumber\" style = \"font-weight: bold; text-align: right;\">61364</td><td style = \"text-align: right;\">30</td><td style = \"text-align: right;\">0</td><td style = \"text-align: right;\">100</td><td style = \"text-align: right;\">81</td><td style = \"font-style: italic; text-align: right;\">missing</td><td style = \"text-align: right;\">true</td><td style = \"text-align: right;\">231.0</td><td style = \"text-align: right;\">0</td><td style = \"text-align: right;\">0</td><td style = \"text-align: right;\">1</td></tr></tbody></table></div>"
      ],
      "text/latex": [
       "\\begin{tabular}{r|cccccccccc}\n",
       "\t& AGE & SEX & RACE & EDUC & wage & E & DURUNEMP & college & nonwhite & demographic\\\\\n",
       "\t\\hline\n",
       "\t& Int64 & Int64 & Int64 & Int64 & Float64? & Bool & Float64 & Int64 & Int64 & Int64\\\\\n",
       "\t\\hline\n",
       "\t1 & 72 & -1 & 100 & 81 & \\emph{missing} & 1 & 231.0 & 0 & 0 & 2 \\\\\n",
       "\t2 & 66 & -1 & 100 & 111 & \\emph{missing} & 1 & 231.0 & 1 & 0 & 2 \\\\\n",
       "\t3 & 61 & 0 & 100 & 111 & \\emph{missing} & 1 & 231.0 & 1 & 0 & 1 \\\\\n",
       "\t4 & 52 & 0 & 200 & 73 & 20.84 & 1 & 231.0 & 0 & 1 & 8 \\\\\n",
       "\t5 & 19 & 0 & 200 & 73 & 10.0 & 1 & 231.0 & 0 & 1 & 8 \\\\\n",
       "\t6 & 56 & 0 & 200 & 111 & 25.0 & 1 & 231.0 & 1 & 1 & 8 \\\\\n",
       "\t7 & 22 & 0 & 200 & 81 & 9.5 & 1 & 231.0 & 0 & 1 & 8 \\\\\n",
       "\t8 & 23 & 0 & 100 & 124 & \\emph{missing} & 1 & 231.0 & 0 & 0 & 1 \\\\\n",
       "\t9 & 24 & 0 & 100 & 124 & \\emph{missing} & 1 & 231.0 & 0 & 0 & 1 \\\\\n",
       "\t10 & 59 & 0 & 200 & 111 & \\emph{missing} & 1 & 231.0 & 1 & 1 & 8 \\\\\n",
       "\t11 & 53 & -1 & 200 & 81 & \\emph{missing} & 1 & 231.0 & 0 & 1 & 8 \\\\\n",
       "\t12 & 24 & 0 & 200 & 73 & \\emph{missing} & 1 & 231.0 & 0 & 1 & 8 \\\\\n",
       "\t13 & 60 & -1 & 100 & 124 & \\emph{missing} & 1 & 231.0 & 0 & 0 & 2 \\\\\n",
       "\t14 & 57 & 0 & 100 & 123 & \\emph{missing} & 1 & 231.0 & 1 & 0 & 1 \\\\\n",
       "\t15 & 50 & 0 & 200 & 73 & \\emph{missing} & 0 & 4.0 & 0 & 1 & 8 \\\\\n",
       "\t16 & 18 & -1 & 200 & 81 & \\emph{missing} & 1 & 231.0 & 0 & 1 & 8 \\\\\n",
       "\t17 & 29 & -1 & 200 & 50 & \\emph{missing} & 1 & 231.0 & 0 & 1 & 8 \\\\\n",
       "\t18 & 53 & 0 & 200 & 91 & \\emph{missing} & 1 & 231.0 & 0 & 1 & 8 \\\\\n",
       "\t19 & 48 & -1 & 100 & 73 & 17.0 & 1 & 231.0 & 0 & 0 & 2 \\\\\n",
       "\t20 & 59 & -1 & 200 & 50 & \\emph{missing} & 0 & 15.0 & 0 & 1 & 8 \\\\\n",
       "\t21 & 72 & -1 & 100 & 123 & \\emph{missing} & 1 & 231.0 & 1 & 0 & 2 \\\\\n",
       "\t22 & 72 & 0 & 100 & 123 & \\emph{missing} & 1 & 231.0 & 1 & 0 & 1 \\\\\n",
       "\t23 & 27 & 0 & 200 & 81 & \\emph{missing} & 0 & 1.0 & 0 & 1 & 8 \\\\\n",
       "\t24 & 27 & -1 & 200 & 81 & \\emph{missing} & 1 & 231.0 & 0 & 1 & 8 \\\\\n",
       "\t$\\dots$ & $\\dots$ & $\\dots$ & $\\dots$ & $\\dots$ & $\\dots$ & $\\dots$ & $\\dots$ & $\\dots$ & $\\dots$ & $\\dots$ \\\\\n",
       "\\end{tabular}\n"
      ],
      "text/plain": [
       "\u001b[1m61364×10 DataFrame\u001b[0m\n",
       "\u001b[1m   Row \u001b[0m│\u001b[1m AGE   \u001b[0m\u001b[1m SEX   \u001b[0m\u001b[1m RACE  \u001b[0m\u001b[1m EDUC  \u001b[0m\u001b[1m wage       \u001b[0m\u001b[1m E    \u001b[0m\u001b[1m DURUNEMP \u001b[0m\u001b[1m college \u001b[0m\u001b[1m nonw\u001b[0m ⋯\n",
       "       │\u001b[90m Int64 \u001b[0m\u001b[90m Int64 \u001b[0m\u001b[90m Int64 \u001b[0m\u001b[90m Int64 \u001b[0m\u001b[90m Float64?   \u001b[0m\u001b[90m Bool \u001b[0m\u001b[90m Float64  \u001b[0m\u001b[90m Int64   \u001b[0m\u001b[90m Int6\u001b[0m ⋯\n",
       "───────┼────────────────────────────────────────────────────────────────────────\n",
       "     1 │    72     -1    100     81 \u001b[90m missing    \u001b[0m true     231.0        0       ⋯\n",
       "     2 │    66     -1    100    111 \u001b[90m missing    \u001b[0m true     231.0        1\n",
       "     3 │    61      0    100    111 \u001b[90m missing    \u001b[0m true     231.0        1\n",
       "     4 │    52      0    200     73       20.84  true     231.0        0\n",
       "     5 │    19      0    200     73       10.0   true     231.0        0       ⋯\n",
       "     6 │    56      0    200    111       25.0   true     231.0        1\n",
       "     7 │    22      0    200     81        9.5   true     231.0        0\n",
       "     8 │    23      0    100    124 \u001b[90m missing    \u001b[0m true     231.0        0\n",
       "   ⋮   │   ⋮      ⋮      ⋮      ⋮        ⋮        ⋮       ⋮         ⋮        ⋮ ⋱\n",
       " 61358 │    45     -1    100     92       21.25  true     231.0        0       ⋯\n",
       " 61359 │    41     -1    100     73 \u001b[90m missing    \u001b[0m true     231.0        0\n",
       " 61360 │    42     -1    100    111 \u001b[90m missing    \u001b[0m true     231.0        1\n",
       " 61361 │    43      0    100    123 \u001b[90m missing    \u001b[0m true     231.0        1\n",
       " 61362 │    17     -1    100     60 \u001b[90m missing    \u001b[0m true     231.0        0       ⋯\n",
       " 61363 │    32      0    100     81 \u001b[90m missing    \u001b[0m true     231.0        0\n",
       " 61364 │    30      0    100     81 \u001b[90m missing    \u001b[0m true     231.0        0\n",
       "\u001b[36m                                                2 columns and 61349 rows omitted\u001b[0m"
      ]
     },
     "metadata": {},
     "output_type": "display_data"
    }
   ],
   "source": [
    "data = @chain data begin\n",
    "    @transform(:college = Int.((:EDUC .== 110) .| (:EDUC .== 111) .| (:EDUC .== 120) .| (:EDUC .== 121) .| (:EDUC .== 122) .| (:EDUC .== 123)))\n",
    "    @transform(:nonwhite = Int.(:RACE .!= 100))\n",
    "    @transform(:SEX = :SEX .- 1)\n",
    "    @transform(:demographic = ifelse.(:nonwhite .== 0 .& :college .== 1 .& :SEX .== 0, 1,\n",
    "                            ifelse.(:nonwhite .== 0 .& :college .== 0 .& :SEX .== 0, 2,\n",
    "                            ifelse.(:nonwhite .== 0 .& :college .== 1 .& :SEX .== 1, 3,\n",
    "                            ifelse.(:nonwhite .== 0 .& :college .== 0 .& :SEX .== 1, 4,\n",
    "                            ifelse.(:nonwhite .== 1 .& :college .== 1 .& :SEX .== 0, 5,\n",
    "                            ifelse.(:nonwhite .== 1 .& :college .== 0 .& :SEX .== 0, 6,\n",
    "                            ifelse.(:nonwhite .== 1 .& :college .== 1 .& :SEX .== 1, 7, 8))))))))\n",
    "end"
   ]
  },
  {
   "cell_type": "code",
   "execution_count": 35,
   "metadata": {},
   "outputs": [
    {
     "data": {
      "text/plain": [
       "(logwage = [0.0, 0.0, 0.0, 3.0368742168851663, 2.302585092994046, 3.2188758248682006, 2.2512917986064953, 0.0, 0.0, 0.0  …  0.0, 0.0, 2.4849066497880004, 3.056356895370426, 0.0, 0.0, 0.0, 0.0, 0.0, 0.0], wage_missing = Bool[1, 1, 1, 0, 0, 0, 0, 1, 1, 1  …  1, 1, 0, 0, 1, 1, 1, 1, 1, 1], E = Bool[1, 1, 1, 1, 1, 1, 1, 1, 1, 1  …  1, 1, 1, 1, 1, 1, 1, 1, 1, 1], demographic = [2, 2, 1, 8, 8, 8, 8, 1, 1, 8  …  2, 1, 1, 2, 2, 2, 1, 2, 1, 1])"
      ]
     },
     "metadata": {},
     "output_type": "display_data"
    }
   ],
   "source": [
    "wage_missing = ismissing.(data.wage) ## Boolean vector of missing values\n",
    "wage = coalesce.(data.wage,1.) ## Replace missing values with 1\n",
    "## Create dictionary of necessary variables\n",
    "### logwage, missing wages, employment status, demographic\n",
    "d = (;logwage = log.(wage), wage_missing, E = data.E, demographic = data.demographic)"
   ]
  },
  {
   "cell_type": "markdown",
   "metadata": {},
   "source": [
    "# Work in progress from here onwards"
   ]
  },
  {
   "cell_type": "markdown",
   "metadata": {},
   "source": [
    "First, let us create a `NamedTuple` for each different demographic category. This will allow us to update the parameters for each different demographic category separately."
   ]
  },
  {
   "cell_type": "code",
   "execution_count": 3,
   "metadata": {},
   "outputs": [
    {
     "data": {
      "text/plain": [
       "(γb = 1.0, γδ = 0.03, γλ = 0.45, γμ = 0.1, γσ = 0.5, σζ = 0.5, β = 0.99, F = LogNormal{Float64}(μ=0.1, σ=0.5))"
      ]
     },
     "metadata": {},
     "output_type": "display_data"
    }
   ],
   "source": [
    "using Distributions\n",
    "\n",
    "# White men, college #\n",
    "\n",
    "w_m_c_params = (;γb = 1., # unemployment benefits\n",
    "                γδ = 0.03, # job destruction rate\n",
    "                γλ = 0.45, # job finding rate\n",
    "                γμ = 0.1, # mean of the wage distribution\n",
    "                γσ = 0.5, # standard deviation of the wage distribution\n",
    "                σζ = 0.5, # standard deviation of the wage measurement error\n",
    "                β = 0.99, # discount factor\n",
    "                F = LogNormal(0.1,0.5)) # wage distribution\n",
    "\n",
    "# White men, non-college #\n",
    "\n",
    "w_m_nc_params = (;γb = 1., # unemployment benefits\n",
    "                γδ = 0.03, # job destruction rate\n",
    "                γλ = 0.45, # job finding rate\n",
    "                γμ = 0.1, # mean of the wage distribution\n",
    "                γσ = 0.5, # standard deviation of the wage distribution\n",
    "                σζ = 0.5, # standard deviation of the wage measurement error\n",
    "                β = 0.99, # discount factor\n",
    "                F = LogNormal(0.1,0.5)) # wage distribution\n",
    "\n",
    "# White women, college #\n",
    "\n",
    "w_w_c_params = (;γb = 1., # unemployment benefits\n",
    "                γδ = 0.03, # job destruction rate\n",
    "                γλ = 0.45, # job finding rate\n",
    "                γμ = 0.1, # mean of the wage distribution\n",
    "                γσ = 0.5, # standard deviation of the wage distribution\n",
    "                σζ = 0.5, # standard deviation of the wage measurement error\n",
    "                β = 0.99, # discount factor\n",
    "                F = LogNormal(0.1,0.5)) # wage distribution\n",
    "\n",
    "# White women, non-college #\n",
    "\n",
    "w_w_nc_params = (;γb = 1., # unemployment benefits\n",
    "                γδ = 0.03, # job destruction rate\n",
    "                γλ = 0.45, # job finding rate\n",
    "                γμ = 0.1, # mean of the wage distribution\n",
    "                γσ = 0.5, # standard deviation of the wage distribution\n",
    "                σζ = 0.5, # standard deviation of the wage measurement error\n",
    "                β = 0.99, # discount factor\n",
    "                F = LogNormal(0.1,0.5)) # wage distribution\n",
    "\n",
    "# Non-white men, college #\n",
    "\n",
    "nw_m_c_params = (;γb = 1., # unemployment benefits\n",
    "                γδ = 0.03, # job destruction rate\n",
    "                γλ = 0.45, # job finding rate\n",
    "                γμ = 0.1, # mean of the wage distribution\n",
    "                γσ = 0.5, # standard deviation of the wage distribution\n",
    "                σζ = 0.5, # standard deviation of the wage measurement error\n",
    "                β = 0.99, # discount factor\n",
    "                F = LogNormal(0.1,0.5)) # wage distribution\n",
    "\n",
    "# Non-white men, non-college #\n",
    "\n",
    "nw_m_nc_params = (;γb = 1., # unemployment benefits\n",
    "                γδ = 0.03, # job destruction rate\n",
    "                γλ = 0.45, # job finding rate\n",
    "                γμ = 0.1, # mean of the wage distribution\n",
    "                γσ = 0.5, # standard deviation of the wage distribution\n",
    "                σζ = 0.5, # standard deviation of the wage measurement error\n",
    "                β = 0.99, # discount factor\n",
    "                F = LogNormal(0.1,0.5)) # wage distribution\n",
    "\n",
    "# Non-white women, college # \n",
    "\n",
    "nw_w_c_params = (;γb = 1., # unemployment benefits\n",
    "                γδ = 0.03, # job destruction rate\n",
    "                γλ = 0.45, # job finding rate\n",
    "                γμ = 0.1, # mean of the wage distribution\n",
    "                γσ = 0.5, # standard deviation of the wage distribution\n",
    "                σζ = 0.5, # standard deviation of the wage measurement error\n",
    "                β = 0.99, # discount factor\n",
    "                F = LogNormal(0.1,0.5)) # wage distribution\n",
    "\n",
    "# Non-white women, non-college #\n",
    "\n",
    "nw_w_nc_params = (;γb = 1., # unemployment benefits\n",
    "                γδ = 0.03, # job destruction rate\n",
    "                γλ = 0.45, # job finding rate\n",
    "                γμ = 0.1, # mean of the wage distribution\n",
    "                γσ = 0.5, # standard deviation of the wage distribution\n",
    "                σζ = 0.5, # standard deviation of the wage measurement error\n",
    "                β = 0.99, # discount factor\n",
    "                F = LogNormal(0.1,0.5)) # wage distribution"
   ]
  },
  {
   "cell_type": "code",
   "execution_count": 25,
   "metadata": {},
   "outputs": [
    {
     "data": {
      "text/plain": [
       "(γb = 0.2, γδ = 0.5, γλ = 0.7, γμ = 0.9, γσ = 1.1, σζ = 0.8, β = 0.99, F = LogNormal{Float64}(μ=0.9, σ=1.1))"
      ]
     },
     "metadata": {},
     "output_type": "display_data"
    }
   ],
   "source": [
    "function update!(params::NamedTuple) ### update parameters, needs changing once we have log-likelihood\n",
    "    (; γb, γδ, γλ, γμ, γσ, σζ, β, F) = params\n",
    "    γb = 0.2\n",
    "    γδ = 0.5\n",
    "    γλ = 0.7\n",
    "    γμ = 0.9\n",
    "    γσ = 1.1\n",
    "    σζ = 0.8\n",
    "    β = 0.99\n",
    "    F = LogNormal(γμ, γσ)\n",
    "    return return (; γb, γδ, γλ, γμ, γσ, σζ, β, F)\n",
    "end\n",
    "\n",
    "update!(w_m_c_params) ### test of the update function"
   ]
  },
  {
   "cell_type": "code",
   "execution_count": 28,
   "metadata": {},
   "outputs": [
    {
     "data": {
      "text/plain": [
       "1.924445520908056"
      ]
     },
     "metadata": {},
     "output_type": "display_data"
    }
   ],
   "source": [
    "using Optim, QuadGK\n",
    "\n",
    "dS(x;params) = (1-cdf(params.F,x)) / (1-params.β*(1-params.γδ))\n",
    "res_wage(wres; params) = wres - params.γb - params.β * params.γλ * quadgk(x -> dS(x; params), wres, Inf)[1]\n",
    "\n",
    "\n",
    "function solve_res_wage(params)\n",
    "   (;γb, γδ, γλ, γμ, γσ, σζ, β, F) = params\n",
    "    w_lb = quantile(F,0.001)\n",
    "    w_ub = quantile(F,0.999)\n",
    "    r = optimize(x -> res_wage(x; params)^2, w_lb, w_ub)\n",
    "    return r.minimizer\n",
    "end\n",
    "\n",
    "solve_res_wage(w_m_c_params) ### test of the solve_res_wage function"
   ]
  },
  {
   "cell_type": "markdown",
   "metadata": {},
   "source": [
    "##### **Question 2**"
   ]
  },
  {
   "cell_type": "markdown",
   "metadata": {},
   "source": [
    "**Write a function that takes a single observation from the cross-section and calculates the log-likelihood of that observation given the model solution, current parameters, and observables, $X_n$. Show the output from a function call to prove that it works, then use the ``` @time ``` macro to test how long it takes.**"
   ]
  },
  {
   "cell_type": "markdown",
   "metadata": {},
   "source": [
    "##### *Hint*: "
   ]
  },
  {
   "cell_type": "markdown",
   "metadata": {},
   "source": [
    "**Relative to your notes in class, you will need to integrate out the measurement error here for wages. Letting $\\phi(x;\\mu,\\sigma)$ be the normal pdf with mean $\\mu$ and standard error $\\sigma$, the likelihood of observing a wage $W^o$ will be:**\n",
    "$$\n",
    "f(W^o|E,X) = \\int_{w*} \\frac{\\phi(\\log(w);\\mu(X),\\sigma(X))}{1-\\Phi(log(w^*);\\mu(X),\\sigma(X))}\\phi(\\log(W^o)-w;\\sigma_{\\zeta}) dw\n",
    "$$"
   ]
  },
  {
   "cell_type": "markdown",
   "metadata": {},
   "source": [
    "**You will want to use a package like `QuadGK` to evaluate this integral numerically.**"
   ]
  },
  {
   "cell_type": "code",
   "execution_count": 53,
   "metadata": {},
   "outputs": [
    {
     "data": {
      "text/plain": [
       "calculate_density (generic function with 1 method)"
      ]
     },
     "metadata": {},
     "output_type": "display_data"
    }
   ],
   "source": [
    "function calculate_density(logwage, wres, params)\n",
    "    (;γb, γδ, γλ, γμ, γσ, σζ, β, F) = params\n",
    "    integrand = (w) -> pdf(Normal(γμ, γσ), log(w)) / (1 - cdf(Normal(γμ, γσ), log(wres))) * pdf(Normal(0, σζ), logwage - log(w))\n",
    "    density = quadgk(integrand, wres, Inf)[1]\n",
    "    return density\n",
    "end"
   ]
  },
  {
   "cell_type": "code",
   "execution_count": 56,
   "metadata": {},
   "outputs": [
    {
     "data": {
      "text/plain": [
       "log_likelihood_single_observation (generic function with 1 method)"
      ]
     },
     "metadata": {},
     "output_type": "display_data"
    }
   ],
   "source": [
    "function log_likelihood_single_observation(d, i, params)\n",
    "    # Extract the i-th elements from the dictionary\n",
    "    logwage = d.logwage[i]\n",
    "    wage_missing = d.wage_missing[i]\n",
    "    # If the wage data is missing, return a log-likelihood of 0\n",
    "    if wage_missing\n",
    "        return 0.0\n",
    "    end\n",
    "    # Calculate the reservation wage\n",
    "    wres = solve_res_wage(params)\n",
    "    # Calculate the density of the observed wage given the reservation wage and other parameters\n",
    "    density = calculate_density(logwage, wres, params)\n",
    "    # Take the natural log of the density\n",
    "    ll = log(density)\n",
    "    return ll\n",
    "end"
   ]
  },
  {
   "cell_type": "code",
   "execution_count": 61,
   "metadata": {},
   "outputs": [
    {
     "name": "stdout",
     "output_type": "stream",
     "text": [
      "  0.000133 seconds (33 allocations: 5.562 KiB)\n"
     ]
    },
    {
     "data": {
      "text/plain": [
       "-4.589271534806701"
      ]
     },
     "metadata": {},
     "output_type": "display_data"
    }
   ],
   "source": [
    "### Note that I choose observation 900 as a test case because it has a non-missing wage value\n",
    "@time begin\n",
    "log_likelihood_single_observation(d, 900, w_m_c_params) ### test of the log_likelihood_single_observation function\n",
    "end"
   ]
  },
  {
   "cell_type": "markdown",
   "metadata": {},
   "source": [
    "##### **Question 3**"
   ]
  },
  {
   "cell_type": "markdown",
   "metadata": {},
   "source": [
    "**Write a function that iterates over every observation in the data and calculates the log-likelihood of the data given parameters.**"
   ]
  },
  {
   "cell_type": "markdown",
   "metadata": {},
   "source": [
    "#### *Hint*: "
   ]
  },
  {
   "cell_type": "markdown",
   "metadata": {},
   "source": [
    "**You may find that these functions work faster if you pull the data you need out of the `DataFrame` format and save it as arrays or vectors with known type. For example, I would recommend creating a flag for missing wage data and a default value for those missing wages, and iterating over those objects.**"
   ]
  },
  {
   "cell_type": "code",
   "execution_count": 1,
   "metadata": {},
   "outputs": [
    {
     "data": {
      "text/plain": [
       "log_likelihood (generic function with 1 method)"
      ]
     },
     "metadata": {},
     "output_type": "display_data"
    }
   ],
   "source": [
    "function log_likelihood(params)\n",
    "    # Initialise the log-likelihood\n",
    "    log_likelihood_val = 0.0\n",
    "    # Loop over the observations\n",
    "    for i in 1:length(d.logwage)\n",
    "        # Add the log-likelihood contribution of each observation to the total log-likelihood\n",
    "        log_likelihood_val += log_likelihood_single_observation(d, i, params)\n",
    "    end\n",
    "    return log_likelihood_val\n",
    "end\n"
   ]
  },
  {
   "cell_type": "code",
   "execution_count": 5,
   "metadata": {},
   "outputs": [
    {
     "ename": "UndefVarError",
     "evalue": "UndefVarError: `d` not defined",
     "output_type": "error",
     "traceback": [
      "UndefVarError: `d` not defined\n",
      "\n",
      "Stacktrace:\n",
      " [1] log_likelihood(params::@NamedTuple{γb::Float64, γδ::Float64, γλ::Float64, γμ::Float64, γσ::Float64, σζ::Float64, β::Float64, F::LogNormal{Float64}})\n",
      "   @ Main c:\\Users\\bayle\\Documents\\Github\\metrics\\hw2\\hw2.ipynb:5\n",
      " [2] top-level scope\n",
      "   @ c:\\Users\\bayle\\Documents\\Github\\metrics\\hw2\\hw2.ipynb:1"
     ]
    }
   ],
   "source": [
    "log_likelihood(w_m_c_params) ### test of the log_likelihood function"
   ]
  }
 ],
 "metadata": {
  "kernelspec": {
   "display_name": "Julia 1.10.1",
   "language": "julia",
   "name": "julia-1.10"
  },
  "language_info": {
   "file_extension": ".jl",
   "mimetype": "application/julia",
   "name": "julia",
   "version": "1.10.1"
  }
 },
 "nbformat": 4,
 "nbformat_minor": 2
}
